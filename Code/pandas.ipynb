{
  "nbformat": 4,
  "nbformat_minor": 0,
  "metadata": {
    "colab": {
      "name": "pandas.ipynb",
      "provenance": [],
      "collapsed_sections": [],
      "authorship_tag": "ABX9TyO+z9QO56d5anbbjHIotibR",
      "include_colab_link": true
    },
    "kernelspec": {
      "name": "python3",
      "display_name": "Python 3"
    },
    "language_info": {
      "name": "python"
    }
  },
  "cells": [
    {
      "cell_type": "markdown",
      "metadata": {
        "id": "view-in-github",
        "colab_type": "text"
      },
      "source": [
        "<a href=\"https://colab.research.google.com/github/Rohit-Thakre/Machine-Learning-/blob/main/Code/pandas.ipynb\" target=\"_parent\"><img src=\"https://colab.research.google.com/assets/colab-badge.svg\" alt=\"Open In Colab\"/></a>"
      ]
    },
    {
      "cell_type": "code",
      "metadata": {
        "id": "-Fw5XsVwbu-C"
      },
      "source": [
        "import numpy as np\n",
        "import pandas as pd\n",
        "import matplotlib.pyplot as plt"
      ],
      "execution_count": 90,
      "outputs": []
    },
    {
      "cell_type": "code",
      "metadata": {
        "id": "0dVMrNg6BtOr"
      },
      "source": [
        "link = 'https://raw.githubusercontent.com/Scorpion08/PokeData/master/Pokedex.csv'"
      ],
      "execution_count": 91,
      "outputs": []
    },
    {
      "cell_type": "code",
      "metadata": {
        "colab": {
          "base_uri": "https://localhost:8080/",
          "height": 235
        },
        "id": "HaborsUjBsHo",
        "outputId": "4f119484-6636-41ff-dbeb-f00b9252d0ba"
      },
      "source": [
        "df = pd.read_csv(link, index_col = '#')\n",
        "df.head()"
      ],
      "execution_count": 92,
      "outputs": [
        {
          "output_type": "execute_result",
          "data": {
            "text/html": [
              "<div>\n",
              "<style scoped>\n",
              "    .dataframe tbody tr th:only-of-type {\n",
              "        vertical-align: middle;\n",
              "    }\n",
              "\n",
              "    .dataframe tbody tr th {\n",
              "        vertical-align: top;\n",
              "    }\n",
              "\n",
              "    .dataframe thead th {\n",
              "        text-align: right;\n",
              "    }\n",
              "</style>\n",
              "<table border=\"1\" class=\"dataframe\">\n",
              "  <thead>\n",
              "    <tr style=\"text-align: right;\">\n",
              "      <th></th>\n",
              "      <th>Name</th>\n",
              "      <th>Type 1</th>\n",
              "      <th>Type 2</th>\n",
              "      <th>Total</th>\n",
              "      <th>HP</th>\n",
              "      <th>Attack</th>\n",
              "      <th>Defense</th>\n",
              "      <th>Sp. Atk</th>\n",
              "      <th>Sp. Def</th>\n",
              "      <th>Speed</th>\n",
              "      <th>Generation</th>\n",
              "      <th>Mithical</th>\n",
              "      <th>Legendary</th>\n",
              "    </tr>\n",
              "    <tr>\n",
              "      <th>#</th>\n",
              "      <th></th>\n",
              "      <th></th>\n",
              "      <th></th>\n",
              "      <th></th>\n",
              "      <th></th>\n",
              "      <th></th>\n",
              "      <th></th>\n",
              "      <th></th>\n",
              "      <th></th>\n",
              "      <th></th>\n",
              "      <th></th>\n",
              "      <th></th>\n",
              "      <th></th>\n",
              "    </tr>\n",
              "  </thead>\n",
              "  <tbody>\n",
              "    <tr>\n",
              "      <th>1</th>\n",
              "      <td>Bulbasaur</td>\n",
              "      <td>Grass</td>\n",
              "      <td>Poison</td>\n",
              "      <td>318</td>\n",
              "      <td>45</td>\n",
              "      <td>49</td>\n",
              "      <td>49</td>\n",
              "      <td>65</td>\n",
              "      <td>65</td>\n",
              "      <td>45</td>\n",
              "      <td>1</td>\n",
              "      <td>False</td>\n",
              "      <td>False</td>\n",
              "    </tr>\n",
              "    <tr>\n",
              "      <th>2</th>\n",
              "      <td>Ivysaur</td>\n",
              "      <td>Grass</td>\n",
              "      <td>Poison</td>\n",
              "      <td>405</td>\n",
              "      <td>60</td>\n",
              "      <td>62</td>\n",
              "      <td>63</td>\n",
              "      <td>80</td>\n",
              "      <td>80</td>\n",
              "      <td>60</td>\n",
              "      <td>1</td>\n",
              "      <td>False</td>\n",
              "      <td>False</td>\n",
              "    </tr>\n",
              "    <tr>\n",
              "      <th>3</th>\n",
              "      <td>Venusaur</td>\n",
              "      <td>Grass</td>\n",
              "      <td>Poison</td>\n",
              "      <td>525</td>\n",
              "      <td>80</td>\n",
              "      <td>82</td>\n",
              "      <td>83</td>\n",
              "      <td>100</td>\n",
              "      <td>100</td>\n",
              "      <td>80</td>\n",
              "      <td>1</td>\n",
              "      <td>False</td>\n",
              "      <td>False</td>\n",
              "    </tr>\n",
              "    <tr>\n",
              "      <th>3</th>\n",
              "      <td>VenusaurMega Venusaur</td>\n",
              "      <td>Grass</td>\n",
              "      <td>Poison</td>\n",
              "      <td>625</td>\n",
              "      <td>80</td>\n",
              "      <td>100</td>\n",
              "      <td>123</td>\n",
              "      <td>122</td>\n",
              "      <td>120</td>\n",
              "      <td>80</td>\n",
              "      <td>1</td>\n",
              "      <td>False</td>\n",
              "      <td>False</td>\n",
              "    </tr>\n",
              "    <tr>\n",
              "      <th>4</th>\n",
              "      <td>Charmander</td>\n",
              "      <td>Fire</td>\n",
              "      <td>NaN</td>\n",
              "      <td>309</td>\n",
              "      <td>39</td>\n",
              "      <td>52</td>\n",
              "      <td>43</td>\n",
              "      <td>60</td>\n",
              "      <td>50</td>\n",
              "      <td>65</td>\n",
              "      <td>1</td>\n",
              "      <td>False</td>\n",
              "      <td>False</td>\n",
              "    </tr>\n",
              "  </tbody>\n",
              "</table>\n",
              "</div>"
            ],
            "text/plain": [
              "                    Name Type 1  Type 2  ...  Generation  Mithical  Legendary\n",
              "#                                        ...                                 \n",
              "1              Bulbasaur  Grass  Poison  ...           1     False      False\n",
              "2                Ivysaur  Grass  Poison  ...           1     False      False\n",
              "3               Venusaur  Grass  Poison  ...           1     False      False\n",
              "3  VenusaurMega Venusaur  Grass  Poison  ...           1     False      False\n",
              "4             Charmander   Fire     NaN  ...           1     False      False\n",
              "\n",
              "[5 rows x 13 columns]"
            ]
          },
          "metadata": {},
          "execution_count": 92
        }
      ]
    },
    {
      "cell_type": "markdown",
      "metadata": {
        "id": "xmhczzOlG-5o"
      },
      "source": [
        "#renaming column names "
      ]
    },
    {
      "cell_type": "code",
      "metadata": {
        "colab": {
          "base_uri": "https://localhost:8080/",
          "height": 449
        },
        "id": "z-Bu01uocz1Z",
        "outputId": "5e9381fc-e98f-47f2-afe7-b092c2f0829c"
      },
      "source": [
        "df.rename(columns={\"Name\":\"Test\", \"Type 1\": \"Test 1\", \"Type 2\": \"Test 2\"})"
      ],
      "execution_count": 93,
      "outputs": [
        {
          "output_type": "execute_result",
          "data": {
            "text/html": [
              "<div>\n",
              "<style scoped>\n",
              "    .dataframe tbody tr th:only-of-type {\n",
              "        vertical-align: middle;\n",
              "    }\n",
              "\n",
              "    .dataframe tbody tr th {\n",
              "        vertical-align: top;\n",
              "    }\n",
              "\n",
              "    .dataframe thead th {\n",
              "        text-align: right;\n",
              "    }\n",
              "</style>\n",
              "<table border=\"1\" class=\"dataframe\">\n",
              "  <thead>\n",
              "    <tr style=\"text-align: right;\">\n",
              "      <th></th>\n",
              "      <th>Test</th>\n",
              "      <th>Test 1</th>\n",
              "      <th>Test 2</th>\n",
              "      <th>Total</th>\n",
              "      <th>HP</th>\n",
              "      <th>Attack</th>\n",
              "      <th>Defense</th>\n",
              "      <th>Sp. Atk</th>\n",
              "      <th>Sp. Def</th>\n",
              "      <th>Speed</th>\n",
              "      <th>Generation</th>\n",
              "      <th>Mithical</th>\n",
              "      <th>Legendary</th>\n",
              "    </tr>\n",
              "    <tr>\n",
              "      <th>#</th>\n",
              "      <th></th>\n",
              "      <th></th>\n",
              "      <th></th>\n",
              "      <th></th>\n",
              "      <th></th>\n",
              "      <th></th>\n",
              "      <th></th>\n",
              "      <th></th>\n",
              "      <th></th>\n",
              "      <th></th>\n",
              "      <th></th>\n",
              "      <th></th>\n",
              "      <th></th>\n",
              "    </tr>\n",
              "  </thead>\n",
              "  <tbody>\n",
              "    <tr>\n",
              "      <th>1</th>\n",
              "      <td>Bulbasaur</td>\n",
              "      <td>Grass</td>\n",
              "      <td>Poison</td>\n",
              "      <td>318</td>\n",
              "      <td>45</td>\n",
              "      <td>49</td>\n",
              "      <td>49</td>\n",
              "      <td>65</td>\n",
              "      <td>65</td>\n",
              "      <td>45</td>\n",
              "      <td>1</td>\n",
              "      <td>False</td>\n",
              "      <td>False</td>\n",
              "    </tr>\n",
              "    <tr>\n",
              "      <th>2</th>\n",
              "      <td>Ivysaur</td>\n",
              "      <td>Grass</td>\n",
              "      <td>Poison</td>\n",
              "      <td>405</td>\n",
              "      <td>60</td>\n",
              "      <td>62</td>\n",
              "      <td>63</td>\n",
              "      <td>80</td>\n",
              "      <td>80</td>\n",
              "      <td>60</td>\n",
              "      <td>1</td>\n",
              "      <td>False</td>\n",
              "      <td>False</td>\n",
              "    </tr>\n",
              "    <tr>\n",
              "      <th>3</th>\n",
              "      <td>Venusaur</td>\n",
              "      <td>Grass</td>\n",
              "      <td>Poison</td>\n",
              "      <td>525</td>\n",
              "      <td>80</td>\n",
              "      <td>82</td>\n",
              "      <td>83</td>\n",
              "      <td>100</td>\n",
              "      <td>100</td>\n",
              "      <td>80</td>\n",
              "      <td>1</td>\n",
              "      <td>False</td>\n",
              "      <td>False</td>\n",
              "    </tr>\n",
              "    <tr>\n",
              "      <th>3</th>\n",
              "      <td>VenusaurMega Venusaur</td>\n",
              "      <td>Grass</td>\n",
              "      <td>Poison</td>\n",
              "      <td>625</td>\n",
              "      <td>80</td>\n",
              "      <td>100</td>\n",
              "      <td>123</td>\n",
              "      <td>122</td>\n",
              "      <td>120</td>\n",
              "      <td>80</td>\n",
              "      <td>1</td>\n",
              "      <td>False</td>\n",
              "      <td>False</td>\n",
              "    </tr>\n",
              "    <tr>\n",
              "      <th>4</th>\n",
              "      <td>Charmander</td>\n",
              "      <td>Fire</td>\n",
              "      <td>NaN</td>\n",
              "      <td>309</td>\n",
              "      <td>39</td>\n",
              "      <td>52</td>\n",
              "      <td>43</td>\n",
              "      <td>60</td>\n",
              "      <td>50</td>\n",
              "      <td>65</td>\n",
              "      <td>1</td>\n",
              "      <td>False</td>\n",
              "      <td>False</td>\n",
              "    </tr>\n",
              "    <tr>\n",
              "      <th>...</th>\n",
              "      <td>...</td>\n",
              "      <td>...</td>\n",
              "      <td>...</td>\n",
              "      <td>...</td>\n",
              "      <td>...</td>\n",
              "      <td>...</td>\n",
              "      <td>...</td>\n",
              "      <td>...</td>\n",
              "      <td>...</td>\n",
              "      <td>...</td>\n",
              "      <td>...</td>\n",
              "      <td>...</td>\n",
              "      <td>...</td>\n",
              "    </tr>\n",
              "    <tr>\n",
              "      <th>888</th>\n",
              "      <td>Zacian Hero of Many Battles</td>\n",
              "      <td>Fairy</td>\n",
              "      <td>NaN</td>\n",
              "      <td>670</td>\n",
              "      <td>92</td>\n",
              "      <td>130</td>\n",
              "      <td>115</td>\n",
              "      <td>80</td>\n",
              "      <td>115</td>\n",
              "      <td>138</td>\n",
              "      <td>8</td>\n",
              "      <td>False</td>\n",
              "      <td>False</td>\n",
              "    </tr>\n",
              "    <tr>\n",
              "      <th>889</th>\n",
              "      <td>Zamazenta Crowned Shield</td>\n",
              "      <td>Fighting</td>\n",
              "      <td>Steel</td>\n",
              "      <td>720</td>\n",
              "      <td>92</td>\n",
              "      <td>130</td>\n",
              "      <td>145</td>\n",
              "      <td>80</td>\n",
              "      <td>145</td>\n",
              "      <td>128</td>\n",
              "      <td>8</td>\n",
              "      <td>False</td>\n",
              "      <td>False</td>\n",
              "    </tr>\n",
              "    <tr>\n",
              "      <th>889</th>\n",
              "      <td>Zamazenta Hero of Many Battles</td>\n",
              "      <td>Fighting</td>\n",
              "      <td>NaN</td>\n",
              "      <td>670</td>\n",
              "      <td>92</td>\n",
              "      <td>130</td>\n",
              "      <td>115</td>\n",
              "      <td>80</td>\n",
              "      <td>115</td>\n",
              "      <td>138</td>\n",
              "      <td>8</td>\n",
              "      <td>False</td>\n",
              "      <td>False</td>\n",
              "    </tr>\n",
              "    <tr>\n",
              "      <th>890</th>\n",
              "      <td>Eternatus</td>\n",
              "      <td>Poison</td>\n",
              "      <td>Dragon</td>\n",
              "      <td>690</td>\n",
              "      <td>140</td>\n",
              "      <td>85</td>\n",
              "      <td>95</td>\n",
              "      <td>145</td>\n",
              "      <td>95</td>\n",
              "      <td>130</td>\n",
              "      <td>8</td>\n",
              "      <td>False</td>\n",
              "      <td>False</td>\n",
              "    </tr>\n",
              "    <tr>\n",
              "      <th>890</th>\n",
              "      <td>Eternatus Eternamax</td>\n",
              "      <td>Poison</td>\n",
              "      <td>Dragon</td>\n",
              "      <td>1125</td>\n",
              "      <td>255</td>\n",
              "      <td>115</td>\n",
              "      <td>250</td>\n",
              "      <td>125</td>\n",
              "      <td>250</td>\n",
              "      <td>130</td>\n",
              "      <td>8</td>\n",
              "      <td>False</td>\n",
              "      <td>False</td>\n",
              "    </tr>\n",
              "  </tbody>\n",
              "</table>\n",
              "<p>981 rows × 13 columns</p>\n",
              "</div>"
            ],
            "text/plain": [
              "                               Test    Test 1  ... Mithical  Legendary\n",
              "#                                              ...                    \n",
              "1                         Bulbasaur     Grass  ...    False      False\n",
              "2                           Ivysaur     Grass  ...    False      False\n",
              "3                          Venusaur     Grass  ...    False      False\n",
              "3             VenusaurMega Venusaur     Grass  ...    False      False\n",
              "4                        Charmander      Fire  ...    False      False\n",
              "..                              ...       ...  ...      ...        ...\n",
              "888     Zacian Hero of Many Battles     Fairy  ...    False      False\n",
              "889        Zamazenta Crowned Shield  Fighting  ...    False      False\n",
              "889  Zamazenta Hero of Many Battles  Fighting  ...    False      False\n",
              "890                       Eternatus    Poison  ...    False      False\n",
              "890             Eternatus Eternamax    Poison  ...    False      False\n",
              "\n",
              "[981 rows x 13 columns]"
            ]
          },
          "metadata": {},
          "execution_count": 93
        }
      ]
    },
    {
      "cell_type": "code",
      "metadata": {
        "id": "VQ3yLgsEe_K0",
        "colab": {
          "base_uri": "https://localhost:8080/"
        },
        "outputId": "6bec4843-7a3f-4baa-f82f-8fe5b0a18fb3"
      },
      "source": [
        "df = pd.read_csv(link)\n",
        "df.shape"
      ],
      "execution_count": 94,
      "outputs": [
        {
          "output_type": "execute_result",
          "data": {
            "text/plain": [
              "(981, 14)"
            ]
          },
          "metadata": {},
          "execution_count": 94
        }
      ]
    },
    {
      "cell_type": "code",
      "metadata": {
        "id": "0zVq9VWmkbwc"
      },
      "source": [
        "df.columns = ['##','125','test','Name_changed',\n",
        " 'Type 1',\n",
        " 'Type 2',\n",
        " 'HP',\n",
        " 'Attack',\n",
        " 'Defense',\n",
        " 'Sp. Atk',\n",
        " 'Sp. Def',\n",
        " 'Speed',\n",
        " 'Generation',\n",
        " 'Legendary']\n"
      ],
      "execution_count": 95,
      "outputs": []
    },
    {
      "cell_type": "code",
      "metadata": {
        "colab": {
          "base_uri": "https://localhost:8080/",
          "height": 204
        },
        "id": "8xhmEGwQk5pA",
        "outputId": "3d56e461-07b2-47bb-ad57-ab66fe9c6ea0"
      },
      "source": [
        "df.head()"
      ],
      "execution_count": 96,
      "outputs": [
        {
          "output_type": "execute_result",
          "data": {
            "text/html": [
              "<div>\n",
              "<style scoped>\n",
              "    .dataframe tbody tr th:only-of-type {\n",
              "        vertical-align: middle;\n",
              "    }\n",
              "\n",
              "    .dataframe tbody tr th {\n",
              "        vertical-align: top;\n",
              "    }\n",
              "\n",
              "    .dataframe thead th {\n",
              "        text-align: right;\n",
              "    }\n",
              "</style>\n",
              "<table border=\"1\" class=\"dataframe\">\n",
              "  <thead>\n",
              "    <tr style=\"text-align: right;\">\n",
              "      <th></th>\n",
              "      <th>##</th>\n",
              "      <th>125</th>\n",
              "      <th>test</th>\n",
              "      <th>Name_changed</th>\n",
              "      <th>Type 1</th>\n",
              "      <th>Type 2</th>\n",
              "      <th>HP</th>\n",
              "      <th>Attack</th>\n",
              "      <th>Defense</th>\n",
              "      <th>Sp. Atk</th>\n",
              "      <th>Sp. Def</th>\n",
              "      <th>Speed</th>\n",
              "      <th>Generation</th>\n",
              "      <th>Legendary</th>\n",
              "    </tr>\n",
              "  </thead>\n",
              "  <tbody>\n",
              "    <tr>\n",
              "      <th>0</th>\n",
              "      <td>1</td>\n",
              "      <td>Bulbasaur</td>\n",
              "      <td>Grass</td>\n",
              "      <td>Poison</td>\n",
              "      <td>318</td>\n",
              "      <td>45</td>\n",
              "      <td>49</td>\n",
              "      <td>49</td>\n",
              "      <td>65</td>\n",
              "      <td>65</td>\n",
              "      <td>45</td>\n",
              "      <td>1</td>\n",
              "      <td>False</td>\n",
              "      <td>False</td>\n",
              "    </tr>\n",
              "    <tr>\n",
              "      <th>1</th>\n",
              "      <td>2</td>\n",
              "      <td>Ivysaur</td>\n",
              "      <td>Grass</td>\n",
              "      <td>Poison</td>\n",
              "      <td>405</td>\n",
              "      <td>60</td>\n",
              "      <td>62</td>\n",
              "      <td>63</td>\n",
              "      <td>80</td>\n",
              "      <td>80</td>\n",
              "      <td>60</td>\n",
              "      <td>1</td>\n",
              "      <td>False</td>\n",
              "      <td>False</td>\n",
              "    </tr>\n",
              "    <tr>\n",
              "      <th>2</th>\n",
              "      <td>3</td>\n",
              "      <td>Venusaur</td>\n",
              "      <td>Grass</td>\n",
              "      <td>Poison</td>\n",
              "      <td>525</td>\n",
              "      <td>80</td>\n",
              "      <td>82</td>\n",
              "      <td>83</td>\n",
              "      <td>100</td>\n",
              "      <td>100</td>\n",
              "      <td>80</td>\n",
              "      <td>1</td>\n",
              "      <td>False</td>\n",
              "      <td>False</td>\n",
              "    </tr>\n",
              "    <tr>\n",
              "      <th>3</th>\n",
              "      <td>3</td>\n",
              "      <td>VenusaurMega Venusaur</td>\n",
              "      <td>Grass</td>\n",
              "      <td>Poison</td>\n",
              "      <td>625</td>\n",
              "      <td>80</td>\n",
              "      <td>100</td>\n",
              "      <td>123</td>\n",
              "      <td>122</td>\n",
              "      <td>120</td>\n",
              "      <td>80</td>\n",
              "      <td>1</td>\n",
              "      <td>False</td>\n",
              "      <td>False</td>\n",
              "    </tr>\n",
              "    <tr>\n",
              "      <th>4</th>\n",
              "      <td>4</td>\n",
              "      <td>Charmander</td>\n",
              "      <td>Fire</td>\n",
              "      <td>NaN</td>\n",
              "      <td>309</td>\n",
              "      <td>39</td>\n",
              "      <td>52</td>\n",
              "      <td>43</td>\n",
              "      <td>60</td>\n",
              "      <td>50</td>\n",
              "      <td>65</td>\n",
              "      <td>1</td>\n",
              "      <td>False</td>\n",
              "      <td>False</td>\n",
              "    </tr>\n",
              "  </tbody>\n",
              "</table>\n",
              "</div>"
            ],
            "text/plain": [
              "   ##                    125   test  ... Speed  Generation  Legendary\n",
              "0   1              Bulbasaur  Grass  ...     1       False      False\n",
              "1   2                Ivysaur  Grass  ...     1       False      False\n",
              "2   3               Venusaur  Grass  ...     1       False      False\n",
              "3   3  VenusaurMega Venusaur  Grass  ...     1       False      False\n",
              "4   4             Charmander   Fire  ...     1       False      False\n",
              "\n",
              "[5 rows x 14 columns]"
            ]
          },
          "metadata": {},
          "execution_count": 96
        }
      ]
    },
    {
      "cell_type": "code",
      "metadata": {
        "id": "y2F1I_n9k9s0"
      },
      "source": [
        "df  = pd.read_csv(link, usecols=[\"#\", \"HP\",\t\"Attack\", \"Defense\", \"Sp. Atk\",\t\"Sp. Def\",\"Speed\",\t\"Generation\"\t] , nrows=None, index_col= '#')"
      ],
      "execution_count": 97,
      "outputs": []
    },
    {
      "cell_type": "code",
      "metadata": {
        "colab": {
          "base_uri": "https://localhost:8080/",
          "height": 235
        },
        "id": "mpTDJlQ9owBm",
        "outputId": "e6c81d63-5a29-4233-a568-ee834749a822"
      },
      "source": [
        "df.head()"
      ],
      "execution_count": 98,
      "outputs": [
        {
          "output_type": "execute_result",
          "data": {
            "text/html": [
              "<div>\n",
              "<style scoped>\n",
              "    .dataframe tbody tr th:only-of-type {\n",
              "        vertical-align: middle;\n",
              "    }\n",
              "\n",
              "    .dataframe tbody tr th {\n",
              "        vertical-align: top;\n",
              "    }\n",
              "\n",
              "    .dataframe thead th {\n",
              "        text-align: right;\n",
              "    }\n",
              "</style>\n",
              "<table border=\"1\" class=\"dataframe\">\n",
              "  <thead>\n",
              "    <tr style=\"text-align: right;\">\n",
              "      <th></th>\n",
              "      <th>HP</th>\n",
              "      <th>Attack</th>\n",
              "      <th>Defense</th>\n",
              "      <th>Sp. Atk</th>\n",
              "      <th>Sp. Def</th>\n",
              "      <th>Speed</th>\n",
              "      <th>Generation</th>\n",
              "    </tr>\n",
              "    <tr>\n",
              "      <th>#</th>\n",
              "      <th></th>\n",
              "      <th></th>\n",
              "      <th></th>\n",
              "      <th></th>\n",
              "      <th></th>\n",
              "      <th></th>\n",
              "      <th></th>\n",
              "    </tr>\n",
              "  </thead>\n",
              "  <tbody>\n",
              "    <tr>\n",
              "      <th>1</th>\n",
              "      <td>45</td>\n",
              "      <td>49</td>\n",
              "      <td>49</td>\n",
              "      <td>65</td>\n",
              "      <td>65</td>\n",
              "      <td>45</td>\n",
              "      <td>1</td>\n",
              "    </tr>\n",
              "    <tr>\n",
              "      <th>2</th>\n",
              "      <td>60</td>\n",
              "      <td>62</td>\n",
              "      <td>63</td>\n",
              "      <td>80</td>\n",
              "      <td>80</td>\n",
              "      <td>60</td>\n",
              "      <td>1</td>\n",
              "    </tr>\n",
              "    <tr>\n",
              "      <th>3</th>\n",
              "      <td>80</td>\n",
              "      <td>82</td>\n",
              "      <td>83</td>\n",
              "      <td>100</td>\n",
              "      <td>100</td>\n",
              "      <td>80</td>\n",
              "      <td>1</td>\n",
              "    </tr>\n",
              "    <tr>\n",
              "      <th>3</th>\n",
              "      <td>80</td>\n",
              "      <td>100</td>\n",
              "      <td>123</td>\n",
              "      <td>122</td>\n",
              "      <td>120</td>\n",
              "      <td>80</td>\n",
              "      <td>1</td>\n",
              "    </tr>\n",
              "    <tr>\n",
              "      <th>4</th>\n",
              "      <td>39</td>\n",
              "      <td>52</td>\n",
              "      <td>43</td>\n",
              "      <td>60</td>\n",
              "      <td>50</td>\n",
              "      <td>65</td>\n",
              "      <td>1</td>\n",
              "    </tr>\n",
              "  </tbody>\n",
              "</table>\n",
              "</div>"
            ],
            "text/plain": [
              "   HP  Attack  Defense  Sp. Atk  Sp. Def  Speed  Generation\n",
              "#                                                          \n",
              "1  45      49       49       65       65     45           1\n",
              "2  60      62       63       80       80     60           1\n",
              "3  80      82       83      100      100     80           1\n",
              "3  80     100      123      122      120     80           1\n",
              "4  39      52       43       60       50     65           1"
            ]
          },
          "metadata": {},
          "execution_count": 98
        }
      ]
    },
    {
      "cell_type": "code",
      "metadata": {
        "id": "8jaUromDpPCv",
        "colab": {
          "base_uri": "https://localhost:8080/"
        },
        "outputId": "b70e74e8-5c92-4a20-8cd7-1396e26be14f"
      },
      "source": [
        "df.shape"
      ],
      "execution_count": 99,
      "outputs": [
        {
          "output_type": "execute_result",
          "data": {
            "text/plain": [
              "(981, 7)"
            ]
          },
          "metadata": {},
          "execution_count": 99
        }
      ]
    },
    {
      "cell_type": "code",
      "metadata": {
        "id": "Fk3CbluYr0NU",
        "colab": {
          "base_uri": "https://localhost:8080/",
          "height": 483
        },
        "outputId": "b244df29-45f0-4e49-db55-21df837fe8d0"
      },
      "source": [
        "plt.figure(figsize=(15,8))\n",
        "plt.yticks(range(0, 180, 5))\n",
        "\n",
        "plt.subplot(1,2,1)\n",
        "plt.scatter(df.index, df[\"HP\"], label = \"HP\")\n",
        "plt.plot(df.index, df[\"Generation\"], label = \"Generation\")\n",
        "plt.legend()\n",
        "\n",
        "plt.subplot(1,2,2)\n",
        "plt.scatter(df.index,df[\"Speed\"], label = \"speed\")\n",
        "plt.plot(df.index, df[\"Generation\"], label = \"Generation\")\n",
        "\n",
        "\n",
        "plt.legend()\n",
        "plt.grid()\n",
        "plt.show()"
      ],
      "execution_count": 100,
      "outputs": [
        {
          "output_type": "display_data",
          "data": {
            "image/png": "[encoded data removed]",
            "text/plain": [
              "<Figure size 1080x576 with 2 Axes>"
            ]
          },
          "metadata": {}
        }
      ]
    },
    {
      "cell_type": "code",
      "metadata": {
        "id": "9-f4woSAKo8r"
      },
      "source": [
        "df_speed = df.groupby(\"Speed\")"
      ],
      "execution_count": 101,
      "outputs": []
    },
    {
      "cell_type": "code",
      "metadata": {
        "id": "ftbiAVEsLsaX"
      },
      "source": [
        "keys = df_speed.size().keys()"
      ],
      "execution_count": 102,
      "outputs": []
    },
    {
      "cell_type": "code",
      "metadata": {
        "id": "I0eyVbP0LuYt"
      },
      "source": [
        "# values = df_speed.size().values()\n",
        "values = df_speed.size().values"
      ],
      "execution_count": 103,
      "outputs": []
    },
    {
      "cell_type": "code",
      "metadata": {
        "id": "jDNgJkMPMBBq",
        "colab": {
          "base_uri": "https://localhost:8080/",
          "height": 472
        },
        "outputId": "1a879661-e58b-43ed-96e5-713b9612cd1a"
      },
      "source": [
        "plt.figure(figsize=(25,7))\n",
        "plt.xticks(keys, rotation= 90)\n",
        "plt.yticks(values)\n",
        "plt.bar(keys, values, width = .5)\n",
        "plt.grid()\n",
        "plt.title(\"Speed graph\")\n",
        "plt.xlabel(\"speed\")\n",
        "plt.ylabel(\"appeared times\")\n",
        "plt.show()"
      ],
      "execution_count": 104,
      "outputs": [
        {
          "output_type": "display_data",
          "data": {
            "image/png": "[encoded data removed]",
            "text/plain": [
              "<Figure size 1800x504 with 1 Axes>"
            ]
          },
          "metadata": {}
        }
      ]
    },
    {
      "cell_type": "code",
      "metadata": {
        "colab": {
          "base_uri": "https://localhost:8080/"
        },
        "id": "djurrFmCMTL5",
        "outputId": "18783d65-436f-4303-f45c-5f582a086346"
      },
      "source": [
        "df_speed.ngroups"
      ],
      "execution_count": 105,
      "outputs": [
        {
          "output_type": "execute_result",
          "data": {
            "text/plain": [
              "124"
            ]
          },
          "metadata": {},
          "execution_count": 105
        }
      ]
    },
    {
      "cell_type": "code",
      "metadata": {
        "colab": {
          "base_uri": "https://localhost:8080/"
        },
        "id": "C250gANGN4P-",
        "outputId": "5f691095-8a4b-4a5b-8fcf-319d9dab3bca"
      },
      "source": [
        "df_speed.groups"
      ],
      "execution_count": 106,
      "outputs": [
        {
          "output_type": "execute_result",
          "data": {
            "text/plain": [
              "{5: [213, 446, 771], 10: [328, 438, 597, 829], 13: [805], 15: [79, 173, 174, 194, 204, 266, 268, 524, 590, 755, 769, 871], 20: [39, 74, 161, 175, 218, 265, 298, 302, 323, 324, 525, 577, 589, 598, 607, 820, 840, 872], 22: [564], 23: [345, 360, 436, 682], 24: [517], 25: [46, 88, 111, 296, 355, 356, 363, 401, 526, 616, 819], 26: [835], 27: [751], 28: [293, 679, 712, 713], 29: [518, 665, 683, 858], 30: [11, 43, 47, 80, 80, 108, 143, 167, 185, 191, 192, 199, 208, 208, 209, 219, 270, 273, 287, 299, 304, 374, 410, 411, 440, 460, 548, 562, 563, 578, 579, 591, 599, 605, 690, 746, 756, 825, 837, 839, 842, 864, 867, 879], 31: [387, 399], 32: [366, 449, 565, 618, 761, 852], 33: [202, 437], 34: [422, 808, 809, 868], 35: [14, 35, 66, 75, 104, 109, 138, 179, 195, 222, 236, 261, 285, 322, 331, 341, 420, 442, 532, 622, 664, 680, 750, 753, 770], 36: [388, 412, 413, 413, 413, 737, 780], 37: [789, 790], 38: [633, 650, 708], 39: [423, 856], 40: [27, 44, 69, 90, 102, 112, 137, 168, 176, 183, 205, 216, 231, 258, 280, 290, 292, 305, 316, 323, 352, 393, 416, 459, 464, 476, 533, 592, 603, 606, 613, 704, 728, 746, 768, 781, 848, 878], 41: [29, 246, 710], 42: [96, 443, 504, 540, 541, 669, 722, 752, 853], 43: [7, 158, 346, 519, 674, 738, 740, 799], 44: [582, 691, 692, 833], 45: [1, 10, 40, 48, 67, 76, 81, 86, 105, 152, 180, 181, 206, 210, 224, 255, 348, 353, 364, 403, 433, 477, 498, 501, 534, 538, 558, 574, 686, 734, 735, 747, 748, 749, 754, 782, 824, 850], 46: [455, 698, 710, 736, 843], 47: [450, 544], 48: [132, 201, 294, 559, 621, 696, 831], 49: [684, 857], 50: [13, 32, 45, 89, 98, 113, 147, 163, 182, 184, 187, 220, 221, 232, 259, 271, 281, 297, 300, 302, 303, 303, 306, 306, 333, 361, 371, 372, 375, 377, 378, 379, 394, 453, 458, 463, 465, 531, 531, 554, 600, 604, 614, 688, 703, 719, 729, 759, 827, 838, 854, 859, 863, 875], 51: [247, 357, 710], 52: [367, 368, 670, 672, 723], 54: [711], 55: [23, 41, 54, 68, 70, 103, 133, 139, 140, 165, 181, 217, 242, 256, 317, 332, 342, 343, 369, 406, 499, 506, 555, 557, 575, 580, 608, 623, 626, 714, 881, 883], 56: [16, 30, 389, 709, 710], 57: [543, 610, 651, 659, 821], 58: [8, 159, 408, 409, 560, 634, 675, 699], 59: [583, 693, 772], 60: [2, 36, 58, 83, 110, 114, 116, 131, 153, 172, 233, 260, 263, 274, 284, 307, 320, 321, 325, 327, 339, 340, 395, 396, 404, 439, 447, 460, 462, 502, 507, 556, 588, 593, 602, 624, 627, 629, 636, 653, 681, 681, 700, 705, 727, 730, 733, 744, 760, 765, 775, 830, 861], 61: [248, 390, 797], 62: [661, 762], 63: [118, 495, 739], 64: [511, 513, 515, 535, 652, 869], 65: [4, 28, 33, 37, 134, 136, 155, 197, 212, 223, 228, 238, 267, 269, 279, 283, 309, 315, 318, 336, 354, 358, 365, 402, 451, 471, 500, 520, 551, 568, 570, 576, 594, 595, 619, 631, 731, 776, 783, 801, 810, 851, 865, 873], 66: [414, 456, 509, 546, 846], 67: [97, 170, 171, 611, 823], 68: [119, 295, 529, 673, 677, 689], 69: [536, 711, 813], 70: [12, 21, 56, 62, 71, 72, 82, 87, 91, 95, 148, 164, 177, 186, 226, 227, 237, 252, 260, 262, 272, 286, 301, 329, 337, 338, 351, 376, 405, 415, 425, 503, 566, 625, 694, 720, 721, 724, 725, 816, 841, 855, 860, 866, 874], 71: [17, 248, 400, 430, 656, 697, 844], 72: [19, 527, 667, 685, 763], 73: [654, 687, 803], 74: [434, 537, 552, 834], 75: [15, 84, 99, 212, 214, 225, 235, 344, 347, 354, 359, 569, 572, 585, 671, 707, 732, 787, 849, 849, 870, 880, 882], 76: [31, 107, 522], 77: [485, 505, 757, 822], 78: [9, 9, 160, 660], 79: [584, 794, 800], 80: [3, 3, 5, 24, 92, 129, 141, 149, 154, 156, 188, 257, 275, 282, 308, 326, 334, 334, 349, 362, 397, 426, 468, 473, 475, 481, 489, 508, 609, 628, 630, 706, 720, 766, 767, 811], 81: [130, 130, 350, 391], 82: [444, 746, 885], 83: [240, 467, 496, 796], 84: [435, 662, 711, 742], 85: [34, 55, 117, 120, 127, 144, 166, 190, 200, 203, 207, 211, 214, 230, 234, 245, 276, 278, 313, 314, 418, 421, 427, 431, 454, 488, 539, 784, 788, 812, 845, 876, 884], 86: [479, 479, 479, 479, 479], 87: [106], 88: [530, 832], 89: [666], 90: [25, 42, 49, 52, 60, 61, 63, 77, 115, 122, 146, 162, 250, 288, 335, 382, 382, 383, 383, 386, 407, 448, 474, 483, 487, 487, 549, 601, 643, 644, 648, 726, 817, 826, 828], 91: [198, 441, 457, 479, 645], 92: [445, 542, 553, 779], 93: [126, 521, 741, 741, 741, 741], 94: [814], 95: [50, 57, 59, 93, 124, 178, 193, 229, 239, 253, 311, 312, 319, 384, 417, 452, 466, 469, 470, 472, 480, 555, 586, 646, 646, 646, 718, 773, 786, 862, 876], 96: [777, 778], 97: [20, 370, 561, 612, 657, 791, 792, 877, 877], 98: [550, 581, 635], 99: [649, 711, 716, 717], 100: [6, 6, 6, 22, 38, 73, 85, 100, 115, 145, 151, 157, 241, 244, 251, 257, 264, 282, 289, 308, 330, 362, 373, 385, 398, 484, 486, 490, 492, 494, 637, 764], 101: [18, 512, 514, 516, 642, 645, 702], 102: [445, 676, 886], 103: [587, 793], 104: [655, 678, 678], 105: [64, 78, 123, 125, 127, 310, 319, 428, 429, 571, 615, 620], 106: [510, 668], 107: [806], 108: [392, 596, 638, 639, 640, 647, 647], 109: [632, 695, 798], 110: [26, 94, 128, 189, 196, 249, 376, 380, 380, 381, 381, 475, 478, 567, 719], 111: [641, 642], 112: [432, 448, 545, 745], 113: [497], 114: [528], 115: [53, 121, 215, 229, 243, 359, 384, 419, 424, 482, 573], 116: [523, 547], 117: [758], ...}"
            ]
          },
          "metadata": {},
          "execution_count": 106
        }
      ]
    },
    {
      "cell_type": "code",
      "metadata": {
        "id": "PigF8bMTN8mC"
      },
      "source": [
        ""
      ],
      "execution_count": 106,
      "outputs": []
    },
    {
      "cell_type": "code",
      "metadata": {
        "id": "lE57vRshOeun"
      },
      "source": [
        ""
      ],
      "execution_count": 106,
      "outputs": []
    },
    {
      "cell_type": "code",
      "metadata": {
        "id": "KLjndmBPOnjy"
      },
      "source": [
        "df_HP = df.groupby(\"HP\")"
      ],
      "execution_count": 107,
      "outputs": []
    },
    {
      "cell_type": "code",
      "metadata": {
        "colab": {
          "base_uri": "https://localhost:8080/"
        },
        "id": "A7lD8SENPJs1",
        "outputId": "af172178-f62b-4e01-decd-de99874ef4b5"
      },
      "source": [
        "df_HP.ngroups"
      ],
      "execution_count": 108,
      "outputs": [
        {
          "output_type": "execute_result",
          "data": {
            "text/plain": [
              "101"
            ]
          },
          "metadata": {},
          "execution_count": 108
        }
      ]
    },
    {
      "cell_type": "code",
      "metadata": {
        "colab": {
          "base_uri": "https://localhost:8080/"
        },
        "id": "hlHM62BPO6Vv",
        "outputId": "04138f88-1e5b-4d12-9b1f-b24a738f1630"
      },
      "source": [
        "df_HP.groups"
      ],
      "execution_count": 109,
      "outputs": [
        {
          "output_type": "execute_result",
          "data": {
            "text/plain": [
              "{1: [292], 10: [50], 20: [129, 172, 213, 349, 355, 439], 25: [63, 81, 767, 824], 28: [280, 885], 30: [19, 90, 92, 98, 116, 120, 140, 191, 299, 307, 410, 415, 543, 837, 872], 31: [290], 35: [23, 25, 46, 51, 84, 95, 138, 161, 175, 187, 223, 236, 261, 366, 602, 731], 36: [582], 37: [401], 38: [37, 263, 281, 562, 659, 664, 751, 821], 39: [4, 155], 40: [13, 16, 21, 41, 52, 56, 60, 64, 72, 74, 100, 109, 122, 165, 167, 177, 218, 252, 270, 273, 276, 278, 283, 309, 343, 356, 374, 396, 406, 412, 447, 451, 544, 546, 570, 599, 653, 714, 742, 753, 755, 827, 829, 840, 848, 854], 41: [147, 509, 656, 846], 42: [688, 761, 831, 856], 43: [341, 370, 708, 789, 790], 44: [7, 353, 390, 597, 669, 694, 710], 45: [1, 10, 14, 43, 93, 118, 152, 225, 228, 238, 239, 240, 255, 265, 318, 328, 333, 347, 371, 403, 420, 433, 458, 477, 495, 504, 506, 522, 540, 548, 574, 577, 619, 624, 661, 665, 679, 704, 725, 744, 746, 746, 782, 859, 868], 46: [32, 610, 808], 47: [736, 739], 48: [132, 201, 453, 734, 757, 871], 49: [431, 456, 710], 50: [11, 27, 54, 69, 77, 82, 91, 104, 106, 107, 158, 173, 204, 219, 220, 237, 246, 253, 258, 266, 268, 298, 300, 302, 302, 303, 303, 304, 315, 329, 331, 339, 361, 386, 386, 386, 386, 438, 442, 479, 479, 479, 479, 479, 479, 511, 513, 515, 519, 535, 551, 557, 559, 568, 588, 595, 607, 616, 690, 692, 703, 719, 719, 728, 747, 748, 810, 813, 816, 825, 833, 850, 852], 51: [583, 764], 52: [83, 633, 762, 843], 53: [393, 686, 806], 54: [564, 657, 670, 710], 55: [20, 29, 58, 65, 65, 75, 99, 117, 133, 166, 176, 179, 188, 190, 194, 215, 222, 235, 367, 368, 387, 397, 418, 427, 501, 524, 527, 541, 566, 572, 587, 592, 605, 613, 636, 711, 712, 732, 769, 771, 778, 783], 56: [650], 57: [436, 707, 737, 857, 858], 58: [5, 156, 443, 563, 632, 696, 867, 877, 877], 59: [8, 399, 622, 654, 680, 710, 798, 835], 60: [2, 12, 24, 26, 44, 47, 48, 85, 94, 94, 96, 101, 102, 105, 121, 141, 153, 163, 198, 200, 209, 216, 256, 267, 269, 271, 277, 279, 285, 286, 287, 305, 308, 308, 311, 312, 322, 325, 327, 344, 352, 375, 404, 407, 411, 413, 413, 413, 417, 429, 459, 476, 496, 505, 529, 545, 547, 552, 571, 575, 585, 600, 601, 608, 609, 681, 681, 729, 743, 756, 774, 775, 826, 830, 855, 864, 876], 61: [33, 148, 291, 651, 805, 847], 62: [520, 580, 662, 667, 677, 684, 695, 865], 63: [17, 342, 434], 64: [293, 354, 354, 391, 394, 510], 65: [15, 15, 22, 53, 57, 61, 70, 78, 86, 110, 114, 124, 125, 126, 127, 127, 135, 136, 137, 159, 178, 193, 196, 207, 211, 226, 227, 313, 314, 358, 359, 359, 372, 428, 428, 470, 471, 498, 507, 560, 578, 603, 620, 625, 691, 711, 726, 776, 777, 814, 817, 860, 869, 870], 66: [345, 611, 672], 67: [408, 437, 528, 674, 702, 803], 68: [282, 282, 444, 449, 475, 475, 705, 722, 752, 758, 779, 822, 886], 69: [457, 590, 836], 70: [30, 35, 49, 66, 123, 139, 168, 180, 183, 185, 203, 212, 212, 247, 254, 254, 259, 262, 274, 284, 301, 306, 306, 310, 310, 316, 319, 319, 323, 323, 324, 332, 337, 338, 351, 363, 414, 416, 421, 448, 448, 452, 461, 462, 478, 491, 525, 549, 550, 554, 558, 576, 589, 596, 615, 627, 629, 749, 754, 759, 781, 785, 786, 787, 788, 811, 818, 819, 828, 841, 845, 863, 873, 876, 884], 71: [432, 584, 649, 693, 795], 72: [296, 561, 634, 658, 689, 763, 832, 844, 878], 73: [38, 234, 335, 336, 804], 74: [455, 565, 598, 678, 678], 75: [28, 42, 45, 128, 170, 182, 189, 192, 205, 208, 208, 224, 229, 229, 230, 334, 334, 348, 388, 424, 466, 467, 472, 480, 482, 497, 502, 512, 514, 516, 523, 532, 536, 539, 542, 556, 567, 573, 581, 606, 655, 676, 711, 741, 741, 741, 741, 745, 768, 784, 849, 849, 875, 875], 76: [392, 422, 441, 517, 612], 77: [402, 621, 698, 738], 78: [6, 6, 6, 157, 264, 663, 671, 682, 701, 723, 724, 780], 79: [9, 9, 400, 641, 641, 642, 642], 80: [3, 3, 55, 67, 71, 73, 76, 88, 111, 119, 142, 142, 154, 214, 214, 257, 257, 272, 288, 326, 330, 362, 362, 376, 376, 377, 378, 379, 380, 380, 381, 381, 405, 481, 489, 521, 569, 586, 617, 666, 720, 720, 721, 730, 733, 801, 815, 838, 853, 866], 81: [34], 82: [685, 697], 83: [18, 18, 454, 796], 84: [294, 395], 85: [97, 160, 162, 169, 233, 398, 419, 468, 474, 508, 526, 533, 604, 631, 637, 660, 709, 711, 715, 746, 770], 86: [346, 469, 668, 687], 88: [652, 735, 807, 887], 89: [623, 645, 645], 90: [31, 59, 62, 68, 79, 87, 108, 144, 145, 146, 174, 181, 181, 186, 210, 217, 231, 232, 243, 275, 364, 425, 460, 460, 484, 499, 706, 765, 802, 834, 880, 881, 882, 883], 91: [149, 485, 638, 639, 640, 647, 647], 92: [635, 888, 888, 889, 889], 93: [862], 95: [36, 80, 80, 103, 130, 130, 195, 197, 199, 241, 350, 360, 373, 373, 389, 503, 553, 614, 626, 675, 700, 713, 727, 772, 773, 861], 97: [409, 740, 797, 800], 98: [823], 99: [357], 100: [151, 164, 184, 206, 221, 245, 248, 248, 251, 260, 260, 317, 369, 382, 382, 383, 383, 385, 430, 440, 465, 483, 490, 492, 492, 494, 593, 628, 643, 644, 648, 648, 750, 766, 812, 851, 874], 101: [683], 103: [435, 531, 531], 104: [295], 105: [89, 112, 115, 115, 384, 384, 534, 537, 555, 555], 106: [150, 150, 150, 249, 250], 107: [794], 108: [445, 445, 450, 718], 109: [618, 793], 110: [340, 365, 463, 473, 486, 500, 530, 579, 630, 839, 842], 111: [423], 114: [591], 115: [39, 244, 464], 116: [518], 120: [488, 493, 538, 760, 820], 122: [879], 123: [673, 699], 125: [171, 646, 646, 646], 126: [716, 717], 130: [131, 134, 320], 135: [446, 809], 137: [791, 792], 140: [40, 890], 144: [297], 150: [289, 426, 487, 487], 160: [143], 165: [594], 170: [321], 190: [202], 223: [799], 250: [113], ...}"
            ]
          },
          "metadata": {},
          "execution_count": 109
        }
      ]
    },
    {
      "cell_type": "code",
      "metadata": {
        "id": "m6ld4zFTQWpz"
      },
      "source": [
        "from matplotlib import style\n",
        "bg = style.available\n",
        "# len(bg)\n",
        "style.use(\"ggplot\")"
      ],
      "execution_count": 110,
      "outputs": []
    },
    {
      "cell_type": "code",
      "metadata": {
        "id": "C-Ai8ZJ6O8Bq",
        "colab": {
          "base_uri": "https://localhost:8080/",
          "height": 441
        },
        "outputId": "2a533f37-c320-4d4b-f7bf-f5c9724e8d39"
      },
      "source": [
        "plt.figure(figsize= (20,6.5))\n",
        "plt.bar(df_HP.size().keys(), df_HP.size().values, width = .5)\n",
        "plt.xticks(df_HP.size().keys(), rotation = 90, fontsize = 8)\n",
        "plt.yticks(df_HP.size().values)\n",
        "plt.title(\"HP\")\n",
        "plt.xlabel(\"keys\")\n",
        "plt.ylabel(\"no of times appeared\")\n",
        "plt.show()"
      ],
      "execution_count": 111,
      "outputs": [
        {
          "output_type": "display_data",
          "data": {
            "image/png": "[encoded data removed]",
            "text/plain": [
              "<Figure size 1440x468 with 1 Axes>"
            ]
          },
          "metadata": {}
        }
      ]
    },
    {
      "cell_type": "code",
      "metadata": {
        "colab": {
          "base_uri": "https://localhost:8080/"
        },
        "id": "x6cBiv1pQVaw",
        "outputId": "a8f3133a-b1b5-4b80-90ad-29ca949b3f83"
      },
      "source": [
        "df_HP.size().max()"
      ],
      "execution_count": 112,
      "outputs": [
        {
          "output_type": "execute_result",
          "data": {
            "text/plain": [
              "77"
            ]
          },
          "metadata": {},
          "execution_count": 112
        }
      ]
    },
    {
      "cell_type": "code",
      "metadata": {
        "colab": {
          "base_uri": "https://localhost:8080/"
        },
        "id": "60isR7JnPYYQ",
        "outputId": "5bb46251-831e-4fc6-9717-ae60200bd688"
      },
      "source": [
        "df_HP.size().min()"
      ],
      "execution_count": 113,
      "outputs": [
        {
          "output_type": "execute_result",
          "data": {
            "text/plain": [
              "1"
            ]
          },
          "metadata": {},
          "execution_count": 113
        }
      ]
    },
    {
      "cell_type": "code",
      "metadata": {
        "id": "EKMMLwfCggjb"
      },
      "source": [
        ""
      ],
      "execution_count": 113,
      "outputs": []
    },
    {
      "cell_type": "markdown",
      "metadata": {
        "id": "BI63pcVZghJJ"
      },
      "source": [
        "# there is also another method like groupby method \n",
        "it is pd.value_counts()"
      ]
    },
    {
      "cell_type": "code",
      "metadata": {
        "colab": {
          "base_uri": "https://localhost:8080/",
          "height": 235
        },
        "id": "AsZ9YoxUgn4h",
        "outputId": "b7f6702c-3776-43c5-9a25-850eb77fd11b"
      },
      "source": [
        "df.head()"
      ],
      "execution_count": 114,
      "outputs": [
        {
          "output_type": "execute_result",
          "data": {
            "text/html": [
              "<div>\n",
              "<style scoped>\n",
              "    .dataframe tbody tr th:only-of-type {\n",
              "        vertical-align: middle;\n",
              "    }\n",
              "\n",
              "    .dataframe tbody tr th {\n",
              "        vertical-align: top;\n",
              "    }\n",
              "\n",
              "    .dataframe thead th {\n",
              "        text-align: right;\n",
              "    }\n",
              "</style>\n",
              "<table border=\"1\" class=\"dataframe\">\n",
              "  <thead>\n",
              "    <tr style=\"text-align: right;\">\n",
              "      <th></th>\n",
              "      <th>HP</th>\n",
              "      <th>Attack</th>\n",
              "      <th>Defense</th>\n",
              "      <th>Sp. Atk</th>\n",
              "      <th>Sp. Def</th>\n",
              "      <th>Speed</th>\n",
              "      <th>Generation</th>\n",
              "    </tr>\n",
              "    <tr>\n",
              "      <th>#</th>\n",
              "      <th></th>\n",
              "      <th></th>\n",
              "      <th></th>\n",
              "      <th></th>\n",
              "      <th></th>\n",
              "      <th></th>\n",
              "      <th></th>\n",
              "    </tr>\n",
              "  </thead>\n",
              "  <tbody>\n",
              "    <tr>\n",
              "      <th>1</th>\n",
              "      <td>45</td>\n",
              "      <td>49</td>\n",
              "      <td>49</td>\n",
              "      <td>65</td>\n",
              "      <td>65</td>\n",
              "      <td>45</td>\n",
              "      <td>1</td>\n",
              "    </tr>\n",
              "    <tr>\n",
              "      <th>2</th>\n",
              "      <td>60</td>\n",
              "      <td>62</td>\n",
              "      <td>63</td>\n",
              "      <td>80</td>\n",
              "      <td>80</td>\n",
              "      <td>60</td>\n",
              "      <td>1</td>\n",
              "    </tr>\n",
              "    <tr>\n",
              "      <th>3</th>\n",
              "      <td>80</td>\n",
              "      <td>82</td>\n",
              "      <td>83</td>\n",
              "      <td>100</td>\n",
              "      <td>100</td>\n",
              "      <td>80</td>\n",
              "      <td>1</td>\n",
              "    </tr>\n",
              "    <tr>\n",
              "      <th>3</th>\n",
              "      <td>80</td>\n",
              "      <td>100</td>\n",
              "      <td>123</td>\n",
              "      <td>122</td>\n",
              "      <td>120</td>\n",
              "      <td>80</td>\n",
              "      <td>1</td>\n",
              "    </tr>\n",
              "    <tr>\n",
              "      <th>4</th>\n",
              "      <td>39</td>\n",
              "      <td>52</td>\n",
              "      <td>43</td>\n",
              "      <td>60</td>\n",
              "      <td>50</td>\n",
              "      <td>65</td>\n",
              "      <td>1</td>\n",
              "    </tr>\n",
              "  </tbody>\n",
              "</table>\n",
              "</div>"
            ],
            "text/plain": [
              "   HP  Attack  Defense  Sp. Atk  Sp. Def  Speed  Generation\n",
              "#                                                          \n",
              "1  45      49       49       65       65     45           1\n",
              "2  60      62       63       80       80     60           1\n",
              "3  80      82       83      100      100     80           1\n",
              "3  80     100      123      122      120     80           1\n",
              "4  39      52       43       60       50     65           1"
            ]
          },
          "metadata": {},
          "execution_count": 114
        }
      ]
    },
    {
      "cell_type": "code",
      "metadata": {
        "colab": {
          "base_uri": "https://localhost:8080/"
        },
        "id": "TPIwQLrpgnzB",
        "outputId": "77d97a35-bccc-4985-a0dc-c9c8e261c8c9"
      },
      "source": [
        "df['HP'].value_counts()"
      ],
      "execution_count": 115,
      "outputs": [
        {
          "output_type": "execute_result",
          "data": {
            "text/plain": [
              "60    77\n",
              "70    75\n",
              "50    73\n",
              "65    54\n",
              "75    54\n",
              "      ..\n",
              "99     1\n",
              "98     1\n",
              "93     1\n",
              "56     1\n",
              "1      1\n",
              "Name: HP, Length: 101, dtype: int64"
            ]
          },
          "metadata": {},
          "execution_count": 115
        }
      ]
    },
    {
      "cell_type": "code",
      "metadata": {
        "id": "nmAbUoXjgnpL"
      },
      "source": [
        ""
      ],
      "execution_count": 115,
      "outputs": []
    },
    {
      "cell_type": "code",
      "metadata": {
        "id": "rJ-21KheQ356"
      },
      "source": [
        "from sklearn.datasets import load_iris"
      ],
      "execution_count": 116,
      "outputs": []
    },
    {
      "cell_type": "code",
      "metadata": {
        "id": "mna6YR2ER-Ua"
      },
      "source": [
        "iris = load_iris()"
      ],
      "execution_count": 117,
      "outputs": []
    },
    {
      "cell_type": "code",
      "metadata": {
        "colab": {
          "base_uri": "https://localhost:8080/",
          "height": 204
        },
        "id": "dbuW8dEjR_y_",
        "outputId": "e3b6bf54-e7ec-465e-d335-e4b1368e20d1"
      },
      "source": [
        "data = pd.DataFrame(iris.data, columns = iris.feature_names)\n",
        "data.head()"
      ],
      "execution_count": 118,
      "outputs": [
        {
          "output_type": "execute_result",
          "data": {
            "text/html": [
              "<div>\n",
              "<style scoped>\n",
              "    .dataframe tbody tr th:only-of-type {\n",
              "        vertical-align: middle;\n",
              "    }\n",
              "\n",
              "    .dataframe tbody tr th {\n",
              "        vertical-align: top;\n",
              "    }\n",
              "\n",
              "    .dataframe thead th {\n",
              "        text-align: right;\n",
              "    }\n",
              "</style>\n",
              "<table border=\"1\" class=\"dataframe\">\n",
              "  <thead>\n",
              "    <tr style=\"text-align: right;\">\n",
              "      <th></th>\n",
              "      <th>sepal length (cm)</th>\n",
              "      <th>sepal width (cm)</th>\n",
              "      <th>petal length (cm)</th>\n",
              "      <th>petal width (cm)</th>\n",
              "    </tr>\n",
              "  </thead>\n",
              "  <tbody>\n",
              "    <tr>\n",
              "      <th>0</th>\n",
              "      <td>5.1</td>\n",
              "      <td>3.5</td>\n",
              "      <td>1.4</td>\n",
              "      <td>0.2</td>\n",
              "    </tr>\n",
              "    <tr>\n",
              "      <th>1</th>\n",
              "      <td>4.9</td>\n",
              "      <td>3.0</td>\n",
              "      <td>1.4</td>\n",
              "      <td>0.2</td>\n",
              "    </tr>\n",
              "    <tr>\n",
              "      <th>2</th>\n",
              "      <td>4.7</td>\n",
              "      <td>3.2</td>\n",
              "      <td>1.3</td>\n",
              "      <td>0.2</td>\n",
              "    </tr>\n",
              "    <tr>\n",
              "      <th>3</th>\n",
              "      <td>4.6</td>\n",
              "      <td>3.1</td>\n",
              "      <td>1.5</td>\n",
              "      <td>0.2</td>\n",
              "    </tr>\n",
              "    <tr>\n",
              "      <th>4</th>\n",
              "      <td>5.0</td>\n",
              "      <td>3.6</td>\n",
              "      <td>1.4</td>\n",
              "      <td>0.2</td>\n",
              "    </tr>\n",
              "  </tbody>\n",
              "</table>\n",
              "</div>"
            ],
            "text/plain": [
              "   sepal length (cm)  sepal width (cm)  petal length (cm)  petal width (cm)\n",
              "0                5.1               3.5                1.4               0.2\n",
              "1                4.9               3.0                1.4               0.2\n",
              "2                4.7               3.2                1.3               0.2\n",
              "3                4.6               3.1                1.5               0.2\n",
              "4                5.0               3.6                1.4               0.2"
            ]
          },
          "metadata": {},
          "execution_count": 118
        }
      ]
    },
    {
      "cell_type": "code",
      "metadata": {
        "id": "xs7OelJhSJcD"
      },
      "source": [
        "data[\"target\"] = iris.target"
      ],
      "execution_count": 119,
      "outputs": []
    },
    {
      "cell_type": "code",
      "metadata": {
        "colab": {
          "base_uri": "https://localhost:8080/",
          "height": 204
        },
        "id": "Tf6igBx2SPWi",
        "outputId": "9883de94-5f81-4a83-c3d0-69d016a1c42a"
      },
      "source": [
        "data.head()"
      ],
      "execution_count": 120,
      "outputs": [
        {
          "output_type": "execute_result",
          "data": {
            "text/html": [
              "<div>\n",
              "<style scoped>\n",
              "    .dataframe tbody tr th:only-of-type {\n",
              "        vertical-align: middle;\n",
              "    }\n",
              "\n",
              "    .dataframe tbody tr th {\n",
              "        vertical-align: top;\n",
              "    }\n",
              "\n",
              "    .dataframe thead th {\n",
              "        text-align: right;\n",
              "    }\n",
              "</style>\n",
              "<table border=\"1\" class=\"dataframe\">\n",
              "  <thead>\n",
              "    <tr style=\"text-align: right;\">\n",
              "      <th></th>\n",
              "      <th>sepal length (cm)</th>\n",
              "      <th>sepal width (cm)</th>\n",
              "      <th>petal length (cm)</th>\n",
              "      <th>petal width (cm)</th>\n",
              "      <th>target</th>\n",
              "    </tr>\n",
              "  </thead>\n",
              "  <tbody>\n",
              "    <tr>\n",
              "      <th>0</th>\n",
              "      <td>5.1</td>\n",
              "      <td>3.5</td>\n",
              "      <td>1.4</td>\n",
              "      <td>0.2</td>\n",
              "      <td>0</td>\n",
              "    </tr>\n",
              "    <tr>\n",
              "      <th>1</th>\n",
              "      <td>4.9</td>\n",
              "      <td>3.0</td>\n",
              "      <td>1.4</td>\n",
              "      <td>0.2</td>\n",
              "      <td>0</td>\n",
              "    </tr>\n",
              "    <tr>\n",
              "      <th>2</th>\n",
              "      <td>4.7</td>\n",
              "      <td>3.2</td>\n",
              "      <td>1.3</td>\n",
              "      <td>0.2</td>\n",
              "      <td>0</td>\n",
              "    </tr>\n",
              "    <tr>\n",
              "      <th>3</th>\n",
              "      <td>4.6</td>\n",
              "      <td>3.1</td>\n",
              "      <td>1.5</td>\n",
              "      <td>0.2</td>\n",
              "      <td>0</td>\n",
              "    </tr>\n",
              "    <tr>\n",
              "      <th>4</th>\n",
              "      <td>5.0</td>\n",
              "      <td>3.6</td>\n",
              "      <td>1.4</td>\n",
              "      <td>0.2</td>\n",
              "      <td>0</td>\n",
              "    </tr>\n",
              "  </tbody>\n",
              "</table>\n",
              "</div>"
            ],
            "text/plain": [
              "   sepal length (cm)  sepal width (cm)  ...  petal width (cm)  target\n",
              "0                5.1               3.5  ...               0.2       0\n",
              "1                4.9               3.0  ...               0.2       0\n",
              "2                4.7               3.2  ...               0.2       0\n",
              "3                4.6               3.1  ...               0.2       0\n",
              "4                5.0               3.6  ...               0.2       0\n",
              "\n",
              "[5 rows x 5 columns]"
            ]
          },
          "metadata": {},
          "execution_count": 120
        }
      ]
    },
    {
      "cell_type": "code",
      "metadata": {
        "id": "8Ro4v0I9SRcM"
      },
      "source": [
        "data_tar = data.groupby(\"target\")"
      ],
      "execution_count": 121,
      "outputs": []
    },
    {
      "cell_type": "code",
      "metadata": {
        "colab": {
          "base_uri": "https://localhost:8080/"
        },
        "id": "1R3kznkYSXxj",
        "outputId": "5ee173ff-4654-4435-c049-6f98d1be37ae"
      },
      "source": [
        "data_tar.size()"
      ],
      "execution_count": 122,
      "outputs": [
        {
          "output_type": "execute_result",
          "data": {
            "text/plain": [
              "target\n",
              "0    50\n",
              "1    50\n",
              "2    50\n",
              "dtype: int64"
            ]
          },
          "metadata": {},
          "execution_count": 122
        }
      ]
    },
    {
      "cell_type": "code",
      "metadata": {
        "colab": {
          "base_uri": "https://localhost:8080/"
        },
        "id": "fJXG9Dw1Sc64",
        "outputId": "05cedc1a-3770-48c6-c378-60c271706c30"
      },
      "source": [
        "data_tar.groups"
      ],
      "execution_count": 123,
      "outputs": [
        {
          "output_type": "execute_result",
          "data": {
            "text/plain": [
              "{0: [0, 1, 2, 3, 4, 5, 6, 7, 8, 9, 10, 11, 12, 13, 14, 15, 16, 17, 18, 19, 20, 21, 22, 23, 24, 25, 26, 27, 28, 29, 30, 31, 32, 33, 34, 35, 36, 37, 38, 39, 40, 41, 42, 43, 44, 45, 46, 47, 48, 49], 1: [50, 51, 52, 53, 54, 55, 56, 57, 58, 59, 60, 61, 62, 63, 64, 65, 66, 67, 68, 69, 70, 71, 72, 73, 74, 75, 76, 77, 78, 79, 80, 81, 82, 83, 84, 85, 86, 87, 88, 89, 90, 91, 92, 93, 94, 95, 96, 97, 98, 99], 2: [100, 101, 102, 103, 104, 105, 106, 107, 108, 109, 110, 111, 112, 113, 114, 115, 116, 117, 118, 119, 120, 121, 122, 123, 124, 125, 126, 127, 128, 129, 130, 131, 132, 133, 134, 135, 136, 137, 138, 139, 140, 141, 142, 143, 144, 145, 146, 147, 148, 149]}"
            ]
          },
          "metadata": {},
          "execution_count": 123
        }
      ]
    },
    {
      "cell_type": "code",
      "metadata": {
        "colab": {
          "base_uri": "https://localhost:8080/"
        },
        "id": "y3BddEJqSpRq",
        "outputId": "f973a709-765b-4c08-babf-ad3d55eb01fb"
      },
      "source": [
        "data_tar.ngroups"
      ],
      "execution_count": 124,
      "outputs": [
        {
          "output_type": "execute_result",
          "data": {
            "text/plain": [
              "3"
            ]
          },
          "metadata": {},
          "execution_count": 124
        }
      ]
    },
    {
      "cell_type": "code",
      "metadata": {
        "id": "wkzO3-93TlU4"
      },
      "source": [
        "df = pd.read_csv(link)"
      ],
      "execution_count": 125,
      "outputs": []
    },
    {
      "cell_type": "code",
      "metadata": {
        "colab": {
          "base_uri": "https://localhost:8080/",
          "height": 204
        },
        "id": "UEVFnOWXUR_m",
        "outputId": "4a2d4f52-f9be-41e6-b1e7-a00003e91e21"
      },
      "source": [
        "df.head()"
      ],
      "execution_count": 126,
      "outputs": [
        {
          "output_type": "execute_result",
          "data": {
            "text/html": [
              "<div>\n",
              "<style scoped>\n",
              "    .dataframe tbody tr th:only-of-type {\n",
              "        vertical-align: middle;\n",
              "    }\n",
              "\n",
              "    .dataframe tbody tr th {\n",
              "        vertical-align: top;\n",
              "    }\n",
              "\n",
              "    .dataframe thead th {\n",
              "        text-align: right;\n",
              "    }\n",
              "</style>\n",
              "<table border=\"1\" class=\"dataframe\">\n",
              "  <thead>\n",
              "    <tr style=\"text-align: right;\">\n",
              "      <th></th>\n",
              "      <th>#</th>\n",
              "      <th>Name</th>\n",
              "      <th>Type 1</th>\n",
              "      <th>Type 2</th>\n",
              "      <th>Total</th>\n",
              "      <th>HP</th>\n",
              "      <th>Attack</th>\n",
              "      <th>Defense</th>\n",
              "      <th>Sp. Atk</th>\n",
              "      <th>Sp. Def</th>\n",
              "      <th>Speed</th>\n",
              "      <th>Generation</th>\n",
              "      <th>Mithical</th>\n",
              "      <th>Legendary</th>\n",
              "    </tr>\n",
              "  </thead>\n",
              "  <tbody>\n",
              "    <tr>\n",
              "      <th>0</th>\n",
              "      <td>1</td>\n",
              "      <td>Bulbasaur</td>\n",
              "      <td>Grass</td>\n",
              "      <td>Poison</td>\n",
              "      <td>318</td>\n",
              "      <td>45</td>\n",
              "      <td>49</td>\n",
              "      <td>49</td>\n",
              "      <td>65</td>\n",
              "      <td>65</td>\n",
              "      <td>45</td>\n",
              "      <td>1</td>\n",
              "      <td>False</td>\n",
              "      <td>False</td>\n",
              "    </tr>\n",
              "    <tr>\n",
              "      <th>1</th>\n",
              "      <td>2</td>\n",
              "      <td>Ivysaur</td>\n",
              "      <td>Grass</td>\n",
              "      <td>Poison</td>\n",
              "      <td>405</td>\n",
              "      <td>60</td>\n",
              "      <td>62</td>\n",
              "      <td>63</td>\n",
              "      <td>80</td>\n",
              "      <td>80</td>\n",
              "      <td>60</td>\n",
              "      <td>1</td>\n",
              "      <td>False</td>\n",
              "      <td>False</td>\n",
              "    </tr>\n",
              "    <tr>\n",
              "      <th>2</th>\n",
              "      <td>3</td>\n",
              "      <td>Venusaur</td>\n",
              "      <td>Grass</td>\n",
              "      <td>Poison</td>\n",
              "      <td>525</td>\n",
              "      <td>80</td>\n",
              "      <td>82</td>\n",
              "      <td>83</td>\n",
              "      <td>100</td>\n",
              "      <td>100</td>\n",
              "      <td>80</td>\n",
              "      <td>1</td>\n",
              "      <td>False</td>\n",
              "      <td>False</td>\n",
              "    </tr>\n",
              "    <tr>\n",
              "      <th>3</th>\n",
              "      <td>3</td>\n",
              "      <td>VenusaurMega Venusaur</td>\n",
              "      <td>Grass</td>\n",
              "      <td>Poison</td>\n",
              "      <td>625</td>\n",
              "      <td>80</td>\n",
              "      <td>100</td>\n",
              "      <td>123</td>\n",
              "      <td>122</td>\n",
              "      <td>120</td>\n",
              "      <td>80</td>\n",
              "      <td>1</td>\n",
              "      <td>False</td>\n",
              "      <td>False</td>\n",
              "    </tr>\n",
              "    <tr>\n",
              "      <th>4</th>\n",
              "      <td>4</td>\n",
              "      <td>Charmander</td>\n",
              "      <td>Fire</td>\n",
              "      <td>NaN</td>\n",
              "      <td>309</td>\n",
              "      <td>39</td>\n",
              "      <td>52</td>\n",
              "      <td>43</td>\n",
              "      <td>60</td>\n",
              "      <td>50</td>\n",
              "      <td>65</td>\n",
              "      <td>1</td>\n",
              "      <td>False</td>\n",
              "      <td>False</td>\n",
              "    </tr>\n",
              "  </tbody>\n",
              "</table>\n",
              "</div>"
            ],
            "text/plain": [
              "   #                   Name Type 1  ... Generation  Mithical  Legendary\n",
              "0  1              Bulbasaur  Grass  ...          1     False      False\n",
              "1  2                Ivysaur  Grass  ...          1     False      False\n",
              "2  3               Venusaur  Grass  ...          1     False      False\n",
              "3  3  VenusaurMega Venusaur  Grass  ...          1     False      False\n",
              "4  4             Charmander   Fire  ...          1     False      False\n",
              "\n",
              "[5 rows x 14 columns]"
            ]
          },
          "metadata": {},
          "execution_count": 126
        }
      ]
    },
    {
      "cell_type": "code",
      "metadata": {
        "id": "uu_93RaWUcpB"
      },
      "source": [
        "type_grp = df.groupby(\"Type 1\")"
      ],
      "execution_count": 127,
      "outputs": []
    },
    {
      "cell_type": "code",
      "metadata": {
        "colab": {
          "base_uri": "https://localhost:8080/"
        },
        "id": "h2yyHhBUUlNQ",
        "outputId": "466e0db6-9f53-4c0a-d7d0-108a90429345"
      },
      "source": [
        "type_grp.ngroups"
      ],
      "execution_count": 128,
      "outputs": [
        {
          "output_type": "execute_result",
          "data": {
            "text/plain": [
              "20"
            ]
          },
          "metadata": {},
          "execution_count": 128
        }
      ]
    },
    {
      "cell_type": "code",
      "metadata": {
        "colab": {
          "base_uri": "https://localhost:8080/"
        },
        "id": "tBsO-u0_UnAY",
        "outputId": "5eb1e029-7fe8-4f06-f940-c2adbf9934e9"
      },
      "source": [
        "type_grp.groups.keys()"
      ],
      "execution_count": 129,
      "outputs": [
        {
          "output_type": "execute_result",
          "data": {
            "text/plain": [
              "dict_keys(['Bug', 'Dark', 'Dragon', 'Electric', 'Fairy', 'Fighting', 'Figthing', 'Fire', 'Flying', 'Ghost', 'Grass', 'Ground', 'Ice', 'Normal', 'Physhic', 'Poison', 'Psychic', 'Rock', 'Steel', 'Water'])"
            ]
          },
          "metadata": {},
          "execution_count": 129
        }
      ]
    },
    {
      "cell_type": "code",
      "metadata": {
        "colab": {
          "base_uri": "https://localhost:8080/"
        },
        "id": "EsqXoTqfVF99",
        "outputId": "2da79807-0439-44e9-d9e7-6ffe2b4a4a82"
      },
      "source": [
        "type_grp.size()"
      ],
      "execution_count": 130,
      "outputs": [
        {
          "output_type": "execute_result",
          "data": {
            "text/plain": [
              "Type 1\n",
              "Bug          81\n",
              "Dark         38\n",
              "Dragon       38\n",
              "Electric     59\n",
              "Fairy        22\n",
              "Fighting     35\n",
              "Figthing      2\n",
              "Fire         63\n",
              "Flying        8\n",
              "Ghost        40\n",
              "Grass        90\n",
              "Ground       37\n",
              "Ice          28\n",
              "Normal      114\n",
              "Physhic       1\n",
              "Poison       36\n",
              "Psychic      69\n",
              "Rock         54\n",
              "Steel        35\n",
              "Water       131\n",
              "dtype: int64"
            ]
          },
          "metadata": {},
          "execution_count": 130
        }
      ]
    },
    {
      "cell_type": "code",
      "metadata": {
        "colab": {
          "base_uri": "https://localhost:8080/"
        },
        "id": "XewgLdcRVQP5",
        "outputId": "4a45547f-f462-48e6-9a60-a88d3d9a9da5"
      },
      "source": [
        "df.dtypes"
      ],
      "execution_count": 131,
      "outputs": [
        {
          "output_type": "execute_result",
          "data": {
            "text/plain": [
              "#              int64\n",
              "Name          object\n",
              "Type 1        object\n",
              "Type 2        object\n",
              "Total          int64\n",
              "HP             int64\n",
              "Attack         int64\n",
              "Defense        int64\n",
              "Sp. Atk        int64\n",
              "Sp. Def        int64\n",
              "Speed          int64\n",
              "Generation     int64\n",
              "Mithical        bool\n",
              "Legendary       bool\n",
              "dtype: object"
            ]
          },
          "metadata": {},
          "execution_count": 131
        }
      ]
    },
    {
      "cell_type": "code",
      "metadata": {
        "colab": {
          "base_uri": "https://localhost:8080/"
        },
        "id": "joucu0HyV_dF",
        "outputId": "ff82ddd9-5ad1-430b-c012-8ff4b3c561a8"
      },
      "source": [
        "df.Attack.dtypes"
      ],
      "execution_count": 132,
      "outputs": [
        {
          "output_type": "execute_result",
          "data": {
            "text/plain": [
              "dtype('int64')"
            ]
          },
          "metadata": {},
          "execution_count": 132
        }
      ]
    },
    {
      "cell_type": "code",
      "metadata": {
        "id": "M4JITHW2WLo5"
      },
      "source": [
        "df[\"Speed\"] = df[\"Speed\"].astype('float32')"
      ],
      "execution_count": 133,
      "outputs": []
    },
    {
      "cell_type": "code",
      "metadata": {
        "colab": {
          "base_uri": "https://localhost:8080/",
          "height": 204
        },
        "id": "JMFCqOXkW8JM",
        "outputId": "05a4de69-7a24-4c87-aff8-2635d2dcdb98"
      },
      "source": [
        "df.head()"
      ],
      "execution_count": 134,
      "outputs": [
        {
          "output_type": "execute_result",
          "data": {
            "text/html": [
              "<div>\n",
              "<style scoped>\n",
              "    .dataframe tbody tr th:only-of-type {\n",
              "        vertical-align: middle;\n",
              "    }\n",
              "\n",
              "    .dataframe tbody tr th {\n",
              "        vertical-align: top;\n",
              "    }\n",
              "\n",
              "    .dataframe thead th {\n",
              "        text-align: right;\n",
              "    }\n",
              "</style>\n",
              "<table border=\"1\" class=\"dataframe\">\n",
              "  <thead>\n",
              "    <tr style=\"text-align: right;\">\n",
              "      <th></th>\n",
              "      <th>#</th>\n",
              "      <th>Name</th>\n",
              "      <th>Type 1</th>\n",
              "      <th>Type 2</th>\n",
              "      <th>Total</th>\n",
              "      <th>HP</th>\n",
              "      <th>Attack</th>\n",
              "      <th>Defense</th>\n",
              "      <th>Sp. Atk</th>\n",
              "      <th>Sp. Def</th>\n",
              "      <th>Speed</th>\n",
              "      <th>Generation</th>\n",
              "      <th>Mithical</th>\n",
              "      <th>Legendary</th>\n",
              "    </tr>\n",
              "  </thead>\n",
              "  <tbody>\n",
              "    <tr>\n",
              "      <th>0</th>\n",
              "      <td>1</td>\n",
              "      <td>Bulbasaur</td>\n",
              "      <td>Grass</td>\n",
              "      <td>Poison</td>\n",
              "      <td>318</td>\n",
              "      <td>45</td>\n",
              "      <td>49</td>\n",
              "      <td>49</td>\n",
              "      <td>65</td>\n",
              "      <td>65</td>\n",
              "      <td>45.0</td>\n",
              "      <td>1</td>\n",
              "      <td>False</td>\n",
              "      <td>False</td>\n",
              "    </tr>\n",
              "    <tr>\n",
              "      <th>1</th>\n",
              "      <td>2</td>\n",
              "      <td>Ivysaur</td>\n",
              "      <td>Grass</td>\n",
              "      <td>Poison</td>\n",
              "      <td>405</td>\n",
              "      <td>60</td>\n",
              "      <td>62</td>\n",
              "      <td>63</td>\n",
              "      <td>80</td>\n",
              "      <td>80</td>\n",
              "      <td>60.0</td>\n",
              "      <td>1</td>\n",
              "      <td>False</td>\n",
              "      <td>False</td>\n",
              "    </tr>\n",
              "    <tr>\n",
              "      <th>2</th>\n",
              "      <td>3</td>\n",
              "      <td>Venusaur</td>\n",
              "      <td>Grass</td>\n",
              "      <td>Poison</td>\n",
              "      <td>525</td>\n",
              "      <td>80</td>\n",
              "      <td>82</td>\n",
              "      <td>83</td>\n",
              "      <td>100</td>\n",
              "      <td>100</td>\n",
              "      <td>80.0</td>\n",
              "      <td>1</td>\n",
              "      <td>False</td>\n",
              "      <td>False</td>\n",
              "    </tr>\n",
              "    <tr>\n",
              "      <th>3</th>\n",
              "      <td>3</td>\n",
              "      <td>VenusaurMega Venusaur</td>\n",
              "      <td>Grass</td>\n",
              "      <td>Poison</td>\n",
              "      <td>625</td>\n",
              "      <td>80</td>\n",
              "      <td>100</td>\n",
              "      <td>123</td>\n",
              "      <td>122</td>\n",
              "      <td>120</td>\n",
              "      <td>80.0</td>\n",
              "      <td>1</td>\n",
              "      <td>False</td>\n",
              "      <td>False</td>\n",
              "    </tr>\n",
              "    <tr>\n",
              "      <th>4</th>\n",
              "      <td>4</td>\n",
              "      <td>Charmander</td>\n",
              "      <td>Fire</td>\n",
              "      <td>NaN</td>\n",
              "      <td>309</td>\n",
              "      <td>39</td>\n",
              "      <td>52</td>\n",
              "      <td>43</td>\n",
              "      <td>60</td>\n",
              "      <td>50</td>\n",
              "      <td>65.0</td>\n",
              "      <td>1</td>\n",
              "      <td>False</td>\n",
              "      <td>False</td>\n",
              "    </tr>\n",
              "  </tbody>\n",
              "</table>\n",
              "</div>"
            ],
            "text/plain": [
              "   #                   Name Type 1  ... Generation  Mithical  Legendary\n",
              "0  1              Bulbasaur  Grass  ...          1     False      False\n",
              "1  2                Ivysaur  Grass  ...          1     False      False\n",
              "2  3               Venusaur  Grass  ...          1     False      False\n",
              "3  3  VenusaurMega Venusaur  Grass  ...          1     False      False\n",
              "4  4             Charmander   Fire  ...          1     False      False\n",
              "\n",
              "[5 rows x 14 columns]"
            ]
          },
          "metadata": {},
          "execution_count": 134
        }
      ]
    },
    {
      "cell_type": "code",
      "metadata": {
        "colab": {
          "base_uri": "https://localhost:8080/"
        },
        "id": "1yzq0q-7XMXh",
        "outputId": "f085f45a-7852-4b67-9be8-070f168f5874"
      },
      "source": [
        "df.dtypes"
      ],
      "execution_count": 135,
      "outputs": [
        {
          "output_type": "execute_result",
          "data": {
            "text/plain": [
              "#               int64\n",
              "Name           object\n",
              "Type 1         object\n",
              "Type 2         object\n",
              "Total           int64\n",
              "HP              int64\n",
              "Attack          int64\n",
              "Defense         int64\n",
              "Sp. Atk         int64\n",
              "Sp. Def         int64\n",
              "Speed         float32\n",
              "Generation      int64\n",
              "Mithical         bool\n",
              "Legendary        bool\n",
              "dtype: object"
            ]
          },
          "metadata": {},
          "execution_count": 135
        }
      ]
    },
    {
      "cell_type": "code",
      "metadata": {
        "id": "J4DjYCFgXyuf"
      },
      "source": [
        "df.Legendary = df[\"Legendary\"].replace([True, False], [1, 0])"
      ],
      "execution_count": 136,
      "outputs": []
    },
    {
      "cell_type": "code",
      "metadata": {
        "colab": {
          "base_uri": "https://localhost:8080/",
          "height": 204
        },
        "id": "K_-Jx6RyYj9n",
        "outputId": "e0927630-b9b1-43c7-e45a-0c0ad4a57320"
      },
      "source": [
        "df.head()"
      ],
      "execution_count": 137,
      "outputs": [
        {
          "output_type": "execute_result",
          "data": {
            "text/html": [
              "<div>\n",
              "<style scoped>\n",
              "    .dataframe tbody tr th:only-of-type {\n",
              "        vertical-align: middle;\n",
              "    }\n",
              "\n",
              "    .dataframe tbody tr th {\n",
              "        vertical-align: top;\n",
              "    }\n",
              "\n",
              "    .dataframe thead th {\n",
              "        text-align: right;\n",
              "    }\n",
              "</style>\n",
              "<table border=\"1\" class=\"dataframe\">\n",
              "  <thead>\n",
              "    <tr style=\"text-align: right;\">\n",
              "      <th></th>\n",
              "      <th>#</th>\n",
              "      <th>Name</th>\n",
              "      <th>Type 1</th>\n",
              "      <th>Type 2</th>\n",
              "      <th>Total</th>\n",
              "      <th>HP</th>\n",
              "      <th>Attack</th>\n",
              "      <th>Defense</th>\n",
              "      <th>Sp. Atk</th>\n",
              "      <th>Sp. Def</th>\n",
              "      <th>Speed</th>\n",
              "      <th>Generation</th>\n",
              "      <th>Mithical</th>\n",
              "      <th>Legendary</th>\n",
              "    </tr>\n",
              "  </thead>\n",
              "  <tbody>\n",
              "    <tr>\n",
              "      <th>0</th>\n",
              "      <td>1</td>\n",
              "      <td>Bulbasaur</td>\n",
              "      <td>Grass</td>\n",
              "      <td>Poison</td>\n",
              "      <td>318</td>\n",
              "      <td>45</td>\n",
              "      <td>49</td>\n",
              "      <td>49</td>\n",
              "      <td>65</td>\n",
              "      <td>65</td>\n",
              "      <td>45.0</td>\n",
              "      <td>1</td>\n",
              "      <td>False</td>\n",
              "      <td>0</td>\n",
              "    </tr>\n",
              "    <tr>\n",
              "      <th>1</th>\n",
              "      <td>2</td>\n",
              "      <td>Ivysaur</td>\n",
              "      <td>Grass</td>\n",
              "      <td>Poison</td>\n",
              "      <td>405</td>\n",
              "      <td>60</td>\n",
              "      <td>62</td>\n",
              "      <td>63</td>\n",
              "      <td>80</td>\n",
              "      <td>80</td>\n",
              "      <td>60.0</td>\n",
              "      <td>1</td>\n",
              "      <td>False</td>\n",
              "      <td>0</td>\n",
              "    </tr>\n",
              "    <tr>\n",
              "      <th>2</th>\n",
              "      <td>3</td>\n",
              "      <td>Venusaur</td>\n",
              "      <td>Grass</td>\n",
              "      <td>Poison</td>\n",
              "      <td>525</td>\n",
              "      <td>80</td>\n",
              "      <td>82</td>\n",
              "      <td>83</td>\n",
              "      <td>100</td>\n",
              "      <td>100</td>\n",
              "      <td>80.0</td>\n",
              "      <td>1</td>\n",
              "      <td>False</td>\n",
              "      <td>0</td>\n",
              "    </tr>\n",
              "    <tr>\n",
              "      <th>3</th>\n",
              "      <td>3</td>\n",
              "      <td>VenusaurMega Venusaur</td>\n",
              "      <td>Grass</td>\n",
              "      <td>Poison</td>\n",
              "      <td>625</td>\n",
              "      <td>80</td>\n",
              "      <td>100</td>\n",
              "      <td>123</td>\n",
              "      <td>122</td>\n",
              "      <td>120</td>\n",
              "      <td>80.0</td>\n",
              "      <td>1</td>\n",
              "      <td>False</td>\n",
              "      <td>0</td>\n",
              "    </tr>\n",
              "    <tr>\n",
              "      <th>4</th>\n",
              "      <td>4</td>\n",
              "      <td>Charmander</td>\n",
              "      <td>Fire</td>\n",
              "      <td>NaN</td>\n",
              "      <td>309</td>\n",
              "      <td>39</td>\n",
              "      <td>52</td>\n",
              "      <td>43</td>\n",
              "      <td>60</td>\n",
              "      <td>50</td>\n",
              "      <td>65.0</td>\n",
              "      <td>1</td>\n",
              "      <td>False</td>\n",
              "      <td>0</td>\n",
              "    </tr>\n",
              "  </tbody>\n",
              "</table>\n",
              "</div>"
            ],
            "text/plain": [
              "   #                   Name Type 1  ... Generation  Mithical  Legendary\n",
              "0  1              Bulbasaur  Grass  ...          1     False          0\n",
              "1  2                Ivysaur  Grass  ...          1     False          0\n",
              "2  3               Venusaur  Grass  ...          1     False          0\n",
              "3  3  VenusaurMega Venusaur  Grass  ...          1     False          0\n",
              "4  4             Charmander   Fire  ...          1     False          0\n",
              "\n",
              "[5 rows x 14 columns]"
            ]
          },
          "metadata": {},
          "execution_count": 137
        }
      ]
    },
    {
      "cell_type": "code",
      "metadata": {
        "id": "BxmysJUWYxOR"
      },
      "source": [
        "leg = df.groupby(\"Legendary\")"
      ],
      "execution_count": 138,
      "outputs": []
    },
    {
      "cell_type": "code",
      "metadata": {
        "colab": {
          "base_uri": "https://localhost:8080/"
        },
        "id": "TNzwE2aJY-c-",
        "outputId": "f4162dcd-a9eb-4b81-f776-cf858be82536"
      },
      "source": [
        "leg.ngroups"
      ],
      "execution_count": 139,
      "outputs": [
        {
          "output_type": "execute_result",
          "data": {
            "text/plain": [
              "2"
            ]
          },
          "metadata": {},
          "execution_count": 139
        }
      ]
    },
    {
      "cell_type": "code",
      "metadata": {
        "colab": {
          "base_uri": "https://localhost:8080/"
        },
        "id": "eFoInkoNZA1q",
        "outputId": "63b1e240-f8fe-4c72-d2d8-6930194dda4e"
      },
      "source": [
        "leg.size()"
      ],
      "execution_count": 140,
      "outputs": [
        {
          "output_type": "execute_result",
          "data": {
            "text/plain": [
              "Legendary\n",
              "0    929\n",
              "1     52\n",
              "dtype: int64"
            ]
          },
          "metadata": {},
          "execution_count": 140
        }
      ]
    },
    {
      "cell_type": "code",
      "metadata": {
        "id": "5f6yPgf9ZEM8"
      },
      "source": [
        "gen = df.groupby(\"Generation\")"
      ],
      "execution_count": 141,
      "outputs": []
    },
    {
      "cell_type": "code",
      "metadata": {
        "colab": {
          "base_uri": "https://localhost:8080/"
        },
        "id": "-Ma__uCiZN9Q",
        "outputId": "30130431-2d52-450a-9640-ad6b73521c08"
      },
      "source": [
        "gen.ngroups"
      ],
      "execution_count": 142,
      "outputs": [
        {
          "output_type": "execute_result",
          "data": {
            "text/plain": [
              "8"
            ]
          },
          "metadata": {},
          "execution_count": 142
        }
      ]
    },
    {
      "cell_type": "code",
      "metadata": {
        "colab": {
          "base_uri": "https://localhost:8080/"
        },
        "id": "54sDIMxbZPKN",
        "outputId": "d3f12ae3-7937-4708-c2c4-dd99145714ce"
      },
      "source": [
        "np.sum(gen.size().values)"
      ],
      "execution_count": 143,
      "outputs": [
        {
          "output_type": "execute_result",
          "data": {
            "text/plain": [
              "981"
            ]
          },
          "metadata": {},
          "execution_count": 143
        }
      ]
    },
    {
      "cell_type": "code",
      "metadata": {
        "colab": {
          "base_uri": "https://localhost:8080/"
        },
        "id": "JEV4HZLTZTkS",
        "outputId": "9860cfc2-5568-4f09-c85e-379117f0a61f"
      },
      "source": [
        "gen.size()"
      ],
      "execution_count": 144,
      "outputs": [
        {
          "output_type": "execute_result",
          "data": {
            "text/plain": [
              "Generation\n",
              "1    166\n",
              "2    106\n",
              "3    160\n",
              "4    121\n",
              "5    165\n",
              "6     82\n",
              "7     93\n",
              "8     88\n",
              "dtype: int64"
            ]
          },
          "metadata": {},
          "execution_count": 144
        }
      ]
    },
    {
      "cell_type": "code",
      "metadata": {
        "id": "D2qtf2RUZ-ci"
      },
      "source": [
        "dummy = pd.get_dummies(df[\"Type 1\"])"
      ],
      "execution_count": 145,
      "outputs": []
    },
    {
      "cell_type": "code",
      "metadata": {
        "colab": {
          "base_uri": "https://localhost:8080/"
        },
        "id": "hbeLvsUWbUB-",
        "outputId": "db95241b-413b-4e75-e523-300bc35e6490"
      },
      "source": [
        "dummy.groupby(\"Bug\").size()"
      ],
      "execution_count": 146,
      "outputs": [
        {
          "output_type": "execute_result",
          "data": {
            "text/plain": [
              "Bug\n",
              "0    900\n",
              "1     81\n",
              "dtype: int64"
            ]
          },
          "metadata": {},
          "execution_count": 146
        }
      ]
    },
    {
      "cell_type": "code",
      "metadata": {
        "colab": {
          "base_uri": "https://localhost:8080/",
          "height": 418
        },
        "id": "SSma-1gCbp8b",
        "outputId": "1739aefd-910a-4567-d761-524625c658ed"
      },
      "source": [
        "df"
      ],
      "execution_count": 147,
      "outputs": [
        {
          "output_type": "execute_result",
          "data": {
            "text/html": [
              "<div>\n",
              "<style scoped>\n",
              "    .dataframe tbody tr th:only-of-type {\n",
              "        vertical-align: middle;\n",
              "    }\n",
              "\n",
              "    .dataframe tbody tr th {\n",
              "        vertical-align: top;\n",
              "    }\n",
              "\n",
              "    .dataframe thead th {\n",
              "        text-align: right;\n",
              "    }\n",
              "</style>\n",
              "<table border=\"1\" class=\"dataframe\">\n",
              "  <thead>\n",
              "    <tr style=\"text-align: right;\">\n",
              "      <th></th>\n",
              "      <th>#</th>\n",
              "      <th>Name</th>\n",
              "      <th>Type 1</th>\n",
              "      <th>Type 2</th>\n",
              "      <th>Total</th>\n",
              "      <th>HP</th>\n",
              "      <th>Attack</th>\n",
              "      <th>Defense</th>\n",
              "      <th>Sp. Atk</th>\n",
              "      <th>Sp. Def</th>\n",
              "      <th>Speed</th>\n",
              "      <th>Generation</th>\n",
              "      <th>Mithical</th>\n",
              "      <th>Legendary</th>\n",
              "    </tr>\n",
              "  </thead>\n",
              "  <tbody>\n",
              "    <tr>\n",
              "      <th>0</th>\n",
              "      <td>1</td>\n",
              "      <td>Bulbasaur</td>\n",
              "      <td>Grass</td>\n",
              "      <td>Poison</td>\n",
              "      <td>318</td>\n",
              "      <td>45</td>\n",
              "      <td>49</td>\n",
              "      <td>49</td>\n",
              "      <td>65</td>\n",
              "      <td>65</td>\n",
              "      <td>45.0</td>\n",
              "      <td>1</td>\n",
              "      <td>False</td>\n",
              "      <td>0</td>\n",
              "    </tr>\n",
              "    <tr>\n",
              "      <th>1</th>\n",
              "      <td>2</td>\n",
              "      <td>Ivysaur</td>\n",
              "      <td>Grass</td>\n",
              "      <td>Poison</td>\n",
              "      <td>405</td>\n",
              "      <td>60</td>\n",
              "      <td>62</td>\n",
              "      <td>63</td>\n",
              "      <td>80</td>\n",
              "      <td>80</td>\n",
              "      <td>60.0</td>\n",
              "      <td>1</td>\n",
              "      <td>False</td>\n",
              "      <td>0</td>\n",
              "    </tr>\n",
              "    <tr>\n",
              "      <th>2</th>\n",
              "      <td>3</td>\n",
              "      <td>Venusaur</td>\n",
              "      <td>Grass</td>\n",
              "      <td>Poison</td>\n",
              "      <td>525</td>\n",
              "      <td>80</td>\n",
              "      <td>82</td>\n",
              "      <td>83</td>\n",
              "      <td>100</td>\n",
              "      <td>100</td>\n",
              "      <td>80.0</td>\n",
              "      <td>1</td>\n",
              "      <td>False</td>\n",
              "      <td>0</td>\n",
              "    </tr>\n",
              "    <tr>\n",
              "      <th>3</th>\n",
              "      <td>3</td>\n",
              "      <td>VenusaurMega Venusaur</td>\n",
              "      <td>Grass</td>\n",
              "      <td>Poison</td>\n",
              "      <td>625</td>\n",
              "      <td>80</td>\n",
              "      <td>100</td>\n",
              "      <td>123</td>\n",
              "      <td>122</td>\n",
              "      <td>120</td>\n",
              "      <td>80.0</td>\n",
              "      <td>1</td>\n",
              "      <td>False</td>\n",
              "      <td>0</td>\n",
              "    </tr>\n",
              "    <tr>\n",
              "      <th>4</th>\n",
              "      <td>4</td>\n",
              "      <td>Charmander</td>\n",
              "      <td>Fire</td>\n",
              "      <td>NaN</td>\n",
              "      <td>309</td>\n",
              "      <td>39</td>\n",
              "      <td>52</td>\n",
              "      <td>43</td>\n",
              "      <td>60</td>\n",
              "      <td>50</td>\n",
              "      <td>65.0</td>\n",
              "      <td>1</td>\n",
              "      <td>False</td>\n",
              "      <td>0</td>\n",
              "    </tr>\n",
              "    <tr>\n",
              "      <th>...</th>\n",
              "      <td>...</td>\n",
              "      <td>...</td>\n",
              "      <td>...</td>\n",
              "      <td>...</td>\n",
              "      <td>...</td>\n",
              "      <td>...</td>\n",
              "      <td>...</td>\n",
              "      <td>...</td>\n",
              "      <td>...</td>\n",
              "      <td>...</td>\n",
              "      <td>...</td>\n",
              "      <td>...</td>\n",
              "      <td>...</td>\n",
              "      <td>...</td>\n",
              "    </tr>\n",
              "    <tr>\n",
              "      <th>976</th>\n",
              "      <td>888</td>\n",
              "      <td>Zacian Hero of Many Battles</td>\n",
              "      <td>Fairy</td>\n",
              "      <td>NaN</td>\n",
              "      <td>670</td>\n",
              "      <td>92</td>\n",
              "      <td>130</td>\n",
              "      <td>115</td>\n",
              "      <td>80</td>\n",
              "      <td>115</td>\n",
              "      <td>138.0</td>\n",
              "      <td>8</td>\n",
              "      <td>False</td>\n",
              "      <td>0</td>\n",
              "    </tr>\n",
              "    <tr>\n",
              "      <th>977</th>\n",
              "      <td>889</td>\n",
              "      <td>Zamazenta Crowned Shield</td>\n",
              "      <td>Fighting</td>\n",
              "      <td>Steel</td>\n",
              "      <td>720</td>\n",
              "      <td>92</td>\n",
              "      <td>130</td>\n",
              "      <td>145</td>\n",
              "      <td>80</td>\n",
              "      <td>145</td>\n",
              "      <td>128.0</td>\n",
              "      <td>8</td>\n",
              "      <td>False</td>\n",
              "      <td>0</td>\n",
              "    </tr>\n",
              "    <tr>\n",
              "      <th>978</th>\n",
              "      <td>889</td>\n",
              "      <td>Zamazenta Hero of Many Battles</td>\n",
              "      <td>Fighting</td>\n",
              "      <td>NaN</td>\n",
              "      <td>670</td>\n",
              "      <td>92</td>\n",
              "      <td>130</td>\n",
              "      <td>115</td>\n",
              "      <td>80</td>\n",
              "      <td>115</td>\n",
              "      <td>138.0</td>\n",
              "      <td>8</td>\n",
              "      <td>False</td>\n",
              "      <td>0</td>\n",
              "    </tr>\n",
              "    <tr>\n",
              "      <th>979</th>\n",
              "      <td>890</td>\n",
              "      <td>Eternatus</td>\n",
              "      <td>Poison</td>\n",
              "      <td>Dragon</td>\n",
              "      <td>690</td>\n",
              "      <td>140</td>\n",
              "      <td>85</td>\n",
              "      <td>95</td>\n",
              "      <td>145</td>\n",
              "      <td>95</td>\n",
              "      <td>130.0</td>\n",
              "      <td>8</td>\n",
              "      <td>False</td>\n",
              "      <td>0</td>\n",
              "    </tr>\n",
              "    <tr>\n",
              "      <th>980</th>\n",
              "      <td>890</td>\n",
              "      <td>Eternatus Eternamax</td>\n",
              "      <td>Poison</td>\n",
              "      <td>Dragon</td>\n",
              "      <td>1125</td>\n",
              "      <td>255</td>\n",
              "      <td>115</td>\n",
              "      <td>250</td>\n",
              "      <td>125</td>\n",
              "      <td>250</td>\n",
              "      <td>130.0</td>\n",
              "      <td>8</td>\n",
              "      <td>False</td>\n",
              "      <td>0</td>\n",
              "    </tr>\n",
              "  </tbody>\n",
              "</table>\n",
              "<p>981 rows × 14 columns</p>\n",
              "</div>"
            ],
            "text/plain": [
              "       #                            Name  ... Mithical Legendary\n",
              "0      1                       Bulbasaur  ...    False         0\n",
              "1      2                         Ivysaur  ...    False         0\n",
              "2      3                        Venusaur  ...    False         0\n",
              "3      3           VenusaurMega Venusaur  ...    False         0\n",
              "4      4                      Charmander  ...    False         0\n",
              "..   ...                             ...  ...      ...       ...\n",
              "976  888     Zacian Hero of Many Battles  ...    False         0\n",
              "977  889        Zamazenta Crowned Shield  ...    False         0\n",
              "978  889  Zamazenta Hero of Many Battles  ...    False         0\n",
              "979  890                       Eternatus  ...    False         0\n",
              "980  890             Eternatus Eternamax  ...    False         0\n",
              "\n",
              "[981 rows x 14 columns]"
            ]
          },
          "metadata": {},
          "execution_count": 147
        }
      ]
    },
    {
      "cell_type": "code",
      "metadata": {
        "id": "MCEhfbDjcxeU",
        "colab": {
          "base_uri": "https://localhost:8080/",
          "height": 592
        },
        "outputId": "a9fd11f6-cabb-4aec-905d-994c0ada8ffc"
      },
      "source": [
        "plt.figure(figsize=(20,10))\n",
        "plt.hist(df.Speed, histtype= \"step\", color = \"m\")\n",
        "# plt.yticks(df.Speed)\n",
        "plt.show()"
      ],
      "execution_count": 148,
      "outputs": [
        {
          "output_type": "display_data",
          "data": {
            "image/png": "[encoded data removed]",
            "text/plain": [
              "<Figure size 1440x720 with 1 Axes>"
            ]
          },
          "metadata": {}
        }
      ]
    },
    {
      "cell_type": "code",
      "metadata": {
        "id": "gtDqnYhSc7G-"
      },
      "source": [
        ""
      ],
      "execution_count": 148,
      "outputs": []
    },
    {
      "cell_type": "code",
      "metadata": {
        "id": "OM2pxT_PXwv7"
      },
      "source": [
        ""
      ],
      "execution_count": 148,
      "outputs": []
    },
    {
      "cell_type": "code",
      "metadata": {
        "colab": {
          "base_uri": "https://localhost:8080/",
          "height": 418
        },
        "id": "m-oDqBFAb3SJ",
        "outputId": "3e0f11bd-a80a-49db-9c32-1ebf6f570b07"
      },
      "source": [
        "df"
      ],
      "execution_count": 149,
      "outputs": [
        {
          "output_type": "execute_result",
          "data": {
            "text/html": [
              "<div>\n",
              "<style scoped>\n",
              "    .dataframe tbody tr th:only-of-type {\n",
              "        vertical-align: middle;\n",
              "    }\n",
              "\n",
              "    .dataframe tbody tr th {\n",
              "        vertical-align: top;\n",
              "    }\n",
              "\n",
              "    .dataframe thead th {\n",
              "        text-align: right;\n",
              "    }\n",
              "</style>\n",
              "<table border=\"1\" class=\"dataframe\">\n",
              "  <thead>\n",
              "    <tr style=\"text-align: right;\">\n",
              "      <th></th>\n",
              "      <th>#</th>\n",
              "      <th>Name</th>\n",
              "      <th>Type 1</th>\n",
              "      <th>Type 2</th>\n",
              "      <th>Total</th>\n",
              "      <th>HP</th>\n",
              "      <th>Attack</th>\n",
              "      <th>Defense</th>\n",
              "      <th>Sp. Atk</th>\n",
              "      <th>Sp. Def</th>\n",
              "      <th>Speed</th>\n",
              "      <th>Generation</th>\n",
              "      <th>Mithical</th>\n",
              "      <th>Legendary</th>\n",
              "    </tr>\n",
              "  </thead>\n",
              "  <tbody>\n",
              "    <tr>\n",
              "      <th>0</th>\n",
              "      <td>1</td>\n",
              "      <td>Bulbasaur</td>\n",
              "      <td>Grass</td>\n",
              "      <td>Poison</td>\n",
              "      <td>318</td>\n",
              "      <td>45</td>\n",
              "      <td>49</td>\n",
              "      <td>49</td>\n",
              "      <td>65</td>\n",
              "      <td>65</td>\n",
              "      <td>45.0</td>\n",
              "      <td>1</td>\n",
              "      <td>False</td>\n",
              "      <td>0</td>\n",
              "    </tr>\n",
              "    <tr>\n",
              "      <th>1</th>\n",
              "      <td>2</td>\n",
              "      <td>Ivysaur</td>\n",
              "      <td>Grass</td>\n",
              "      <td>Poison</td>\n",
              "      <td>405</td>\n",
              "      <td>60</td>\n",
              "      <td>62</td>\n",
              "      <td>63</td>\n",
              "      <td>80</td>\n",
              "      <td>80</td>\n",
              "      <td>60.0</td>\n",
              "      <td>1</td>\n",
              "      <td>False</td>\n",
              "      <td>0</td>\n",
              "    </tr>\n",
              "    <tr>\n",
              "      <th>2</th>\n",
              "      <td>3</td>\n",
              "      <td>Venusaur</td>\n",
              "      <td>Grass</td>\n",
              "      <td>Poison</td>\n",
              "      <td>525</td>\n",
              "      <td>80</td>\n",
              "      <td>82</td>\n",
              "      <td>83</td>\n",
              "      <td>100</td>\n",
              "      <td>100</td>\n",
              "      <td>80.0</td>\n",
              "      <td>1</td>\n",
              "      <td>False</td>\n",
              "      <td>0</td>\n",
              "    </tr>\n",
              "    <tr>\n",
              "      <th>3</th>\n",
              "      <td>3</td>\n",
              "      <td>VenusaurMega Venusaur</td>\n",
              "      <td>Grass</td>\n",
              "      <td>Poison</td>\n",
              "      <td>625</td>\n",
              "      <td>80</td>\n",
              "      <td>100</td>\n",
              "      <td>123</td>\n",
              "      <td>122</td>\n",
              "      <td>120</td>\n",
              "      <td>80.0</td>\n",
              "      <td>1</td>\n",
              "      <td>False</td>\n",
              "      <td>0</td>\n",
              "    </tr>\n",
              "    <tr>\n",
              "      <th>4</th>\n",
              "      <td>4</td>\n",
              "      <td>Charmander</td>\n",
              "      <td>Fire</td>\n",
              "      <td>NaN</td>\n",
              "      <td>309</td>\n",
              "      <td>39</td>\n",
              "      <td>52</td>\n",
              "      <td>43</td>\n",
              "      <td>60</td>\n",
              "      <td>50</td>\n",
              "      <td>65.0</td>\n",
              "      <td>1</td>\n",
              "      <td>False</td>\n",
              "      <td>0</td>\n",
              "    </tr>\n",
              "    <tr>\n",
              "      <th>...</th>\n",
              "      <td>...</td>\n",
              "      <td>...</td>\n",
              "      <td>...</td>\n",
              "      <td>...</td>\n",
              "      <td>...</td>\n",
              "      <td>...</td>\n",
              "      <td>...</td>\n",
              "      <td>...</td>\n",
              "      <td>...</td>\n",
              "      <td>...</td>\n",
              "      <td>...</td>\n",
              "      <td>...</td>\n",
              "      <td>...</td>\n",
              "      <td>...</td>\n",
              "    </tr>\n",
              "    <tr>\n",
              "      <th>976</th>\n",
              "      <td>888</td>\n",
              "      <td>Zacian Hero of Many Battles</td>\n",
              "      <td>Fairy</td>\n",
              "      <td>NaN</td>\n",
              "      <td>670</td>\n",
              "      <td>92</td>\n",
              "      <td>130</td>\n",
              "      <td>115</td>\n",
              "      <td>80</td>\n",
              "      <td>115</td>\n",
              "      <td>138.0</td>\n",
              "      <td>8</td>\n",
              "      <td>False</td>\n",
              "      <td>0</td>\n",
              "    </tr>\n",
              "    <tr>\n",
              "      <th>977</th>\n",
              "      <td>889</td>\n",
              "      <td>Zamazenta Crowned Shield</td>\n",
              "      <td>Fighting</td>\n",
              "      <td>Steel</td>\n",
              "      <td>720</td>\n",
              "      <td>92</td>\n",
              "      <td>130</td>\n",
              "      <td>145</td>\n",
              "      <td>80</td>\n",
              "      <td>145</td>\n",
              "      <td>128.0</td>\n",
              "      <td>8</td>\n",
              "      <td>False</td>\n",
              "      <td>0</td>\n",
              "    </tr>\n",
              "    <tr>\n",
              "      <th>978</th>\n",
              "      <td>889</td>\n",
              "      <td>Zamazenta Hero of Many Battles</td>\n",
              "      <td>Fighting</td>\n",
              "      <td>NaN</td>\n",
              "      <td>670</td>\n",
              "      <td>92</td>\n",
              "      <td>130</td>\n",
              "      <td>115</td>\n",
              "      <td>80</td>\n",
              "      <td>115</td>\n",
              "      <td>138.0</td>\n",
              "      <td>8</td>\n",
              "      <td>False</td>\n",
              "      <td>0</td>\n",
              "    </tr>\n",
              "    <tr>\n",
              "      <th>979</th>\n",
              "      <td>890</td>\n",
              "      <td>Eternatus</td>\n",
              "      <td>Poison</td>\n",
              "      <td>Dragon</td>\n",
              "      <td>690</td>\n",
              "      <td>140</td>\n",
              "      <td>85</td>\n",
              "      <td>95</td>\n",
              "      <td>145</td>\n",
              "      <td>95</td>\n",
              "      <td>130.0</td>\n",
              "      <td>8</td>\n",
              "      <td>False</td>\n",
              "      <td>0</td>\n",
              "    </tr>\n",
              "    <tr>\n",
              "      <th>980</th>\n",
              "      <td>890</td>\n",
              "      <td>Eternatus Eternamax</td>\n",
              "      <td>Poison</td>\n",
              "      <td>Dragon</td>\n",
              "      <td>1125</td>\n",
              "      <td>255</td>\n",
              "      <td>115</td>\n",
              "      <td>250</td>\n",
              "      <td>125</td>\n",
              "      <td>250</td>\n",
              "      <td>130.0</td>\n",
              "      <td>8</td>\n",
              "      <td>False</td>\n",
              "      <td>0</td>\n",
              "    </tr>\n",
              "  </tbody>\n",
              "</table>\n",
              "<p>981 rows × 14 columns</p>\n",
              "</div>"
            ],
            "text/plain": [
              "       #                            Name  ... Mithical Legendary\n",
              "0      1                       Bulbasaur  ...    False         0\n",
              "1      2                         Ivysaur  ...    False         0\n",
              "2      3                        Venusaur  ...    False         0\n",
              "3      3           VenusaurMega Venusaur  ...    False         0\n",
              "4      4                      Charmander  ...    False         0\n",
              "..   ...                             ...  ...      ...       ...\n",
              "976  888     Zacian Hero of Many Battles  ...    False         0\n",
              "977  889        Zamazenta Crowned Shield  ...    False         0\n",
              "978  889  Zamazenta Hero of Many Battles  ...    False         0\n",
              "979  890                       Eternatus  ...    False         0\n",
              "980  890             Eternatus Eternamax  ...    False         0\n",
              "\n",
              "[981 rows x 14 columns]"
            ]
          },
          "metadata": {},
          "execution_count": 149
        }
      ]
    },
    {
      "cell_type": "code",
      "metadata": {
        "colab": {
          "base_uri": "https://localhost:8080/",
          "height": 418
        },
        "id": "1WjM0mXlfHoU",
        "outputId": "b5fbe764-ade5-41fd-9e43-c52aade55e38"
      },
      "source": [
        "df.drop(\"#\", axis = 1)"
      ],
      "execution_count": 150,
      "outputs": [
        {
          "output_type": "execute_result",
          "data": {
            "text/html": [
              "<div>\n",
              "<style scoped>\n",
              "    .dataframe tbody tr th:only-of-type {\n",
              "        vertical-align: middle;\n",
              "    }\n",
              "\n",
              "    .dataframe tbody tr th {\n",
              "        vertical-align: top;\n",
              "    }\n",
              "\n",
              "    .dataframe thead th {\n",
              "        text-align: right;\n",
              "    }\n",
              "</style>\n",
              "<table border=\"1\" class=\"dataframe\">\n",
              "  <thead>\n",
              "    <tr style=\"text-align: right;\">\n",
              "      <th></th>\n",
              "      <th>Name</th>\n",
              "      <th>Type 1</th>\n",
              "      <th>Type 2</th>\n",
              "      <th>Total</th>\n",
              "      <th>HP</th>\n",
              "      <th>Attack</th>\n",
              "      <th>Defense</th>\n",
              "      <th>Sp. Atk</th>\n",
              "      <th>Sp. Def</th>\n",
              "      <th>Speed</th>\n",
              "      <th>Generation</th>\n",
              "      <th>Mithical</th>\n",
              "      <th>Legendary</th>\n",
              "    </tr>\n",
              "  </thead>\n",
              "  <tbody>\n",
              "    <tr>\n",
              "      <th>0</th>\n",
              "      <td>Bulbasaur</td>\n",
              "      <td>Grass</td>\n",
              "      <td>Poison</td>\n",
              "      <td>318</td>\n",
              "      <td>45</td>\n",
              "      <td>49</td>\n",
              "      <td>49</td>\n",
              "      <td>65</td>\n",
              "      <td>65</td>\n",
              "      <td>45.0</td>\n",
              "      <td>1</td>\n",
              "      <td>False</td>\n",
              "      <td>0</td>\n",
              "    </tr>\n",
              "    <tr>\n",
              "      <th>1</th>\n",
              "      <td>Ivysaur</td>\n",
              "      <td>Grass</td>\n",
              "      <td>Poison</td>\n",
              "      <td>405</td>\n",
              "      <td>60</td>\n",
              "      <td>62</td>\n",
              "      <td>63</td>\n",
              "      <td>80</td>\n",
              "      <td>80</td>\n",
              "      <td>60.0</td>\n",
              "      <td>1</td>\n",
              "      <td>False</td>\n",
              "      <td>0</td>\n",
              "    </tr>\n",
              "    <tr>\n",
              "      <th>2</th>\n",
              "      <td>Venusaur</td>\n",
              "      <td>Grass</td>\n",
              "      <td>Poison</td>\n",
              "      <td>525</td>\n",
              "      <td>80</td>\n",
              "      <td>82</td>\n",
              "      <td>83</td>\n",
              "      <td>100</td>\n",
              "      <td>100</td>\n",
              "      <td>80.0</td>\n",
              "      <td>1</td>\n",
              "      <td>False</td>\n",
              "      <td>0</td>\n",
              "    </tr>\n",
              "    <tr>\n",
              "      <th>3</th>\n",
              "      <td>VenusaurMega Venusaur</td>\n",
              "      <td>Grass</td>\n",
              "      <td>Poison</td>\n",
              "      <td>625</td>\n",
              "      <td>80</td>\n",
              "      <td>100</td>\n",
              "      <td>123</td>\n",
              "      <td>122</td>\n",
              "      <td>120</td>\n",
              "      <td>80.0</td>\n",
              "      <td>1</td>\n",
              "      <td>False</td>\n",
              "      <td>0</td>\n",
              "    </tr>\n",
              "    <tr>\n",
              "      <th>4</th>\n",
              "      <td>Charmander</td>\n",
              "      <td>Fire</td>\n",
              "      <td>NaN</td>\n",
              "      <td>309</td>\n",
              "      <td>39</td>\n",
              "      <td>52</td>\n",
              "      <td>43</td>\n",
              "      <td>60</td>\n",
              "      <td>50</td>\n",
              "      <td>65.0</td>\n",
              "      <td>1</td>\n",
              "      <td>False</td>\n",
              "      <td>0</td>\n",
              "    </tr>\n",
              "    <tr>\n",
              "      <th>...</th>\n",
              "      <td>...</td>\n",
              "      <td>...</td>\n",
              "      <td>...</td>\n",
              "      <td>...</td>\n",
              "      <td>...</td>\n",
              "      <td>...</td>\n",
              "      <td>...</td>\n",
              "      <td>...</td>\n",
              "      <td>...</td>\n",
              "      <td>...</td>\n",
              "      <td>...</td>\n",
              "      <td>...</td>\n",
              "      <td>...</td>\n",
              "    </tr>\n",
              "    <tr>\n",
              "      <th>976</th>\n",
              "      <td>Zacian Hero of Many Battles</td>\n",
              "      <td>Fairy</td>\n",
              "      <td>NaN</td>\n",
              "      <td>670</td>\n",
              "      <td>92</td>\n",
              "      <td>130</td>\n",
              "      <td>115</td>\n",
              "      <td>80</td>\n",
              "      <td>115</td>\n",
              "      <td>138.0</td>\n",
              "      <td>8</td>\n",
              "      <td>False</td>\n",
              "      <td>0</td>\n",
              "    </tr>\n",
              "    <tr>\n",
              "      <th>977</th>\n",
              "      <td>Zamazenta Crowned Shield</td>\n",
              "      <td>Fighting</td>\n",
              "      <td>Steel</td>\n",
              "      <td>720</td>\n",
              "      <td>92</td>\n",
              "      <td>130</td>\n",
              "      <td>145</td>\n",
              "      <td>80</td>\n",
              "      <td>145</td>\n",
              "      <td>128.0</td>\n",
              "      <td>8</td>\n",
              "      <td>False</td>\n",
              "      <td>0</td>\n",
              "    </tr>\n",
              "    <tr>\n",
              "      <th>978</th>\n",
              "      <td>Zamazenta Hero of Many Battles</td>\n",
              "      <td>Fighting</td>\n",
              "      <td>NaN</td>\n",
              "      <td>670</td>\n",
              "      <td>92</td>\n",
              "      <td>130</td>\n",
              "      <td>115</td>\n",
              "      <td>80</td>\n",
              "      <td>115</td>\n",
              "      <td>138.0</td>\n",
              "      <td>8</td>\n",
              "      <td>False</td>\n",
              "      <td>0</td>\n",
              "    </tr>\n",
              "    <tr>\n",
              "      <th>979</th>\n",
              "      <td>Eternatus</td>\n",
              "      <td>Poison</td>\n",
              "      <td>Dragon</td>\n",
              "      <td>690</td>\n",
              "      <td>140</td>\n",
              "      <td>85</td>\n",
              "      <td>95</td>\n",
              "      <td>145</td>\n",
              "      <td>95</td>\n",
              "      <td>130.0</td>\n",
              "      <td>8</td>\n",
              "      <td>False</td>\n",
              "      <td>0</td>\n",
              "    </tr>\n",
              "    <tr>\n",
              "      <th>980</th>\n",
              "      <td>Eternatus Eternamax</td>\n",
              "      <td>Poison</td>\n",
              "      <td>Dragon</td>\n",
              "      <td>1125</td>\n",
              "      <td>255</td>\n",
              "      <td>115</td>\n",
              "      <td>250</td>\n",
              "      <td>125</td>\n",
              "      <td>250</td>\n",
              "      <td>130.0</td>\n",
              "      <td>8</td>\n",
              "      <td>False</td>\n",
              "      <td>0</td>\n",
              "    </tr>\n",
              "  </tbody>\n",
              "</table>\n",
              "<p>981 rows × 13 columns</p>\n",
              "</div>"
            ],
            "text/plain": [
              "                               Name    Type 1  ... Mithical  Legendary\n",
              "0                         Bulbasaur     Grass  ...    False          0\n",
              "1                           Ivysaur     Grass  ...    False          0\n",
              "2                          Venusaur     Grass  ...    False          0\n",
              "3             VenusaurMega Venusaur     Grass  ...    False          0\n",
              "4                        Charmander      Fire  ...    False          0\n",
              "..                              ...       ...  ...      ...        ...\n",
              "976     Zacian Hero of Many Battles     Fairy  ...    False          0\n",
              "977        Zamazenta Crowned Shield  Fighting  ...    False          0\n",
              "978  Zamazenta Hero of Many Battles  Fighting  ...    False          0\n",
              "979                       Eternatus    Poison  ...    False          0\n",
              "980             Eternatus Eternamax    Poison  ...    False          0\n",
              "\n",
              "[981 rows x 13 columns]"
            ]
          },
          "metadata": {},
          "execution_count": 150
        }
      ]
    },
    {
      "cell_type": "code",
      "metadata": {
        "colab": {
          "base_uri": "https://localhost:8080/",
          "height": 418
        },
        "id": "jPm7KF88fQMU",
        "outputId": "31fe105e-b3a0-425a-d62b-9de420756edd"
      },
      "source": [
        "df.rename(columns={\"Name\": \"Test_Name\"})"
      ],
      "execution_count": 151,
      "outputs": [
        {
          "output_type": "execute_result",
          "data": {
            "text/html": [
              "<div>\n",
              "<style scoped>\n",
              "    .dataframe tbody tr th:only-of-type {\n",
              "        vertical-align: middle;\n",
              "    }\n",
              "\n",
              "    .dataframe tbody tr th {\n",
              "        vertical-align: top;\n",
              "    }\n",
              "\n",
              "    .dataframe thead th {\n",
              "        text-align: right;\n",
              "    }\n",
              "</style>\n",
              "<table border=\"1\" class=\"dataframe\">\n",
              "  <thead>\n",
              "    <tr style=\"text-align: right;\">\n",
              "      <th></th>\n",
              "      <th>#</th>\n",
              "      <th>Test_Name</th>\n",
              "      <th>Type 1</th>\n",
              "      <th>Type 2</th>\n",
              "      <th>Total</th>\n",
              "      <th>HP</th>\n",
              "      <th>Attack</th>\n",
              "      <th>Defense</th>\n",
              "      <th>Sp. Atk</th>\n",
              "      <th>Sp. Def</th>\n",
              "      <th>Speed</th>\n",
              "      <th>Generation</th>\n",
              "      <th>Mithical</th>\n",
              "      <th>Legendary</th>\n",
              "    </tr>\n",
              "  </thead>\n",
              "  <tbody>\n",
              "    <tr>\n",
              "      <th>0</th>\n",
              "      <td>1</td>\n",
              "      <td>Bulbasaur</td>\n",
              "      <td>Grass</td>\n",
              "      <td>Poison</td>\n",
              "      <td>318</td>\n",
              "      <td>45</td>\n",
              "      <td>49</td>\n",
              "      <td>49</td>\n",
              "      <td>65</td>\n",
              "      <td>65</td>\n",
              "      <td>45.0</td>\n",
              "      <td>1</td>\n",
              "      <td>False</td>\n",
              "      <td>0</td>\n",
              "    </tr>\n",
              "    <tr>\n",
              "      <th>1</th>\n",
              "      <td>2</td>\n",
              "      <td>Ivysaur</td>\n",
              "      <td>Grass</td>\n",
              "      <td>Poison</td>\n",
              "      <td>405</td>\n",
              "      <td>60</td>\n",
              "      <td>62</td>\n",
              "      <td>63</td>\n",
              "      <td>80</td>\n",
              "      <td>80</td>\n",
              "      <td>60.0</td>\n",
              "      <td>1</td>\n",
              "      <td>False</td>\n",
              "      <td>0</td>\n",
              "    </tr>\n",
              "    <tr>\n",
              "      <th>2</th>\n",
              "      <td>3</td>\n",
              "      <td>Venusaur</td>\n",
              "      <td>Grass</td>\n",
              "      <td>Poison</td>\n",
              "      <td>525</td>\n",
              "      <td>80</td>\n",
              "      <td>82</td>\n",
              "      <td>83</td>\n",
              "      <td>100</td>\n",
              "      <td>100</td>\n",
              "      <td>80.0</td>\n",
              "      <td>1</td>\n",
              "      <td>False</td>\n",
              "      <td>0</td>\n",
              "    </tr>\n",
              "    <tr>\n",
              "      <th>3</th>\n",
              "      <td>3</td>\n",
              "      <td>VenusaurMega Venusaur</td>\n",
              "      <td>Grass</td>\n",
              "      <td>Poison</td>\n",
              "      <td>625</td>\n",
              "      <td>80</td>\n",
              "      <td>100</td>\n",
              "      <td>123</td>\n",
              "      <td>122</td>\n",
              "      <td>120</td>\n",
              "      <td>80.0</td>\n",
              "      <td>1</td>\n",
              "      <td>False</td>\n",
              "      <td>0</td>\n",
              "    </tr>\n",
              "    <tr>\n",
              "      <th>4</th>\n",
              "      <td>4</td>\n",
              "      <td>Charmander</td>\n",
              "      <td>Fire</td>\n",
              "      <td>NaN</td>\n",
              "      <td>309</td>\n",
              "      <td>39</td>\n",
              "      <td>52</td>\n",
              "      <td>43</td>\n",
              "      <td>60</td>\n",
              "      <td>50</td>\n",
              "      <td>65.0</td>\n",
              "      <td>1</td>\n",
              "      <td>False</td>\n",
              "      <td>0</td>\n",
              "    </tr>\n",
              "    <tr>\n",
              "      <th>...</th>\n",
              "      <td>...</td>\n",
              "      <td>...</td>\n",
              "      <td>...</td>\n",
              "      <td>...</td>\n",
              "      <td>...</td>\n",
              "      <td>...</td>\n",
              "      <td>...</td>\n",
              "      <td>...</td>\n",
              "      <td>...</td>\n",
              "      <td>...</td>\n",
              "      <td>...</td>\n",
              "      <td>...</td>\n",
              "      <td>...</td>\n",
              "      <td>...</td>\n",
              "    </tr>\n",
              "    <tr>\n",
              "      <th>976</th>\n",
              "      <td>888</td>\n",
              "      <td>Zacian Hero of Many Battles</td>\n",
              "      <td>Fairy</td>\n",
              "      <td>NaN</td>\n",
              "      <td>670</td>\n",
              "      <td>92</td>\n",
              "      <td>130</td>\n",
              "      <td>115</td>\n",
              "      <td>80</td>\n",
              "      <td>115</td>\n",
              "      <td>138.0</td>\n",
              "      <td>8</td>\n",
              "      <td>False</td>\n",
              "      <td>0</td>\n",
              "    </tr>\n",
              "    <tr>\n",
              "      <th>977</th>\n",
              "      <td>889</td>\n",
              "      <td>Zamazenta Crowned Shield</td>\n",
              "      <td>Fighting</td>\n",
              "      <td>Steel</td>\n",
              "      <td>720</td>\n",
              "      <td>92</td>\n",
              "      <td>130</td>\n",
              "      <td>145</td>\n",
              "      <td>80</td>\n",
              "      <td>145</td>\n",
              "      <td>128.0</td>\n",
              "      <td>8</td>\n",
              "      <td>False</td>\n",
              "      <td>0</td>\n",
              "    </tr>\n",
              "    <tr>\n",
              "      <th>978</th>\n",
              "      <td>889</td>\n",
              "      <td>Zamazenta Hero of Many Battles</td>\n",
              "      <td>Fighting</td>\n",
              "      <td>NaN</td>\n",
              "      <td>670</td>\n",
              "      <td>92</td>\n",
              "      <td>130</td>\n",
              "      <td>115</td>\n",
              "      <td>80</td>\n",
              "      <td>115</td>\n",
              "      <td>138.0</td>\n",
              "      <td>8</td>\n",
              "      <td>False</td>\n",
              "      <td>0</td>\n",
              "    </tr>\n",
              "    <tr>\n",
              "      <th>979</th>\n",
              "      <td>890</td>\n",
              "      <td>Eternatus</td>\n",
              "      <td>Poison</td>\n",
              "      <td>Dragon</td>\n",
              "      <td>690</td>\n",
              "      <td>140</td>\n",
              "      <td>85</td>\n",
              "      <td>95</td>\n",
              "      <td>145</td>\n",
              "      <td>95</td>\n",
              "      <td>130.0</td>\n",
              "      <td>8</td>\n",
              "      <td>False</td>\n",
              "      <td>0</td>\n",
              "    </tr>\n",
              "    <tr>\n",
              "      <th>980</th>\n",
              "      <td>890</td>\n",
              "      <td>Eternatus Eternamax</td>\n",
              "      <td>Poison</td>\n",
              "      <td>Dragon</td>\n",
              "      <td>1125</td>\n",
              "      <td>255</td>\n",
              "      <td>115</td>\n",
              "      <td>250</td>\n",
              "      <td>125</td>\n",
              "      <td>250</td>\n",
              "      <td>130.0</td>\n",
              "      <td>8</td>\n",
              "      <td>False</td>\n",
              "      <td>0</td>\n",
              "    </tr>\n",
              "  </tbody>\n",
              "</table>\n",
              "<p>981 rows × 14 columns</p>\n",
              "</div>"
            ],
            "text/plain": [
              "       #                       Test_Name  ... Mithical Legendary\n",
              "0      1                       Bulbasaur  ...    False         0\n",
              "1      2                         Ivysaur  ...    False         0\n",
              "2      3                        Venusaur  ...    False         0\n",
              "3      3           VenusaurMega Venusaur  ...    False         0\n",
              "4      4                      Charmander  ...    False         0\n",
              "..   ...                             ...  ...      ...       ...\n",
              "976  888     Zacian Hero of Many Battles  ...    False         0\n",
              "977  889        Zamazenta Crowned Shield  ...    False         0\n",
              "978  889  Zamazenta Hero of Many Battles  ...    False         0\n",
              "979  890                       Eternatus  ...    False         0\n",
              "980  890             Eternatus Eternamax  ...    False         0\n",
              "\n",
              "[981 rows x 14 columns]"
            ]
          },
          "metadata": {},
          "execution_count": 151
        }
      ]
    },
    {
      "cell_type": "code",
      "metadata": {
        "id": "MYGqrGekz668"
      },
      "source": [
        ""
      ],
      "execution_count": 151,
      "outputs": []
    },
    {
      "cell_type": "markdown",
      "metadata": {
        "id": "92lQZy-hz8-E"
      },
      "source": [
        "saturday night "
      ]
    },
    {
      "cell_type": "code",
      "metadata": {
        "id": "_4oxGntvz_GK"
      },
      "source": [
        "df = pd.read_csv(\"https://raw.githubusercontent.com/realpython/python-data-cleaning/master/Datasets/BL-Flickr-Images-Book.csv\", nrows = 500)"
      ],
      "execution_count": 152,
      "outputs": []
    },
    {
      "cell_type": "code",
      "metadata": {
        "id": "T0p67SLR0AWr",
        "colab": {
          "base_uri": "https://localhost:8080/",
          "height": 474
        },
        "outputId": "e0153caf-24aa-4ee4-8fca-49effbf2526e"
      },
      "source": [
        "df.head()"
      ],
      "execution_count": 153,
      "outputs": [
        {
          "output_type": "execute_result",
          "data": {
            "text/html": [
              "<div>\n",
              "<style scoped>\n",
              "    .dataframe tbody tr th:only-of-type {\n",
              "        vertical-align: middle;\n",
              "    }\n",
              "\n",
              "    .dataframe tbody tr th {\n",
              "        vertical-align: top;\n",
              "    }\n",
              "\n",
              "    .dataframe thead th {\n",
              "        text-align: right;\n",
              "    }\n",
              "</style>\n",
              "<table border=\"1\" class=\"dataframe\">\n",
              "  <thead>\n",
              "    <tr style=\"text-align: right;\">\n",
              "      <th></th>\n",
              "      <th>Identifier</th>\n",
              "      <th>Edition Statement</th>\n",
              "      <th>Place of Publication</th>\n",
              "      <th>Date of Publication</th>\n",
              "      <th>Publisher</th>\n",
              "      <th>Title</th>\n",
              "      <th>Author</th>\n",
              "      <th>Contributors</th>\n",
              "      <th>Corporate Author</th>\n",
              "      <th>Corporate Contributors</th>\n",
              "      <th>Former owner</th>\n",
              "      <th>Engraver</th>\n",
              "      <th>Issuance type</th>\n",
              "      <th>Flickr URL</th>\n",
              "      <th>Shelfmarks</th>\n",
              "    </tr>\n",
              "  </thead>\n",
              "  <tbody>\n",
              "    <tr>\n",
              "      <th>0</th>\n",
              "      <td>206</td>\n",
              "      <td>NaN</td>\n",
              "      <td>London</td>\n",
              "      <td>1879 [1878]</td>\n",
              "      <td>S. Tinsley &amp; Co.</td>\n",
              "      <td>Walter Forbes. [A novel.] By A. A</td>\n",
              "      <td>A. A.</td>\n",
              "      <td>FORBES, Walter.</td>\n",
              "      <td>NaN</td>\n",
              "      <td>NaN</td>\n",
              "      <td>NaN</td>\n",
              "      <td>NaN</td>\n",
              "      <td>monographic</td>\n",
              "      <td>http://www.flickr.com/photos/britishlibrary/ta...</td>\n",
              "      <td>British Library HMNTS 12641.b.30.</td>\n",
              "    </tr>\n",
              "    <tr>\n",
              "      <th>1</th>\n",
              "      <td>216</td>\n",
              "      <td>NaN</td>\n",
              "      <td>London; Virtue &amp; Yorston</td>\n",
              "      <td>1868</td>\n",
              "      <td>Virtue &amp; Co.</td>\n",
              "      <td>All for Greed. [A novel. The dedication signed...</td>\n",
              "      <td>A., A. A.</td>\n",
              "      <td>BLAZE DE BURY, Marie Pauline Rose - Baroness</td>\n",
              "      <td>NaN</td>\n",
              "      <td>NaN</td>\n",
              "      <td>NaN</td>\n",
              "      <td>NaN</td>\n",
              "      <td>monographic</td>\n",
              "      <td>http://www.flickr.com/photos/britishlibrary/ta...</td>\n",
              "      <td>British Library HMNTS 12626.cc.2.</td>\n",
              "    </tr>\n",
              "    <tr>\n",
              "      <th>2</th>\n",
              "      <td>218</td>\n",
              "      <td>NaN</td>\n",
              "      <td>London</td>\n",
              "      <td>1869</td>\n",
              "      <td>Bradbury, Evans &amp; Co.</td>\n",
              "      <td>Love the Avenger. By the author of “All for Gr...</td>\n",
              "      <td>A., A. A.</td>\n",
              "      <td>BLAZE DE BURY, Marie Pauline Rose - Baroness</td>\n",
              "      <td>NaN</td>\n",
              "      <td>NaN</td>\n",
              "      <td>NaN</td>\n",
              "      <td>NaN</td>\n",
              "      <td>monographic</td>\n",
              "      <td>http://www.flickr.com/photos/britishlibrary/ta...</td>\n",
              "      <td>British Library HMNTS 12625.dd.1.</td>\n",
              "    </tr>\n",
              "    <tr>\n",
              "      <th>3</th>\n",
              "      <td>472</td>\n",
              "      <td>NaN</td>\n",
              "      <td>London</td>\n",
              "      <td>1851</td>\n",
              "      <td>James Darling</td>\n",
              "      <td>Welsh Sketches, chiefly ecclesiastical, to the...</td>\n",
              "      <td>A., E. S.</td>\n",
              "      <td>Appleyard, Ernest Silvanus.</td>\n",
              "      <td>NaN</td>\n",
              "      <td>NaN</td>\n",
              "      <td>NaN</td>\n",
              "      <td>NaN</td>\n",
              "      <td>monographic</td>\n",
              "      <td>http://www.flickr.com/photos/britishlibrary/ta...</td>\n",
              "      <td>British Library HMNTS 10369.bbb.15.</td>\n",
              "    </tr>\n",
              "    <tr>\n",
              "      <th>4</th>\n",
              "      <td>480</td>\n",
              "      <td>A new edition, revised, etc.</td>\n",
              "      <td>London</td>\n",
              "      <td>1857</td>\n",
              "      <td>Wertheim &amp; Macintosh</td>\n",
              "      <td>[The World in which I live, and my place in it...</td>\n",
              "      <td>A., E. S.</td>\n",
              "      <td>BROOME, John Henry.</td>\n",
              "      <td>NaN</td>\n",
              "      <td>NaN</td>\n",
              "      <td>NaN</td>\n",
              "      <td>NaN</td>\n",
              "      <td>monographic</td>\n",
              "      <td>http://www.flickr.com/photos/britishlibrary/ta...</td>\n",
              "      <td>British Library HMNTS 9007.d.28.</td>\n",
              "    </tr>\n",
              "  </tbody>\n",
              "</table>\n",
              "</div>"
            ],
            "text/plain": [
              "   Identifier  ...                           Shelfmarks\n",
              "0         206  ...    British Library HMNTS 12641.b.30.\n",
              "1         216  ...    British Library HMNTS 12626.cc.2.\n",
              "2         218  ...    British Library HMNTS 12625.dd.1.\n",
              "3         472  ...  British Library HMNTS 10369.bbb.15.\n",
              "4         480  ...     British Library HMNTS 9007.d.28.\n",
              "\n",
              "[5 rows x 15 columns]"
            ]
          },
          "metadata": {},
          "execution_count": 153
        }
      ]
    },
    {
      "cell_type": "code",
      "metadata": {
        "colab": {
          "base_uri": "https://localhost:8080/"
        },
        "id": "4vYL7ziv3e2U",
        "outputId": "37e4a320-4ca1-41af-dba4-e313f4710052"
      },
      "source": [
        "df.info()"
      ],
      "execution_count": 154,
      "outputs": [
        {
          "output_type": "stream",
          "name": "stdout",
          "text": [
            "<class 'pandas.core.frame.DataFrame'>\n",
            "RangeIndex: 500 entries, 0 to 499\n",
            "Data columns (total 15 columns):\n",
            " #   Column                  Non-Null Count  Dtype  \n",
            "---  ------                  --------------  -----  \n",
            " 0   Identifier              500 non-null    int64  \n",
            " 1   Edition Statement       45 non-null     object \n",
            " 2   Place of Publication    500 non-null    object \n",
            " 3   Date of Publication     494 non-null    object \n",
            " 4   Publisher               350 non-null    object \n",
            " 5   Title                   500 non-null    object \n",
            " 6   Author                  341 non-null    object \n",
            " 7   Contributors            500 non-null    object \n",
            " 8   Corporate Author        0 non-null      float64\n",
            " 9   Corporate Contributors  0 non-null      float64\n",
            " 10  Former owner            0 non-null      float64\n",
            " 11  Engraver                0 non-null      float64\n",
            " 12  Issuance type           500 non-null    object \n",
            " 13  Flickr URL              500 non-null    object \n",
            " 14  Shelfmarks              500 non-null    object \n",
            "dtypes: float64(4), int64(1), object(10)\n",
            "memory usage: 58.7+ KB\n"
          ]
        }
      ]
    },
    {
      "cell_type": "code",
      "metadata": {
        "id": "RNoHVYhC3zL6"
      },
      "source": [
        "to_drop = [\"Corporate Author\", \"Corporate Contributors\", \"Former owner\", \"Edition Statement\", \"Author\", \"Publisher\"]"
      ],
      "execution_count": 155,
      "outputs": []
    },
    {
      "cell_type": "code",
      "metadata": {
        "id": "BKusoaPT4eqI"
      },
      "source": [
        "df.drop(columns= to_drop, axis = 1, inplace = True)"
      ],
      "execution_count": 156,
      "outputs": []
    },
    {
      "cell_type": "code",
      "metadata": {
        "colab": {
          "base_uri": "https://localhost:8080/"
        },
        "id": "ESRdU4hv4pwU",
        "outputId": "eba40c2b-23b9-44bc-a9ed-22d26dc8cdff"
      },
      "source": [
        "df.info()"
      ],
      "execution_count": 157,
      "outputs": [
        {
          "output_type": "stream",
          "name": "stdout",
          "text": [
            "<class 'pandas.core.frame.DataFrame'>\n",
            "RangeIndex: 500 entries, 0 to 499\n",
            "Data columns (total 9 columns):\n",
            " #   Column                Non-Null Count  Dtype  \n",
            "---  ------                --------------  -----  \n",
            " 0   Identifier            500 non-null    int64  \n",
            " 1   Place of Publication  500 non-null    object \n",
            " 2   Date of Publication   494 non-null    object \n",
            " 3   Title                 500 non-null    object \n",
            " 4   Contributors          500 non-null    object \n",
            " 5   Engraver              0 non-null      float64\n",
            " 6   Issuance type         500 non-null    object \n",
            " 7   Flickr URL            500 non-null    object \n",
            " 8   Shelfmarks            500 non-null    object \n",
            "dtypes: float64(1), int64(1), object(7)\n",
            "memory usage: 35.3+ KB\n"
          ]
        }
      ]
    },
    {
      "cell_type": "markdown",
      "metadata": {
        "id": "LAj8rY9p5Qcb"
      },
      "source": [
        "# droping unwanted cols "
      ]
    },
    {
      "cell_type": "code",
      "metadata": {
        "id": "lO6QxVSJ4vy2"
      },
      "source": [
        "df.drop(\"Engraver\", axis = 1, inplace = True)"
      ],
      "execution_count": 158,
      "outputs": []
    },
    {
      "cell_type": "code",
      "metadata": {
        "colab": {
          "base_uri": "https://localhost:8080/"
        },
        "id": "an3c6TFw48VK",
        "outputId": "4ff3a94b-c7ac-481f-ca78-0643d19fd481"
      },
      "source": [
        "df.info()"
      ],
      "execution_count": 159,
      "outputs": [
        {
          "output_type": "stream",
          "name": "stdout",
          "text": [
            "<class 'pandas.core.frame.DataFrame'>\n",
            "RangeIndex: 500 entries, 0 to 499\n",
            "Data columns (total 8 columns):\n",
            " #   Column                Non-Null Count  Dtype \n",
            "---  ------                --------------  ----- \n",
            " 0   Identifier            500 non-null    int64 \n",
            " 1   Place of Publication  500 non-null    object\n",
            " 2   Date of Publication   494 non-null    object\n",
            " 3   Title                 500 non-null    object\n",
            " 4   Contributors          500 non-null    object\n",
            " 5   Issuance type         500 non-null    object\n",
            " 6   Flickr URL            500 non-null    object\n",
            " 7   Shelfmarks            500 non-null    object\n",
            "dtypes: int64(1), object(7)\n",
            "memory usage: 31.4+ KB\n"
          ]
        }
      ]
    },
    {
      "cell_type": "code",
      "metadata": {
        "colab": {
          "base_uri": "https://localhost:8080/",
          "height": 305
        },
        "id": "5E8R4jUb49N1",
        "outputId": "e0b250c5-22c1-4fa5-de7f-c761f55279db"
      },
      "source": [
        "df.head()"
      ],
      "execution_count": 160,
      "outputs": [
        {
          "output_type": "execute_result",
          "data": {
            "text/html": [
              "<div>\n",
              "<style scoped>\n",
              "    .dataframe tbody tr th:only-of-type {\n",
              "        vertical-align: middle;\n",
              "    }\n",
              "\n",
              "    .dataframe tbody tr th {\n",
              "        vertical-align: top;\n",
              "    }\n",
              "\n",
              "    .dataframe thead th {\n",
              "        text-align: right;\n",
              "    }\n",
              "</style>\n",
              "<table border=\"1\" class=\"dataframe\">\n",
              "  <thead>\n",
              "    <tr style=\"text-align: right;\">\n",
              "      <th></th>\n",
              "      <th>Identifier</th>\n",
              "      <th>Place of Publication</th>\n",
              "      <th>Date of Publication</th>\n",
              "      <th>Title</th>\n",
              "      <th>Contributors</th>\n",
              "      <th>Issuance type</th>\n",
              "      <th>Flickr URL</th>\n",
              "      <th>Shelfmarks</th>\n",
              "    </tr>\n",
              "  </thead>\n",
              "  <tbody>\n",
              "    <tr>\n",
              "      <th>0</th>\n",
              "      <td>206</td>\n",
              "      <td>London</td>\n",
              "      <td>1879 [1878]</td>\n",
              "      <td>Walter Forbes. [A novel.] By A. A</td>\n",
              "      <td>FORBES, Walter.</td>\n",
              "      <td>monographic</td>\n",
              "      <td>http://www.flickr.com/photos/britishlibrary/ta...</td>\n",
              "      <td>British Library HMNTS 12641.b.30.</td>\n",
              "    </tr>\n",
              "    <tr>\n",
              "      <th>1</th>\n",
              "      <td>216</td>\n",
              "      <td>London; Virtue &amp; Yorston</td>\n",
              "      <td>1868</td>\n",
              "      <td>All for Greed. [A novel. The dedication signed...</td>\n",
              "      <td>BLAZE DE BURY, Marie Pauline Rose - Baroness</td>\n",
              "      <td>monographic</td>\n",
              "      <td>http://www.flickr.com/photos/britishlibrary/ta...</td>\n",
              "      <td>British Library HMNTS 12626.cc.2.</td>\n",
              "    </tr>\n",
              "    <tr>\n",
              "      <th>2</th>\n",
              "      <td>218</td>\n",
              "      <td>London</td>\n",
              "      <td>1869</td>\n",
              "      <td>Love the Avenger. By the author of “All for Gr...</td>\n",
              "      <td>BLAZE DE BURY, Marie Pauline Rose - Baroness</td>\n",
              "      <td>monographic</td>\n",
              "      <td>http://www.flickr.com/photos/britishlibrary/ta...</td>\n",
              "      <td>British Library HMNTS 12625.dd.1.</td>\n",
              "    </tr>\n",
              "    <tr>\n",
              "      <th>3</th>\n",
              "      <td>472</td>\n",
              "      <td>London</td>\n",
              "      <td>1851</td>\n",
              "      <td>Welsh Sketches, chiefly ecclesiastical, to the...</td>\n",
              "      <td>Appleyard, Ernest Silvanus.</td>\n",
              "      <td>monographic</td>\n",
              "      <td>http://www.flickr.com/photos/britishlibrary/ta...</td>\n",
              "      <td>British Library HMNTS 10369.bbb.15.</td>\n",
              "    </tr>\n",
              "    <tr>\n",
              "      <th>4</th>\n",
              "      <td>480</td>\n",
              "      <td>London</td>\n",
              "      <td>1857</td>\n",
              "      <td>[The World in which I live, and my place in it...</td>\n",
              "      <td>BROOME, John Henry.</td>\n",
              "      <td>monographic</td>\n",
              "      <td>http://www.flickr.com/photos/britishlibrary/ta...</td>\n",
              "      <td>British Library HMNTS 9007.d.28.</td>\n",
              "    </tr>\n",
              "  </tbody>\n",
              "</table>\n",
              "</div>"
            ],
            "text/plain": [
              "   Identifier  ...                           Shelfmarks\n",
              "0         206  ...    British Library HMNTS 12641.b.30.\n",
              "1         216  ...    British Library HMNTS 12626.cc.2.\n",
              "2         218  ...    British Library HMNTS 12625.dd.1.\n",
              "3         472  ...  British Library HMNTS 10369.bbb.15.\n",
              "4         480  ...     British Library HMNTS 9007.d.28.\n",
              "\n",
              "[5 rows x 8 columns]"
            ]
          },
          "metadata": {},
          "execution_count": 160
        }
      ]
    },
    {
      "cell_type": "code",
      "metadata": {
        "id": "nTf0XeCZ5BWv"
      },
      "source": [
        ""
      ],
      "execution_count": 160,
      "outputs": []
    },
    {
      "cell_type": "markdown",
      "metadata": {
        "id": "Bre2l_vc5YhB"
      },
      "source": [
        "#changing index"
      ]
    },
    {
      "cell_type": "code",
      "metadata": {
        "colab": {
          "base_uri": "https://localhost:8080/"
        },
        "id": "ENdYJwu85bG-",
        "outputId": "cfe8d15f-bff3-48b1-e424-58b337ef94d2"
      },
      "source": [
        "df.Identifier.is_unique"
      ],
      "execution_count": 161,
      "outputs": [
        {
          "output_type": "execute_result",
          "data": {
            "text/plain": [
              "True"
            ]
          },
          "metadata": {},
          "execution_count": 161
        }
      ]
    },
    {
      "cell_type": "code",
      "metadata": {
        "id": "RyCD63ww5jux"
      },
      "source": [
        "df.set_index(\"Identifier\", inplace = True)"
      ],
      "execution_count": 162,
      "outputs": []
    },
    {
      "cell_type": "code",
      "metadata": {
        "colab": {
          "base_uri": "https://localhost:8080/",
          "height": 336
        },
        "id": "ljCXpUu55sgN",
        "outputId": "15de2884-9125-44b2-e087-00c2b4b99ecb"
      },
      "source": [
        "df.head()"
      ],
      "execution_count": 163,
      "outputs": [
        {
          "output_type": "execute_result",
          "data": {
            "text/html": [
              "<div>\n",
              "<style scoped>\n",
              "    .dataframe tbody tr th:only-of-type {\n",
              "        vertical-align: middle;\n",
              "    }\n",
              "\n",
              "    .dataframe tbody tr th {\n",
              "        vertical-align: top;\n",
              "    }\n",
              "\n",
              "    .dataframe thead th {\n",
              "        text-align: right;\n",
              "    }\n",
              "</style>\n",
              "<table border=\"1\" class=\"dataframe\">\n",
              "  <thead>\n",
              "    <tr style=\"text-align: right;\">\n",
              "      <th></th>\n",
              "      <th>Place of Publication</th>\n",
              "      <th>Date of Publication</th>\n",
              "      <th>Title</th>\n",
              "      <th>Contributors</th>\n",
              "      <th>Issuance type</th>\n",
              "      <th>Flickr URL</th>\n",
              "      <th>Shelfmarks</th>\n",
              "    </tr>\n",
              "    <tr>\n",
              "      <th>Identifier</th>\n",
              "      <th></th>\n",
              "      <th></th>\n",
              "      <th></th>\n",
              "      <th></th>\n",
              "      <th></th>\n",
              "      <th></th>\n",
              "      <th></th>\n",
              "    </tr>\n",
              "  </thead>\n",
              "  <tbody>\n",
              "    <tr>\n",
              "      <th>206</th>\n",
              "      <td>London</td>\n",
              "      <td>1879 [1878]</td>\n",
              "      <td>Walter Forbes. [A novel.] By A. A</td>\n",
              "      <td>FORBES, Walter.</td>\n",
              "      <td>monographic</td>\n",
              "      <td>http://www.flickr.com/photos/britishlibrary/ta...</td>\n",
              "      <td>British Library HMNTS 12641.b.30.</td>\n",
              "    </tr>\n",
              "    <tr>\n",
              "      <th>216</th>\n",
              "      <td>London; Virtue &amp; Yorston</td>\n",
              "      <td>1868</td>\n",
              "      <td>All for Greed. [A novel. The dedication signed...</td>\n",
              "      <td>BLAZE DE BURY, Marie Pauline Rose - Baroness</td>\n",
              "      <td>monographic</td>\n",
              "      <td>http://www.flickr.com/photos/britishlibrary/ta...</td>\n",
              "      <td>British Library HMNTS 12626.cc.2.</td>\n",
              "    </tr>\n",
              "    <tr>\n",
              "      <th>218</th>\n",
              "      <td>London</td>\n",
              "      <td>1869</td>\n",
              "      <td>Love the Avenger. By the author of “All for Gr...</td>\n",
              "      <td>BLAZE DE BURY, Marie Pauline Rose - Baroness</td>\n",
              "      <td>monographic</td>\n",
              "      <td>http://www.flickr.com/photos/britishlibrary/ta...</td>\n",
              "      <td>British Library HMNTS 12625.dd.1.</td>\n",
              "    </tr>\n",
              "    <tr>\n",
              "      <th>472</th>\n",
              "      <td>London</td>\n",
              "      <td>1851</td>\n",
              "      <td>Welsh Sketches, chiefly ecclesiastical, to the...</td>\n",
              "      <td>Appleyard, Ernest Silvanus.</td>\n",
              "      <td>monographic</td>\n",
              "      <td>http://www.flickr.com/photos/britishlibrary/ta...</td>\n",
              "      <td>British Library HMNTS 10369.bbb.15.</td>\n",
              "    </tr>\n",
              "    <tr>\n",
              "      <th>480</th>\n",
              "      <td>London</td>\n",
              "      <td>1857</td>\n",
              "      <td>[The World in which I live, and my place in it...</td>\n",
              "      <td>BROOME, John Henry.</td>\n",
              "      <td>monographic</td>\n",
              "      <td>http://www.flickr.com/photos/britishlibrary/ta...</td>\n",
              "      <td>British Library HMNTS 9007.d.28.</td>\n",
              "    </tr>\n",
              "  </tbody>\n",
              "</table>\n",
              "</div>"
            ],
            "text/plain": [
              "                Place of Publication  ...                           Shelfmarks\n",
              "Identifier                            ...                                     \n",
              "206                           London  ...    British Library HMNTS 12641.b.30.\n",
              "216         London; Virtue & Yorston  ...    British Library HMNTS 12626.cc.2.\n",
              "218                           London  ...    British Library HMNTS 12625.dd.1.\n",
              "472                           London  ...  British Library HMNTS 10369.bbb.15.\n",
              "480                           London  ...     British Library HMNTS 9007.d.28.\n",
              "\n",
              "[5 rows x 7 columns]"
            ]
          },
          "metadata": {},
          "execution_count": 163
        }
      ]
    },
    {
      "cell_type": "code",
      "metadata": {
        "colab": {
          "base_uri": "https://localhost:8080/"
        },
        "id": "NYCrKEP35tOu",
        "outputId": "e617900a-b6cf-47f5-8aba-9f990425e1b1"
      },
      "source": [
        "df.dtypes"
      ],
      "execution_count": 164,
      "outputs": [
        {
          "output_type": "execute_result",
          "data": {
            "text/plain": [
              "Place of Publication    object\n",
              "Date of Publication     object\n",
              "Title                   object\n",
              "Contributors            object\n",
              "Issuance type           object\n",
              "Flickr URL              object\n",
              "Shelfmarks              object\n",
              "dtype: object"
            ]
          },
          "metadata": {},
          "execution_count": 164
        }
      ]
    },
    {
      "cell_type": "code",
      "metadata": {
        "colab": {
          "base_uri": "https://localhost:8080/"
        },
        "id": "BtVPUnaB5-MX",
        "outputId": "43bf41d5-b9ac-4e4d-b919-51fa6054fc1d"
      },
      "source": [
        " df.loc[1905:, 'Date of Publication'].head(10)"
      ],
      "execution_count": 165,
      "outputs": [
        {
          "output_type": "execute_result",
          "data": {
            "text/plain": [
              "Identifier\n",
              "1905           1888\n",
              "1929    1839, 38-54\n",
              "2836           1897\n",
              "2854           1865\n",
              "2956        1860-63\n",
              "2957           1873\n",
              "3017           1866\n",
              "3131           1899\n",
              "4598           1814\n",
              "4884           1820\n",
              "Name: Date of Publication, dtype: object"
            ]
          },
          "metadata": {},
          "execution_count": 165
        }
      ]
    },
    {
      "cell_type": "code",
      "metadata": {
        "colab": {
          "base_uri": "https://localhost:8080/"
        },
        "id": "nvVCRbSb8QlZ",
        "outputId": "3f34c09f-2293-428a-e437-e78e68bd63e2"
      },
      "source": [
        "df.loc[:, 'Date of Publication']"
      ],
      "execution_count": 166,
      "outputs": [
        {
          "output_type": "execute_result",
          "data": {
            "text/plain": [
              "Identifier\n",
              "206       1879 [1878]\n",
              "216              1868\n",
              "218              1869\n",
              "472              1851\n",
              "480              1857\n",
              "             ...     \n",
              "199977    1870 [1869]\n",
              "201740           1870\n",
              "203445           1846\n",
              "203579           1838\n",
              "203888           1863\n",
              "Name: Date of Publication, Length: 500, dtype: object"
            ]
          },
          "metadata": {},
          "execution_count": 166
        }
      ]
    },
    {
      "cell_type": "code",
      "metadata": {
        "id": "K4vN0pRxTe89"
      },
      "source": [
        "# tt = df[\"Date of Publication\"].str.extract(r'^(\\d{4})')\n",
        "tt = df[\"Date of Publication\"].str.extract(r'(\\d{4})')\n",
        "# here is regular expression concept select first 4 digits "
      ],
      "execution_count": 167,
      "outputs": []
    },
    {
      "cell_type": "code",
      "metadata": {
        "colab": {
          "base_uri": "https://localhost:8080/",
          "height": 449
        },
        "id": "mBVuaeeQPtkQ",
        "outputId": "ae7c7ea8-6073-4ae3-dec4-3e2e3bef78a7"
      },
      "source": [
        "tt"
      ],
      "execution_count": 168,
      "outputs": [
        {
          "output_type": "execute_result",
          "data": {
            "text/html": [
              "<div>\n",
              "<style scoped>\n",
              "    .dataframe tbody tr th:only-of-type {\n",
              "        vertical-align: middle;\n",
              "    }\n",
              "\n",
              "    .dataframe tbody tr th {\n",
              "        vertical-align: top;\n",
              "    }\n",
              "\n",
              "    .dataframe thead th {\n",
              "        text-align: right;\n",
              "    }\n",
              "</style>\n",
              "<table border=\"1\" class=\"dataframe\">\n",
              "  <thead>\n",
              "    <tr style=\"text-align: right;\">\n",
              "      <th></th>\n",
              "      <th>0</th>\n",
              "    </tr>\n",
              "    <tr>\n",
              "      <th>Identifier</th>\n",
              "      <th></th>\n",
              "    </tr>\n",
              "  </thead>\n",
              "  <tbody>\n",
              "    <tr>\n",
              "      <th>206</th>\n",
              "      <td>1879</td>\n",
              "    </tr>\n",
              "    <tr>\n",
              "      <th>216</th>\n",
              "      <td>1868</td>\n",
              "    </tr>\n",
              "    <tr>\n",
              "      <th>218</th>\n",
              "      <td>1869</td>\n",
              "    </tr>\n",
              "    <tr>\n",
              "      <th>472</th>\n",
              "      <td>1851</td>\n",
              "    </tr>\n",
              "    <tr>\n",
              "      <th>480</th>\n",
              "      <td>1857</td>\n",
              "    </tr>\n",
              "    <tr>\n",
              "      <th>...</th>\n",
              "      <td>...</td>\n",
              "    </tr>\n",
              "    <tr>\n",
              "      <th>199977</th>\n",
              "      <td>1870</td>\n",
              "    </tr>\n",
              "    <tr>\n",
              "      <th>201740</th>\n",
              "      <td>1870</td>\n",
              "    </tr>\n",
              "    <tr>\n",
              "      <th>203445</th>\n",
              "      <td>1846</td>\n",
              "    </tr>\n",
              "    <tr>\n",
              "      <th>203579</th>\n",
              "      <td>1838</td>\n",
              "    </tr>\n",
              "    <tr>\n",
              "      <th>203888</th>\n",
              "      <td>1863</td>\n",
              "    </tr>\n",
              "  </tbody>\n",
              "</table>\n",
              "<p>500 rows × 1 columns</p>\n",
              "</div>"
            ],
            "text/plain": [
              "               0\n",
              "Identifier      \n",
              "206         1879\n",
              "216         1868\n",
              "218         1869\n",
              "472         1851\n",
              "480         1857\n",
              "...          ...\n",
              "199977      1870\n",
              "201740      1870\n",
              "203445      1846\n",
              "203579      1838\n",
              "203888      1863\n",
              "\n",
              "[500 rows x 1 columns]"
            ]
          },
          "metadata": {},
          "execution_count": 168
        }
      ]
    },
    {
      "cell_type": "code",
      "metadata": {
        "id": "MJr8etiWjACi"
      },
      "source": [
        ""
      ],
      "execution_count": 168,
      "outputs": []
    },
    {
      "cell_type": "code",
      "metadata": {
        "id": "fnCVEqAkjAis"
      },
      "source": [
        ""
      ],
      "execution_count": 168,
      "outputs": []
    },
    {
      "cell_type": "code",
      "metadata": {
        "id": "gxOLpuahPtoW"
      },
      "source": [
        "lst = ['[45452]', '[78939', 'd54668']\n",
        "sr = pd.Series(lst)"
      ],
      "execution_count": 169,
      "outputs": []
    },
    {
      "cell_type": "code",
      "metadata": {
        "colab": {
          "base_uri": "https://localhost:8080/",
          "height": 141
        },
        "id": "amGjZndcjA85",
        "outputId": "f5324269-010f-4960-aef1-1446ed6f531c"
      },
      "source": [
        "dd = sr.str.extract(pat = r'(\\d{4})')\n",
        "dd\n",
        "# r'^(\\d{4})'"
      ],
      "execution_count": 170,
      "outputs": [
        {
          "output_type": "execute_result",
          "data": {
            "text/html": [
              "<div>\n",
              "<style scoped>\n",
              "    .dataframe tbody tr th:only-of-type {\n",
              "        vertical-align: middle;\n",
              "    }\n",
              "\n",
              "    .dataframe tbody tr th {\n",
              "        vertical-align: top;\n",
              "    }\n",
              "\n",
              "    .dataframe thead th {\n",
              "        text-align: right;\n",
              "    }\n",
              "</style>\n",
              "<table border=\"1\" class=\"dataframe\">\n",
              "  <thead>\n",
              "    <tr style=\"text-align: right;\">\n",
              "      <th></th>\n",
              "      <th>0</th>\n",
              "    </tr>\n",
              "  </thead>\n",
              "  <tbody>\n",
              "    <tr>\n",
              "      <th>0</th>\n",
              "      <td>4545</td>\n",
              "    </tr>\n",
              "    <tr>\n",
              "      <th>1</th>\n",
              "      <td>7893</td>\n",
              "    </tr>\n",
              "    <tr>\n",
              "      <th>2</th>\n",
              "      <td>5466</td>\n",
              "    </tr>\n",
              "  </tbody>\n",
              "</table>\n",
              "</div>"
            ],
            "text/plain": [
              "      0\n",
              "0  4545\n",
              "1  7893\n",
              "2  5466"
            ]
          },
          "metadata": {},
          "execution_count": 170
        }
      ]
    },
    {
      "cell_type": "code",
      "metadata": {
        "colab": {
          "base_uri": "https://localhost:8080/"
        },
        "id": "Oe1-jehH8584",
        "outputId": "112709cd-42b0-4217-8713-66afce902787"
      },
      "source": [
        "df[\"Place of Publication\"].unique()"
      ],
      "execution_count": 171,
      "outputs": [
        {
          "output_type": "execute_result",
          "data": {
            "text/plain": [
              "array(['London', 'London; Virtue & Yorston',\n",
              "       'pp. 40. G. Bryan & Co: Oxford, 1898', 'London]', 'Coventry',\n",
              "       'Christiania', 'Firenze', 'Amsterdam', 'Savona', 'Paris',\n",
              "       'Puerto-Rico', 'New York', 'Hull', 'Oxonii', 'Milano', 'Aberdeen',\n",
              "       'Wien', 'Abingdon', 'Quebec', 'Leipzig',\n",
              "       'pp. 40. W. Cann: Plymouth, [1876?]', '1845', 'enk', 'Boston',\n",
              "       'Upsaliæ', 'Edinburgh', 'Yverdon', 'Londini', 'St. Petersburg',\n",
              "       'Berlin', 'Sceaux', 'Coblenz', 'Carlstad, Stockholm', 'Carlstad',\n",
              "       'A. Millar', 'Allahabad]', 'Stuttgart', 'D. Appleton & Co',\n",
              "       'Санктпетербургъ', 'Paisley', 'Napoli', 'Ἐν Κερκυρᾳ', 'Plymouth',\n",
              "       'Trento', 'Heilbronn', 'Torino', 'w Krakowie',\n",
              "       'Cambridge, [Mass.]', 'Bombay', 'Agen', 'Edinburgh & London',\n",
              "       'Edinburgh; John Murray', 'Philadelphia', 'Haarlem', 'Albany',\n",
              "       'Kjøbenhavn', 'Haderslev', 'Copenhague', 'Kiel',\n",
              "       'pp. vi. 216. Hatchards: London, 1888', 'Baltimore', 'S. Paulo',\n",
              "       'Londini Gothorum', 'Mamers', 'México', 'Mexico', 'Porto',\n",
              "       'Bruxelles', 'Macerata', 'Tours', 'New-York', 'J. Vincent; London',\n",
              "       'Palermo', 'Santiago', 'Edinburgh]', 'Chelmsford', 'Barcelona',\n",
              "       'Glasgow', 'Inverness', 'Jedburgh', 'Westminster', 'Andover',\n",
              "       'Lewes', 'Deventer', 'Providence', 'Frankfurt', 'Roma', 'Pescia',\n",
              "       'London?]', 'London & New York', 'Exeter', 'London; Oxford',\n",
              "       'Malton', 'Great Yarmouth', 'Chur', 'Moulins', 'Madrid',\n",
              "       'Toulouse', 'Oxford', 'Berolini', 'Lipsiae', 'Niort', 'Stockholm',\n",
              "       'Lecco', 'New York, London', 'Carlisle',\n",
              "       'pp. 64. W. Cann: Plymouth, [1870?]', 'Dieppe', 'Pest',\n",
              "       'Dorchester', 'Jenae', 'Kristiania', 'Salisbury', 'Meriden, Conn',\n",
              "       'Paris; Moulins', 'Trévoux', 'München', 'Rouen', 'Adelaide',\n",
              "       'Perth', 'Montevideo', 'T. C. Newby; London',\n",
              "       'pp. 95. Erskine Macdonald: London, 1921', 'Bath',\n",
              "       'pp. xi. 59. J. Parker & Co.: Oxford, [1900.]', 'Budapest',\n",
              "       'Québec', 'Aberdeen?', 'Kolozsvártt', 'Birmingham', 'Lee',\n",
              "       'Bristol', 'Kirkwall', 'Penzance', 'Dublin', 'Ipswich',\n",
              "       'Karlsruhe', 'Bern', 'Aarau', 'Hartford, Conn',\n",
              "       'Springfield, Mass', 'Wilno', 'Vannes', 'Basingstoke', 'Calcutta',\n",
              "       'Nairn', 'Liverpool', 'Manchester', 'Jena', 'Phila., Pa',\n",
              "       'Groningen', 'Bayonne', 'Trieste', 'xxu', 'Barton-upon-Humber',\n",
              "       'Bordeaux', 'Edinburgh; reprinted by B. Dewhirst', 'Saint-Dizier',\n",
              "       'Cooperstown, N.Y', 'Newark, N.J'], dtype=object)"
            ]
          },
          "metadata": {},
          "execution_count": 171
        }
      ]
    },
    {
      "cell_type": "code",
      "metadata": {
        "id": "7HlcWDIq9OK4",
        "colab": {
          "base_uri": "https://localhost:8080/"
        },
        "outputId": "c1970177-e5ab-49c5-894a-1cf333f21e50"
      },
      "source": [
        "len(df[\"Place of Publication\"].unique())"
      ],
      "execution_count": 172,
      "outputs": [
        {
          "output_type": "execute_result",
          "data": {
            "text/plain": [
              "160"
            ]
          },
          "metadata": {},
          "execution_count": 172
        }
      ]
    },
    {
      "cell_type": "code",
      "metadata": {
        "id": "IV4IfXnK9ZVj"
      },
      "source": [
        ""
      ],
      "execution_count": 172,
      "outputs": []
    }
  ]
}