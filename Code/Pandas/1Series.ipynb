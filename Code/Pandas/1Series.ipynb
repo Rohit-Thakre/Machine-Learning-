{
  "nbformat": 4,
  "nbformat_minor": 0,
  "metadata": {
    "kernelspec": {
      "display_name": "Python 3",
      "language": "python",
      "name": "python3"
    },
    "language_info": {
      "codemirror_mode": {
        "name": "ipython",
        "version": 3
      },
      "file_extension": ".py",
      "mimetype": "text/x-python",
      "name": "python",
      "nbconvert_exporter": "python",
      "pygments_lexer": "ipython3",
      "version": "3.9.1"
    },
    "colab": {
      "name": "1Series.ipynb",
      "provenance": [],
      "collapsed_sections": [],
      "include_colab_link": true
    }
  },
  "cells": [
    {
      "cell_type": "markdown",
      "metadata": {
        "id": "view-in-github",
        "colab_type": "text"
      },
      "source": [
        "<a href=\"https://colab.research.google.com/github/Rohit-Thakre/Machine-Learning-/blob/main/Code/Pandas/1Series.ipynb\" target=\"_parent\"><img src=\"https://colab.research.google.com/assets/colab-badge.svg\" alt=\"Open In Colab\"/></a>"
      ]
    },
    {
      "cell_type": "code",
      "metadata": {
        "id": "wNp045StGqID"
      },
      "source": [
        "import pandas as pd"
      ],
      "execution_count": 1,
      "outputs": []
    },
    {
      "cell_type": "code",
      "metadata": {
        "colab": {
          "base_uri": "https://localhost:8080/",
          "height": 36
        },
        "id": "9WxgX0XuGqIJ",
        "outputId": "11bc73fe-b792-48d1-e4f3-10c35f93a235"
      },
      "source": [
        "pd.__version__"
      ],
      "execution_count": 2,
      "outputs": [
        {
          "output_type": "execute_result",
          "data": {
            "application/vnd.google.colaboratory.intrinsic+json": {
              "type": "string"
            },
            "text/plain": [
              "'1.1.5'"
            ]
          },
          "metadata": {},
          "execution_count": 2
        }
      ]
    },
    {
      "cell_type": "code",
      "metadata": {
        "id": "YtzY-4uQHpTW"
      },
      "source": [
        "# pd.Series(data=None, index=None, dtype=None, name=None, copy=False, fastpath=False)"
      ],
      "execution_count": null,
      "outputs": []
    },
    {
      "cell_type": "code",
      "metadata": {
        "colab": {
          "base_uri": "https://localhost:8080/"
        },
        "id": "nZBpbePGGqIO",
        "outputId": "75c44695-bbe4-4ca7-ab8b-fe0d6234abe0"
      },
      "source": [
        "list = [1,6,-5,\"pandas\",12.2]\n",
        "print(list)"
      ],
      "execution_count": 3,
      "outputs": [
        {
          "output_type": "stream",
          "name": "stdout",
          "text": [
            "[1, 6, -5, 'pandas', 12.2]\n"
          ]
        }
      ]
    },
    {
      "cell_type": "code",
      "metadata": {
        "colab": {
          "base_uri": "https://localhost:8080/"
        },
        "id": "gCb4K9G5GqIQ",
        "outputId": "73d6a2fe-0429-49a9-c0d5-09f8cb277f17"
      },
      "source": [
        "pd.Series(list)"
      ],
      "execution_count": 4,
      "outputs": [
        {
          "output_type": "execute_result",
          "data": {
            "text/plain": [
              "0         1\n",
              "1         6\n",
              "2        -5\n",
              "3    pandas\n",
              "4      12.2\n",
              "dtype: object"
            ]
          },
          "metadata": {},
          "execution_count": 4
        }
      ]
    },
    {
      "cell_type": "code",
      "metadata": {
        "id": "y75BRaL7GqIR"
      },
      "source": [
        "series = pd.Series([1,2,3,4,5,6], index = [6,5,4,3,2,1],name = \"pd Serires\", dtype = str)"
      ],
      "execution_count": 5,
      "outputs": []
    },
    {
      "cell_type": "code",
      "metadata": {
        "colab": {
          "base_uri": "https://localhost:8080/"
        },
        "id": "PVLnSrcOGqIT",
        "outputId": "d4bf6d17-32dd-4010-fd6c-1015e55f8463"
      },
      "source": [
        "series"
      ],
      "execution_count": 6,
      "outputs": [
        {
          "output_type": "execute_result",
          "data": {
            "text/plain": [
              "6    1\n",
              "5    2\n",
              "4    3\n",
              "3    4\n",
              "2    5\n",
              "1    6\n",
              "Name: pd Serires, dtype: object"
            ]
          },
          "metadata": {},
          "execution_count": 6
        }
      ]
    },
    {
      "cell_type": "code",
      "metadata": {
        "colab": {
          "base_uri": "https://localhost:8080/"
        },
        "id": "Uze92Ps_GqIU",
        "outputId": "fd76a3fe-4cd3-47bb-94ac-fd50b1e5d517"
      },
      "source": [
        "empty = pd.Series([], dtype = 'float64')\n",
        "print(type(empty))\n",
        "print(empty)"
      ],
      "execution_count": 7,
      "outputs": [
        {
          "output_type": "stream",
          "name": "stdout",
          "text": [
            "<class 'pandas.core.series.Series'>\n",
            "Series([], dtype: float64)\n"
          ]
        }
      ]
    },
    {
      "cell_type": "code",
      "metadata": {
        "colab": {
          "base_uri": "https://localhost:8080/"
        },
        "id": "ghEBQZ7iGqIX",
        "outputId": "3566fbf9-9ac6-4b40-82db-9d3670a39848"
      },
      "source": [
        "data = pd.Series(0.5, index = [1,2,3,4,5],dtype = float)\n",
        "data"
      ],
      "execution_count": 8,
      "outputs": [
        {
          "output_type": "execute_result",
          "data": {
            "text/plain": [
              "1    0.5\n",
              "2    0.5\n",
              "3    0.5\n",
              "4    0.5\n",
              "5    0.5\n",
              "dtype: float64"
            ]
          },
          "metadata": {},
          "execution_count": 8
        }
      ]
    },
    {
      "cell_type": "code",
      "metadata": {
        "id": "KpNIuVk_GqIZ"
      },
      "source": [
        "a = pd.Series([1,2,3,4])"
      ],
      "execution_count": 9,
      "outputs": []
    },
    {
      "cell_type": "code",
      "metadata": {
        "colab": {
          "base_uri": "https://localhost:8080/"
        },
        "id": "lIGPxsuAGqIb",
        "outputId": "83a1aaa6-d364-486d-aac6-378354771593"
      },
      "source": [
        "max(a)"
      ],
      "execution_count": 10,
      "outputs": [
        {
          "output_type": "execute_result",
          "data": {
            "text/plain": [
              "4"
            ]
          },
          "metadata": {},
          "execution_count": 10
        }
      ]
    },
    {
      "cell_type": "code",
      "metadata": {
        "colab": {
          "base_uri": "https://localhost:8080/"
        },
        "id": "k8BVZcpEGqId",
        "outputId": "ae27153d-121f-4196-b791-a7d66f8ad23e"
      },
      "source": [
        "min(a)"
      ],
      "execution_count": 11,
      "outputs": [
        {
          "output_type": "execute_result",
          "data": {
            "text/plain": [
              "1"
            ]
          },
          "metadata": {},
          "execution_count": 11
        }
      ]
    },
    {
      "cell_type": "code",
      "metadata": {
        "id": "c4C1HBJ5GqIe"
      },
      "source": [
        "b = pd.Series([7,8,9], name = \"data values\")"
      ],
      "execution_count": 12,
      "outputs": []
    },
    {
      "cell_type": "code",
      "metadata": {
        "colab": {
          "base_uri": "https://localhost:8080/"
        },
        "id": "y3FPG8rYGqIf",
        "outputId": "f6e573ce-590a-4ac7-b951-e29d6df6a19b"
      },
      "source": [
        "print(b)"
      ],
      "execution_count": 13,
      "outputs": [
        {
          "output_type": "stream",
          "name": "stdout",
          "text": [
            "0    7\n",
            "1    8\n",
            "2    9\n",
            "Name: data values, dtype: int64\n"
          ]
        }
      ]
    },
    {
      "cell_type": "code",
      "metadata": {
        "colab": {
          "base_uri": "https://localhost:8080/"
        },
        "id": "1uFNTE1uGqIh",
        "outputId": "cbfc5f88-8d5a-49e4-e3d5-7d0b56506186"
      },
      "source": [
        "max(a)"
      ],
      "execution_count": 14,
      "outputs": [
        {
          "output_type": "execute_result",
          "data": {
            "text/plain": [
              "4"
            ]
          },
          "metadata": {},
          "execution_count": 14
        }
      ]
    },
    {
      "cell_type": "code",
      "metadata": {
        "id": "msWPIn1EGqIi"
      },
      "source": [
        ""
      ],
      "execution_count": 14,
      "outputs": []
    },
    {
      "cell_type": "code",
      "metadata": {
        "colab": {
          "base_uri": "https://localhost:8080/"
        },
        "id": "Gb1VMekpGqIi",
        "outputId": "0ca17ac5-c958-4923-ddb9-dc2721c57afb"
      },
      "source": [
        "min(b)"
      ],
      "execution_count": 15,
      "outputs": [
        {
          "output_type": "execute_result",
          "data": {
            "text/plain": [
              "7"
            ]
          },
          "metadata": {},
          "execution_count": 15
        }
      ]
    },
    {
      "cell_type": "code",
      "metadata": {
        "colab": {
          "base_uri": "https://localhost:8080/"
        },
        "id": "Yd7Zo-YGGqIj",
        "outputId": "6a920fa4-5082-4478-9701-0961ba5510cf"
      },
      "source": [
        "max(b)"
      ],
      "execution_count": 16,
      "outputs": [
        {
          "output_type": "execute_result",
          "data": {
            "text/plain": [
              "9"
            ]
          },
          "metadata": {},
          "execution_count": 16
        }
      ]
    },
    {
      "cell_type": "code",
      "metadata": {
        "colab": {
          "base_uri": "https://localhost:8080/"
        },
        "id": "JBZS7EQAIBeP",
        "outputId": "a4ab26b6-81c3-4478-8ceb-841afe0f5a18"
      },
      "source": [
        "a"
      ],
      "execution_count": 27,
      "outputs": [
        {
          "output_type": "execute_result",
          "data": {
            "text/plain": [
              "0    1\n",
              "1    2\n",
              "2    3\n",
              "3    4\n",
              "dtype: int64"
            ]
          },
          "metadata": {},
          "execution_count": 27
        }
      ]
    },
    {
      "cell_type": "code",
      "metadata": {
        "colab": {
          "base_uri": "https://localhost:8080/"
        },
        "id": "3uj_dNJHIBRr",
        "outputId": "9cfbfdc7-4d25-41c5-9d65-aa13176ef625"
      },
      "source": [
        "b"
      ],
      "execution_count": 28,
      "outputs": [
        {
          "output_type": "execute_result",
          "data": {
            "text/plain": [
              "0    7\n",
              "1    8\n",
              "2    9\n",
              "Name: data values, dtype: int64"
            ]
          },
          "metadata": {},
          "execution_count": 28
        }
      ]
    },
    {
      "cell_type": "code",
      "metadata": {
        "colab": {
          "base_uri": "https://localhost:8080/"
        },
        "id": "zIiNpCmaGqIk",
        "outputId": "7864ef63-1edc-48c4-8de5-7ed0afc3bf18"
      },
      "source": [
        "a + b"
      ],
      "execution_count": 17,
      "outputs": [
        {
          "output_type": "execute_result",
          "data": {
            "text/plain": [
              "0     8.0\n",
              "1    10.0\n",
              "2    12.0\n",
              "3     NaN\n",
              "dtype: float64"
            ]
          },
          "metadata": {},
          "execution_count": 17
        }
      ]
    },
    {
      "cell_type": "code",
      "metadata": {
        "colab": {
          "base_uri": "https://localhost:8080/"
        },
        "id": "TDTzI_cYGqIm",
        "outputId": "d3de5688-3e1a-428f-fc34-35e0c987c1ee"
      },
      "source": [
        "a[0]"
      ],
      "execution_count": 19,
      "outputs": [
        {
          "output_type": "execute_result",
          "data": {
            "text/plain": [
              "1"
            ]
          },
          "metadata": {},
          "execution_count": 19
        }
      ]
    },
    {
      "cell_type": "code",
      "metadata": {
        "colab": {
          "base_uri": "https://localhost:8080/"
        },
        "id": "rzpBctkOGqIo",
        "outputId": "6515883a-4d53-481c-d020-f4200893f068"
      },
      "source": [
        "a[0:2]"
      ],
      "execution_count": 20,
      "outputs": [
        {
          "output_type": "execute_result",
          "data": {
            "text/plain": [
              "0    1\n",
              "1    2\n",
              "dtype: int64"
            ]
          },
          "metadata": {},
          "execution_count": 20
        }
      ]
    },
    {
      "cell_type": "code",
      "metadata": {
        "colab": {
          "base_uri": "https://localhost:8080/"
        },
        "id": "mGLoGoAlGqIo",
        "outputId": "b9186083-4d57-4d62-b98f-00bf4c9375ea"
      },
      "source": [
        "a\n"
      ],
      "execution_count": 21,
      "outputs": [
        {
          "output_type": "execute_result",
          "data": {
            "text/plain": [
              "0    1\n",
              "1    2\n",
              "2    3\n",
              "3    4\n",
              "dtype: int64"
            ]
          },
          "metadata": {},
          "execution_count": 21
        }
      ]
    },
    {
      "cell_type": "code",
      "metadata": {
        "colab": {
          "base_uri": "https://localhost:8080/"
        },
        "id": "i1-q0cR8GqIp",
        "outputId": "15a11220-4377-4a50-8e89-a1b90d8ee27f"
      },
      "source": [
        "dic = pd.Series({\"name\": \"rohit\", \"class\": \"2nd year\", \"collage\" : \"GNIET\"})\n",
        "print(dic)"
      ],
      "execution_count": 22,
      "outputs": [
        {
          "output_type": "stream",
          "name": "stdout",
          "text": [
            "name          rohit\n",
            "class      2nd year\n",
            "collage       GNIET\n",
            "dtype: object\n"
          ]
        }
      ]
    },
    {
      "cell_type": "code",
      "metadata": {
        "colab": {
          "base_uri": "https://localhost:8080/"
        },
        "id": "OmGOy5_NGqIq",
        "outputId": "056c5131-e00e-4888-b2a1-064824a15fa9"
      },
      "source": [
        "series = pd.Series([1,2,3,41], index = [0,1,2,3])\n",
        "series"
      ],
      "execution_count": 23,
      "outputs": [
        {
          "output_type": "execute_result",
          "data": {
            "text/plain": [
              "0     1\n",
              "1     2\n",
              "2     3\n",
              "3    41\n",
              "dtype: int64"
            ]
          },
          "metadata": {},
          "execution_count": 23
        }
      ]
    },
    {
      "cell_type": "code",
      "metadata": {
        "id": "RI5QxIzZGqIr"
      },
      "source": [
        "# dir(pd.Series)"
      ],
      "execution_count": 24,
      "outputs": []
    },
    {
      "cell_type": "code",
      "metadata": {
        "colab": {
          "base_uri": "https://localhost:8080/"
        },
        "id": "RlW3gTbqGqIs",
        "outputId": "c301b56c-2890-43e8-ab4f-d9d3d18f2c23"
      },
      "source": [
        "series.T"
      ],
      "execution_count": 25,
      "outputs": [
        {
          "output_type": "execute_result",
          "data": {
            "text/plain": [
              "0     1\n",
              "1     2\n",
              "2     3\n",
              "3    41\n",
              "dtype: int64"
            ]
          },
          "metadata": {},
          "execution_count": 25
        }
      ]
    },
    {
      "cell_type": "code",
      "metadata": {
        "id": "a6croNAtGqIs"
      },
      "source": [
        "# pandas series to pandas numpy array\n",
        "arr = series.array"
      ],
      "execution_count": 26,
      "outputs": []
    },
    {
      "cell_type": "code",
      "metadata": {
        "colab": {
          "base_uri": "https://localhost:8080/"
        },
        "id": "Ocnkq641GqIt",
        "outputId": "fe2cd24d-1321-4283-bf9e-7b10faa3e2ae"
      },
      "source": [
        "arr"
      ],
      "execution_count": 29,
      "outputs": [
        {
          "output_type": "execute_result",
          "data": {
            "text/plain": [
              "<PandasArray>\n",
              "[1, 2, 3, 41]\n",
              "Length: 4, dtype: int64"
            ]
          },
          "metadata": {},
          "execution_count": 29
        }
      ]
    },
    {
      "cell_type": "code",
      "metadata": {
        "id": "H99BO4ukGqIt"
      },
      "source": [
        ""
      ],
      "execution_count": 26,
      "outputs": []
    }
  ]
}