{
  "nbformat": 4,
  "nbformat_minor": 0,
  "metadata": {
    "colab": {
      "name": "Preprocessing filling_values_methods.ipynb",
      "provenance": [],
      "collapsed_sections": [],
      "mount_file_id": "1h5HQ8zQcuTkkwvypulwx4_mG_habkFKu",
      "authorship_tag": "ABX9TyMC8xf+O/Vo+O9iA/yfrwMs",
      "include_colab_link": true
    },
    "kernelspec": {
      "name": "python3",
      "display_name": "Python 3"
    },
    "language_info": {
      "name": "python"
    }
  },
  "cells": [
    {
      "cell_type": "markdown",
      "metadata": {
        "id": "view-in-github",
        "colab_type": "text"
      },
      "source": [
        "<a href=\"https://colab.research.google.com/github/Rohit-Thakre/Machine-Learning-/blob/main/Code/Pandas/4Preprocessing_filling_values_methods.ipynb\" target=\"_parent\"><img src=\"https://colab.research.google.com/assets/colab-badge.svg\" alt=\"Open In Colab\"/></a>"
      ]
    },
    {
      "cell_type": "code",
      "metadata": {
        "id": "kIBZUIFUjhx1"
      },
      "source": [
        ""
      ],
      "execution_count": null,
      "outputs": []
    },
    {
      "cell_type": "markdown",
      "metadata": {
        "id": "R5RAPn7LlLg8"
      },
      "source": [
        "# in this file i'm dealing with both categorical and numerical variables\n",
        "\n",
        "##categorical variable types: \n",
        "\n",
        "1.ordinal(kind of orders, i.e Grades)\n",
        "\n",
        "2.nominal(just a variables)\n",
        "\n",
        "\n",
        "\n",
        "\n",
        "\n",
        "##numerical variable types: \n",
        "1. Continuous (float type i guess i.e 49.5)\n",
        "2. Discrete (whole no i.e 49)"
      ]
    },
    {
      "cell_type": "code",
      "metadata": {
        "id": "5kgmyyhTiMtA"
      },
      "source": [
        "# importing library \n",
        "import pandas as pd \n",
        "import numpy as np\n",
        "from sklearn.impute import SimpleImputer"
      ],
      "execution_count": 2,
      "outputs": []
    },
    {
      "cell_type": "code",
      "metadata": {
        "colab": {
          "base_uri": "https://localhost:8080/"
        },
        "id": "NzD6jYs3XgFU",
        "outputId": "2cc64984-a3d0-4ccc-a0a4-d31718ea17df"
      },
      "source": [
        "from google.colab import drive\n",
        "drive.mount('/content/drive')"
      ],
      "execution_count": 1,
      "outputs": [
        {
          "output_type": "stream",
          "name": "stdout",
          "text": [
            "Mounted at /content/drive\n"
          ]
        }
      ]
    },
    {
      "cell_type": "code",
      "metadata": {
        "id": "UzmH_Cwqic6Q"
      },
      "source": [
        "# loading dataframes\n",
        "df = pd.read_csv(\"/content/drive/MyDrive/Colab Notebooks/jupyter/Dataset /Bengaluru_House_Data.csv\", nrows = 500)"
      ],
      "execution_count": 24,
      "outputs": []
    },
    {
      "cell_type": "code",
      "metadata": {
        "id": "j5akFcAHXcY-"
      },
      "source": [
        ""
      ],
      "execution_count": 24,
      "outputs": []
    },
    {
      "cell_type": "code",
      "metadata": {
        "colab": {
          "base_uri": "https://localhost:8080/",
          "height": 204
        },
        "id": "EVPxEPZJif4h",
        "outputId": "e5516e95-284c-4668-b6e1-4d898d186c0b"
      },
      "source": [
        "df.head()"
      ],
      "execution_count": 25,
      "outputs": [
        {
          "output_type": "execute_result",
          "data": {
            "text/html": [
              "<div>\n",
              "<style scoped>\n",
              "    .dataframe tbody tr th:only-of-type {\n",
              "        vertical-align: middle;\n",
              "    }\n",
              "\n",
              "    .dataframe tbody tr th {\n",
              "        vertical-align: top;\n",
              "    }\n",
              "\n",
              "    .dataframe thead th {\n",
              "        text-align: right;\n",
              "    }\n",
              "</style>\n",
              "<table border=\"1\" class=\"dataframe\">\n",
              "  <thead>\n",
              "    <tr style=\"text-align: right;\">\n",
              "      <th></th>\n",
              "      <th>area_type</th>\n",
              "      <th>availability</th>\n",
              "      <th>location</th>\n",
              "      <th>size</th>\n",
              "      <th>society</th>\n",
              "      <th>total_sqft</th>\n",
              "      <th>bath</th>\n",
              "      <th>balcony</th>\n",
              "      <th>price</th>\n",
              "    </tr>\n",
              "  </thead>\n",
              "  <tbody>\n",
              "    <tr>\n",
              "      <th>0</th>\n",
              "      <td>Super built-up  Area</td>\n",
              "      <td>19-Dec</td>\n",
              "      <td>Electronic City Phase II</td>\n",
              "      <td>2 BHK</td>\n",
              "      <td>Coomee</td>\n",
              "      <td>1056</td>\n",
              "      <td>2.0</td>\n",
              "      <td>1.0</td>\n",
              "      <td>39.07</td>\n",
              "    </tr>\n",
              "    <tr>\n",
              "      <th>1</th>\n",
              "      <td>Plot  Area</td>\n",
              "      <td>Ready To Move</td>\n",
              "      <td>Chikka Tirupathi</td>\n",
              "      <td>4 Bedroom</td>\n",
              "      <td>Theanmp</td>\n",
              "      <td>2600</td>\n",
              "      <td>5.0</td>\n",
              "      <td>3.0</td>\n",
              "      <td>120.00</td>\n",
              "    </tr>\n",
              "    <tr>\n",
              "      <th>2</th>\n",
              "      <td>Built-up  Area</td>\n",
              "      <td>Ready To Move</td>\n",
              "      <td>Uttarahalli</td>\n",
              "      <td>3 BHK</td>\n",
              "      <td>NaN</td>\n",
              "      <td>1440</td>\n",
              "      <td>2.0</td>\n",
              "      <td>3.0</td>\n",
              "      <td>62.00</td>\n",
              "    </tr>\n",
              "    <tr>\n",
              "      <th>3</th>\n",
              "      <td>Super built-up  Area</td>\n",
              "      <td>Ready To Move</td>\n",
              "      <td>Lingadheeranahalli</td>\n",
              "      <td>3 BHK</td>\n",
              "      <td>Soiewre</td>\n",
              "      <td>1521</td>\n",
              "      <td>3.0</td>\n",
              "      <td>1.0</td>\n",
              "      <td>95.00</td>\n",
              "    </tr>\n",
              "    <tr>\n",
              "      <th>4</th>\n",
              "      <td>Super built-up  Area</td>\n",
              "      <td>Ready To Move</td>\n",
              "      <td>Kothanur</td>\n",
              "      <td>2 BHK</td>\n",
              "      <td>NaN</td>\n",
              "      <td>1200</td>\n",
              "      <td>2.0</td>\n",
              "      <td>1.0</td>\n",
              "      <td>51.00</td>\n",
              "    </tr>\n",
              "  </tbody>\n",
              "</table>\n",
              "</div>"
            ],
            "text/plain": [
              "              area_type   availability  ... balcony   price\n",
              "0  Super built-up  Area         19-Dec  ...     1.0   39.07\n",
              "1            Plot  Area  Ready To Move  ...     3.0  120.00\n",
              "2        Built-up  Area  Ready To Move  ...     3.0   62.00\n",
              "3  Super built-up  Area  Ready To Move  ...     1.0   95.00\n",
              "4  Super built-up  Area  Ready To Move  ...     1.0   51.00\n",
              "\n",
              "[5 rows x 9 columns]"
            ]
          },
          "metadata": {},
          "execution_count": 25
        }
      ]
    },
    {
      "cell_type": "code",
      "metadata": {
        "colab": {
          "base_uri": "https://localhost:8080/"
        },
        "id": "uXeb-aZ8illh",
        "outputId": "b2c99d21-4454-4d80-d235-3cb4f224ccdb"
      },
      "source": [
        "df.shape"
      ],
      "execution_count": 26,
      "outputs": [
        {
          "output_type": "execute_result",
          "data": {
            "text/plain": [
              "(500, 9)"
            ]
          },
          "metadata": {},
          "execution_count": 26
        }
      ]
    },
    {
      "cell_type": "code",
      "metadata": {
        "colab": {
          "base_uri": "https://localhost:8080/"
        },
        "id": "Wowav-Gsikcu",
        "outputId": "698d50db-c55f-4fe3-8a71-68f0fc0b7bcb"
      },
      "source": [
        "df.info()"
      ],
      "execution_count": 27,
      "outputs": [
        {
          "output_type": "stream",
          "name": "stdout",
          "text": [
            "<class 'pandas.core.frame.DataFrame'>\n",
            "RangeIndex: 500 entries, 0 to 499\n",
            "Data columns (total 9 columns):\n",
            " #   Column        Non-Null Count  Dtype  \n",
            "---  ------        --------------  -----  \n",
            " 0   area_type     500 non-null    object \n",
            " 1   availability  500 non-null    object \n",
            " 2   location      500 non-null    object \n",
            " 3   size          500 non-null    object \n",
            " 4   society       320 non-null    object \n",
            " 5   total_sqft    500 non-null    object \n",
            " 6   bath          496 non-null    float64\n",
            " 7   balcony       478 non-null    float64\n",
            " 8   price         500 non-null    float64\n",
            "dtypes: float64(3), object(6)\n",
            "memory usage: 35.3+ KB\n"
          ]
        }
      ]
    },
    {
      "cell_type": "code",
      "metadata": {
        "colab": {
          "base_uri": "https://localhost:8080/"
        },
        "id": "-1rJkBxMeJr0",
        "outputId": "ac2753d1-6d42-426d-fc9f-0dbdac8604a1"
      },
      "source": [
        "# viewing % of missing values\n",
        "df.isnull().sum()/df.shape[0] * 100"
      ],
      "execution_count": 28,
      "outputs": [
        {
          "output_type": "execute_result",
          "data": {
            "text/plain": [
              "area_type        0.0\n",
              "availability     0.0\n",
              "location         0.0\n",
              "size             0.0\n",
              "society         36.0\n",
              "total_sqft       0.0\n",
              "bath             0.8\n",
              "balcony          4.4\n",
              "price            0.0\n",
              "dtype: float64"
            ]
          },
          "metadata": {},
          "execution_count": 28
        }
      ]
    },
    {
      "cell_type": "code",
      "metadata": {
        "colab": {
          "base_uri": "https://localhost:8080/"
        },
        "id": "6Ae83i64a6OG",
        "outputId": "3563db51-abd4-4dd2-add9-93ccf8ce34ea"
      },
      "source": [
        "df.isnull().sum()"
      ],
      "execution_count": 29,
      "outputs": [
        {
          "output_type": "execute_result",
          "data": {
            "text/plain": [
              "area_type         0\n",
              "availability      0\n",
              "location          0\n",
              "size              0\n",
              "society         180\n",
              "total_sqft        0\n",
              "bath              4\n",
              "balcony          22\n",
              "price             0\n",
              "dtype: int64"
            ]
          },
          "metadata": {},
          "execution_count": 29
        }
      ]
    },
    {
      "cell_type": "code",
      "metadata": {
        "id": "6k024ohCefWz"
      },
      "source": [
        "#  this col has large no. of missing values that's why droping it from dataset\n",
        "df.drop(\"society\", axis = 1, inplace= True)"
      ],
      "execution_count": 30,
      "outputs": []
    },
    {
      "cell_type": "code",
      "metadata": {
        "colab": {
          "base_uri": "https://localhost:8080/"
        },
        "id": "NYslmUF_M7YV",
        "outputId": "6e23ed34-3e22-44b8-c9e4-e0ff382a9012"
      },
      "source": [
        "# viewing  sum of null rows in bath col\n",
        "df[\"bath\"].isnull().sum()"
      ],
      "execution_count": 31,
      "outputs": [
        {
          "output_type": "execute_result",
          "data": {
            "text/plain": [
              "4"
            ]
          },
          "metadata": {},
          "execution_count": 31
        }
      ]
    },
    {
      "cell_type": "markdown",
      "metadata": {
        "id": "m9j996Wjb5hb"
      },
      "source": [
        "#.mode()\n",
        "here bath is object data type hence i'm using mode() method for filling missing \n",
        "values"
      ]
    },
    {
      "cell_type": "code",
      "metadata": {
        "id": "l7Pt7jl8NA1W"
      },
      "source": [
        "df[\"bath\"].update(df[df[\"bath\"].isnull()].any(axis = 1).fillna(df[\"bath\"].mode()))"
      ],
      "execution_count": 32,
      "outputs": []
    },
    {
      "cell_type": "code",
      "metadata": {
        "colab": {
          "base_uri": "https://localhost:8080/"
        },
        "id": "iVFduQ1BNSJq",
        "outputId": "04d39015-d22b-4cc6-9262-6de6b442d06a"
      },
      "source": [
        "df[\"bath\"].isnull().sum()"
      ],
      "execution_count": 33,
      "outputs": [
        {
          "output_type": "execute_result",
          "data": {
            "text/plain": [
              "0"
            ]
          },
          "metadata": {},
          "execution_count": 33
        }
      ]
    },
    {
      "cell_type": "code",
      "metadata": {
        "id": "Gr9kfFb3O0XD"
      },
      "source": [
        ""
      ],
      "execution_count": 33,
      "outputs": []
    },
    {
      "cell_type": "code",
      "metadata": {
        "colab": {
          "base_uri": "https://localhost:8080/"
        },
        "id": "WRW0Lk5XQU2K",
        "outputId": "fe0a5aa4-1378-4537-e934-5ba8d0c94b8d"
      },
      "source": [
        "df[\"balcony\"].isnull().sum()"
      ],
      "execution_count": 34,
      "outputs": [
        {
          "output_type": "execute_result",
          "data": {
            "text/plain": [
              "22"
            ]
          },
          "metadata": {},
          "execution_count": 34
        }
      ]
    },
    {
      "cell_type": "code",
      "metadata": {
        "colab": {
          "base_uri": "https://localhost:8080/"
        },
        "id": "mRJo2E-QU8pa",
        "outputId": "1356eb3f-2794-4594-9df3-33259f9cb02e"
      },
      "source": [
        "# ṣelecting only these rows of balcony col which are null i.e NaN\n",
        "df[df[\"balcony\"].isnull()].any(axis = 1)"
      ],
      "execution_count": 35,
      "outputs": [
        {
          "output_type": "execute_result",
          "data": {
            "text/plain": [
              "6      True\n",
              "7      True\n",
              "9      True\n",
              "34     True\n",
              "40     True\n",
              "45     True\n",
              "56     True\n",
              "81     True\n",
              "140    True\n",
              "146    True\n",
              "149    True\n",
              "153    True\n",
              "192    True\n",
              "224    True\n",
              "258    True\n",
              "344    True\n",
              "381    True\n",
              "397    True\n",
              "411    True\n",
              "434    True\n",
              "435    True\n",
              "477    True\n",
              "dtype: bool"
            ]
          },
          "metadata": {},
          "execution_count": 35
        }
      ]
    },
    {
      "cell_type": "code",
      "metadata": {
        "id": "3SZzrwu2QcQY",
        "colab": {
          "base_uri": "https://localhost:8080/"
        },
        "outputId": "662cc0cb-59d9-46b7-ff81-2b6ae92fb44f"
      },
      "source": [
        "# assigned index of null rows of balcony column to ind (i.e index ) for future process\n",
        "ind = df[df[\"balcony\"].isnull()].any(axis = 1).index\n",
        "ind"
      ],
      "execution_count": 36,
      "outputs": [
        {
          "output_type": "execute_result",
          "data": {
            "text/plain": [
              "Int64Index([  6,   7,   9,  34,  40,  45,  56,  81, 140, 146, 149, 153, 192,\n",
              "            224, 258, 344, 381, 397, 411, 434, 435, 477],\n",
              "           dtype='int64')"
            ]
          },
          "metadata": {},
          "execution_count": 36
        }
      ]
    },
    {
      "cell_type": "code",
      "metadata": {
        "colab": {
          "base_uri": "https://localhost:8080/"
        },
        "id": "jkCXm5t6QyOI",
        "outputId": "7bc85ec4-8a36-4faa-ffcd-61faa0775d65"
      },
      "source": [
        "# viewing only these rows which is null in balcony col\n",
        "size_lst = df.loc[ind, 'size'].unique()\n",
        "df.loc[ind, 'size']"
      ],
      "execution_count": 37,
      "outputs": [
        {
          "output_type": "execute_result",
          "data": {
            "text/plain": [
              "6          4 BHK\n",
              "7          4 BHK\n",
              "9      6 Bedroom\n",
              "34         3 BHK\n",
              "40         2 BHK\n",
              "45     8 Bedroom\n",
              "56     4 Bedroom\n",
              "81     4 Bedroom\n",
              "140    8 Bedroom\n",
              "146        3 BHK\n",
              "149    6 Bedroom\n",
              "153        3 BHK\n",
              "192    4 Bedroom\n",
              "224        3 BHK\n",
              "258    5 Bedroom\n",
              "344        1 BHK\n",
              "381        2 BHK\n",
              "397        6 BHK\n",
              "411        2 BHK\n",
              "434    8 Bedroom\n",
              "435        3 BHK\n",
              "477        4 BHK\n",
              "Name: size, dtype: object"
            ]
          },
          "metadata": {},
          "execution_count": 37
        }
      ]
    },
    {
      "cell_type": "code",
      "metadata": {
        "colab": {
          "base_uri": "https://localhost:8080/"
        },
        "id": "L4gHligxnPY6",
        "outputId": "f9e05be3-18d4-4ade-c389-b7ab8fdb90ae"
      },
      "source": [
        "size_lst"
      ],
      "execution_count": 38,
      "outputs": [
        {
          "output_type": "execute_result",
          "data": {
            "text/plain": [
              "array(['4 BHK', '6 Bedroom', '3 BHK', '2 BHK', '8 Bedroom', '4 Bedroom',\n",
              "       '5 Bedroom', '1 BHK', '6 BHK'], dtype=object)"
            ]
          },
          "metadata": {},
          "execution_count": 38
        }
      ]
    },
    {
      "cell_type": "code",
      "metadata": {
        "colab": {
          "base_uri": "https://localhost:8080/"
        },
        "id": "mBShHRPAYKER",
        "outputId": "37ec994a-6d83-42dd-e3ed-e4b6b3185207"
      },
      "source": [
        "# selecting the balcony rows which has size of '4 BHK' for next procedure \n",
        "df[df.loc[:, 'size'] == '4 BHK']['balcony']"
      ],
      "execution_count": 39,
      "outputs": [
        {
          "output_type": "execute_result",
          "data": {
            "text/plain": [
              "6      NaN\n",
              "7      NaN\n",
              "30     0.0\n",
              "122    0.0\n",
              "123    2.0\n",
              "210    1.0\n",
              "222    1.0\n",
              "298    0.0\n",
              "300    2.0\n",
              "308    3.0\n",
              "337    2.0\n",
              "358    3.0\n",
              "370    2.0\n",
              "401    1.0\n",
              "403    1.0\n",
              "472    1.0\n",
              "477    NaN\n",
              "480    2.0\n",
              "485    3.0\n",
              "Name: balcony, dtype: float64"
            ]
          },
          "metadata": {},
          "execution_count": 39
        }
      ]
    },
    {
      "cell_type": "code",
      "metadata": {
        "colab": {
          "base_uri": "https://localhost:8080/"
        },
        "id": "bpFLjuVbYf5k",
        "outputId": "80149d0e-e9bf-472f-9c2e-61960b5ef110"
      },
      "source": [
        "# taking mean() of balcony rows which has size of '4BHK'\n",
        "df[df.loc[:, 'size'] == '4 BHK']['balcony'].mean()"
      ],
      "execution_count": 40,
      "outputs": [
        {
          "output_type": "execute_result",
          "data": {
            "text/plain": [
              "1.5"
            ]
          },
          "metadata": {},
          "execution_count": 40
        }
      ]
    },
    {
      "cell_type": "markdown",
      "metadata": {
        "id": "I8297JKFZSuV"
      },
      "source": [
        "# filling values by class \n",
        "by class's mean, it also could be median"
      ]
    },
    {
      "cell_type": "code",
      "metadata": {
        "id": "_F526ozQShxw"
      },
      "source": [
        "df.update(df[df.loc[:, 'size'] == '4 BHK'][\"balcony\"].replace(np.nan,df[df.loc[:, 'size'] == '4 BHK']['balcony'].mean() ))\n",
        "# here .replace() method's inplce = True is not working, that's why used .update() method"
      ],
      "execution_count": 41,
      "outputs": []
    },
    {
      "cell_type": "code",
      "metadata": {
        "colab": {
          "base_uri": "https://localhost:8080/"
        },
        "id": "rvJMQn0gWCxf",
        "outputId": "c5106f15-90f9-4eb8-84de-28bebed0ae18"
      },
      "source": [
        "# checking whether changes are done or not\n",
        "# df[df[\"balcony\"].isnull()].any(axis = 1)\n",
        "df.loc[[6,7], 'balcony']"
      ],
      "execution_count": 42,
      "outputs": [
        {
          "output_type": "execute_result",
          "data": {
            "text/plain": [
              "6    1.5\n",
              "7    1.5\n",
              "Name: balcony, dtype: float64"
            ]
          },
          "metadata": {},
          "execution_count": 42
        }
      ]
    },
    {
      "cell_type": "code",
      "metadata": {
        "id": "MedsAmablZZ4"
      },
      "source": [
        "for x in size_lst: \n",
        "  df.update(df[df.loc[:, 'size'] == x][\"balcony\"].replace(np.nan,df[df.loc[:, 'size'] == x]['balcony'].mean() ))"
      ],
      "execution_count": 43,
      "outputs": []
    },
    {
      "cell_type": "code",
      "metadata": {
        "id": "57htzntIloJq",
        "colab": {
          "base_uri": "https://localhost:8080/"
        },
        "outputId": "58ed81c9-1518-4ba9-de93-bb86f40ddd61"
      },
      "source": [
        "df.info()"
      ],
      "execution_count": 44,
      "outputs": [
        {
          "output_type": "stream",
          "name": "stdout",
          "text": [
            "<class 'pandas.core.frame.DataFrame'>\n",
            "RangeIndex: 500 entries, 0 to 499\n",
            "Data columns (total 8 columns):\n",
            " #   Column        Non-Null Count  Dtype  \n",
            "---  ------        --------------  -----  \n",
            " 0   area_type     500 non-null    object \n",
            " 1   availability  500 non-null    object \n",
            " 2   location      500 non-null    object \n",
            " 3   size          500 non-null    object \n",
            " 4   total_sqft    500 non-null    object \n",
            " 5   bath          500 non-null    object \n",
            " 6   balcony       500 non-null    float64\n",
            " 7   price         500 non-null    float64\n",
            "dtypes: float64(2), object(6)\n",
            "memory usage: 31.4+ KB\n"
          ]
        }
      ]
    },
    {
      "cell_type": "code",
      "metadata": {
        "id": "ppQ2bkcEpeo7"
      },
      "source": [
        ""
      ],
      "execution_count": 44,
      "outputs": []
    },
    {
      "cell_type": "code",
      "metadata": {
        "id": "ABKgKtG7pell"
      },
      "source": [
        ""
      ],
      "execution_count": 44,
      "outputs": []
    },
    {
      "cell_type": "code",
      "metadata": {
        "id": "JJIMY3FiQCPa"
      },
      "source": [
        ""
      ],
      "execution_count": 44,
      "outputs": []
    },
    {
      "cell_type": "markdown",
      "metadata": {
        "id": "BU92d8KWQdC6"
      },
      "source": [
        "#filling null Float64 data type using mean() method \n",
        "mean() is kind of average, which sums all values and divide it by no. of values\n"
      ]
    },
    {
      "cell_type": "code",
      "metadata": {
        "id": "ClystZwacKsW"
      },
      "source": [
        "df = pd.read_csv(\"/content/drive/MyDrive/Colab Notebooks/jupyter/Dataset /Bengaluru_House_Data.csv\", nrows = 1000)"
      ],
      "execution_count": 46,
      "outputs": []
    },
    {
      "cell_type": "code",
      "metadata": {
        "colab": {
          "base_uri": "https://localhost:8080/"
        },
        "id": "zazOJUcTQYLn",
        "outputId": "99b55a97-a674-4da1-87a4-aead0668604b"
      },
      "source": [
        "df.info()"
      ],
      "execution_count": 47,
      "outputs": [
        {
          "output_type": "stream",
          "name": "stdout",
          "text": [
            "<class 'pandas.core.frame.DataFrame'>\n",
            "RangeIndex: 1000 entries, 0 to 999\n",
            "Data columns (total 9 columns):\n",
            " #   Column        Non-Null Count  Dtype  \n",
            "---  ------        --------------  -----  \n",
            " 0   area_type     1000 non-null   object \n",
            " 1   availability  1000 non-null   object \n",
            " 2   location      999 non-null    object \n",
            " 3   size          999 non-null    object \n",
            " 4   society       605 non-null    object \n",
            " 5   total_sqft    1000 non-null   object \n",
            " 6   bath          991 non-null    float64\n",
            " 7   balcony       951 non-null    float64\n",
            " 8   price         1000 non-null   float64\n",
            "dtypes: float64(3), object(6)\n",
            "memory usage: 70.4+ KB\n"
          ]
        }
      ]
    },
    {
      "cell_type": "code",
      "metadata": {
        "colab": {
          "base_uri": "https://localhost:8080/"
        },
        "id": "HGOIKmWDQsWf",
        "outputId": "a1cf6086-e7b8-496e-ff6d-2c1d29adb489"
      },
      "source": [
        "df[\"balcony\"].isnull().sum()"
      ],
      "execution_count": 48,
      "outputs": [
        {
          "output_type": "execute_result",
          "data": {
            "text/plain": [
              "49"
            ]
          },
          "metadata": {},
          "execution_count": 48
        }
      ]
    },
    {
      "cell_type": "code",
      "metadata": {
        "id": "6GN2e3wQQ0Kf"
      },
      "source": [
        "df['balcony'].fillna(df['balcony'].mean(), inplace = True)"
      ],
      "execution_count": 49,
      "outputs": []
    },
    {
      "cell_type": "code",
      "metadata": {
        "colab": {
          "base_uri": "https://localhost:8080/"
        },
        "id": "TbDNsBzGRAwy",
        "outputId": "7f192482-961f-488f-d45f-4b8e3281ec8a"
      },
      "source": [
        "df.isnull().sum()"
      ],
      "execution_count": 50,
      "outputs": [
        {
          "output_type": "execute_result",
          "data": {
            "text/plain": [
              "area_type         0\n",
              "availability      0\n",
              "location          1\n",
              "size              1\n",
              "society         395\n",
              "total_sqft        0\n",
              "bath              9\n",
              "balcony           0\n",
              "price             0\n",
              "dtype: int64"
            ]
          },
          "metadata": {},
          "execution_count": 50
        }
      ]
    },
    {
      "cell_type": "code",
      "metadata": {
        "id": "msdDKdohRCtI"
      },
      "source": [
        ""
      ],
      "execution_count": null,
      "outputs": []
    },
    {
      "cell_type": "code",
      "metadata": {
        "id": "ENyHHWT_R1ep"
      },
      "source": [
        ""
      ],
      "execution_count": null,
      "outputs": []
    },
    {
      "cell_type": "markdown",
      "metadata": {
        "id": "kiIW8h_kR24h"
      },
      "source": [
        "#filling null Float64 data type using median() method \n",
        "median() method  takes middle value of given series \n"
      ]
    },
    {
      "cell_type": "code",
      "metadata": {
        "colab": {
          "base_uri": "https://localhost:8080/"
        },
        "id": "xTH_ytk3R3Yr",
        "outputId": "f1b10920-0572-404c-c67e-abb2b6ed2b16"
      },
      "source": [
        "df.info()"
      ],
      "execution_count": 51,
      "outputs": [
        {
          "output_type": "stream",
          "name": "stdout",
          "text": [
            "<class 'pandas.core.frame.DataFrame'>\n",
            "RangeIndex: 1000 entries, 0 to 999\n",
            "Data columns (total 9 columns):\n",
            " #   Column        Non-Null Count  Dtype  \n",
            "---  ------        --------------  -----  \n",
            " 0   area_type     1000 non-null   object \n",
            " 1   availability  1000 non-null   object \n",
            " 2   location      999 non-null    object \n",
            " 3   size          999 non-null    object \n",
            " 4   society       605 non-null    object \n",
            " 5   total_sqft    1000 non-null   object \n",
            " 6   bath          991 non-null    float64\n",
            " 7   balcony       1000 non-null   float64\n",
            " 8   price         1000 non-null   float64\n",
            "dtypes: float64(3), object(6)\n",
            "memory usage: 70.4+ KB\n"
          ]
        }
      ]
    },
    {
      "cell_type": "code",
      "metadata": {
        "colab": {
          "base_uri": "https://localhost:8080/"
        },
        "id": "vt0XFiVMSK1n",
        "outputId": "92339dd7-030c-44bc-96d7-3ef18b57a758"
      },
      "source": [
        "df[\"bath\"].isnull().sum()"
      ],
      "execution_count": 52,
      "outputs": [
        {
          "output_type": "execute_result",
          "data": {
            "text/plain": [
              "9"
            ]
          },
          "metadata": {},
          "execution_count": 52
        }
      ]
    },
    {
      "cell_type": "code",
      "metadata": {
        "id": "7Kj_ullbSQcS"
      },
      "source": [
        "df['bath'].fillna(df['bath'].median(), inplace = True)"
      ],
      "execution_count": 53,
      "outputs": []
    },
    {
      "cell_type": "code",
      "metadata": {
        "colab": {
          "base_uri": "https://localhost:8080/"
        },
        "id": "yg-Sdv3aSd8B",
        "outputId": "ab996c64-de97-407e-aec8-88bf2f76e33e"
      },
      "source": [
        "df['bath'].isnull().sum()"
      ],
      "execution_count": 54,
      "outputs": [
        {
          "output_type": "execute_result",
          "data": {
            "text/plain": [
              "0"
            ]
          },
          "metadata": {},
          "execution_count": 54
        }
      ]
    },
    {
      "cell_type": "code",
      "metadata": {
        "id": "BJel_yKbSh6B"
      },
      "source": [
        ""
      ],
      "execution_count": 54,
      "outputs": []
    },
    {
      "cell_type": "markdown",
      "metadata": {
        "id": "Sod9k1osSv52"
      },
      "source": [
        "#mode() method for filling categorical variables\n",
        "mode() method takes the values as mode values which appeared most in the given series"
      ]
    },
    {
      "cell_type": "code",
      "metadata": {
        "colab": {
          "base_uri": "https://localhost:8080/"
        },
        "id": "lqDVJ1WvTBxT",
        "outputId": "6a5dabba-1d90-4a14-8eb1-a74e0c9dad3c"
      },
      "source": [
        "df.info()"
      ],
      "execution_count": 55,
      "outputs": [
        {
          "output_type": "stream",
          "name": "stdout",
          "text": [
            "<class 'pandas.core.frame.DataFrame'>\n",
            "RangeIndex: 1000 entries, 0 to 999\n",
            "Data columns (total 9 columns):\n",
            " #   Column        Non-Null Count  Dtype  \n",
            "---  ------        --------------  -----  \n",
            " 0   area_type     1000 non-null   object \n",
            " 1   availability  1000 non-null   object \n",
            " 2   location      999 non-null    object \n",
            " 3   size          999 non-null    object \n",
            " 4   society       605 non-null    object \n",
            " 5   total_sqft    1000 non-null   object \n",
            " 6   bath          1000 non-null   float64\n",
            " 7   balcony       1000 non-null   float64\n",
            " 8   price         1000 non-null   float64\n",
            "dtypes: float64(3), object(6)\n",
            "memory usage: 70.4+ KB\n"
          ]
        }
      ]
    },
    {
      "cell_type": "code",
      "metadata": {
        "id": "KnAGM5fxTEfo"
      },
      "source": [
        "# here location col has null values and i'm filling it by mode() method, for location this operation should not be done, but still i'm doing this \n",
        "# for testing my skills "
      ],
      "execution_count": 56,
      "outputs": []
    },
    {
      "cell_type": "code",
      "metadata": {
        "colab": {
          "base_uri": "https://localhost:8080/"
        },
        "id": "fwWZKPGdTjRm",
        "outputId": "da354fb9-6089-4f9c-f933-a24b60175672"
      },
      "source": [
        "df['location'].isnull().sum()"
      ],
      "execution_count": 57,
      "outputs": [
        {
          "output_type": "execute_result",
          "data": {
            "text/plain": [
              "1"
            ]
          },
          "metadata": {},
          "execution_count": 57
        }
      ]
    },
    {
      "cell_type": "code",
      "metadata": {
        "colab": {
          "base_uri": "https://localhost:8080/"
        },
        "id": "o93CPMuNTn-e",
        "outputId": "131025e3-b98e-44e3-a5be-f1896ebf3b35"
      },
      "source": [
        "df['location'].value_counts()"
      ],
      "execution_count": 58,
      "outputs": [
        {
          "output_type": "execute_result",
          "data": {
            "text/plain": [
              "Whitefield              39\n",
              "Electronic City         31\n",
              "Sarjapur  Road          23\n",
              "Kanakpura Road          20\n",
              "Marathahalli            19\n",
              "                        ..\n",
              "Maragondanahalli         1\n",
              "sapthagiri Layout        1\n",
              "Ring Road Nagarbhavi     1\n",
              "HBR Layout               1\n",
              "Coffee Board Layout      1\n",
              "Name: location, Length: 392, dtype: int64"
            ]
          },
          "metadata": {},
          "execution_count": 58
        }
      ]
    },
    {
      "cell_type": "code",
      "metadata": {
        "colab": {
          "base_uri": "https://localhost:8080/"
        },
        "id": "SD6_tARddb_e",
        "outputId": "462c2c92-7a42-4052-b3f9-af9e9ed536d0"
      },
      "source": [
        "df['location'].mode()"
      ],
      "execution_count": 62,
      "outputs": [
        {
          "output_type": "execute_result",
          "data": {
            "text/plain": [
              "0    Whitefield\n",
              "dtype: object"
            ]
          },
          "metadata": {},
          "execution_count": 62
        }
      ]
    },
    {
      "cell_type": "code",
      "metadata": {
        "id": "cpdukSc9TtaW"
      },
      "source": [
        "df['location'].fillna('Whitefield  ', inplace= True)"
      ],
      "execution_count": 59,
      "outputs": []
    },
    {
      "cell_type": "code",
      "metadata": {
        "colab": {
          "base_uri": "https://localhost:8080/"
        },
        "id": "9PW4a8V-T7fU",
        "outputId": "8cff0c2f-4210-4833-dd26-13c36e33ccc3"
      },
      "source": [
        "df['location'].isnull().sum()"
      ],
      "execution_count": 60,
      "outputs": [
        {
          "output_type": "execute_result",
          "data": {
            "text/plain": [
              "0"
            ]
          },
          "metadata": {},
          "execution_count": 60
        }
      ]
    },
    {
      "cell_type": "code",
      "metadata": {
        "id": "aHs3xepiUWZY"
      },
      "source": [
        ""
      ],
      "execution_count": null,
      "outputs": []
    },
    {
      "cell_type": "code",
      "metadata": {
        "id": "hefGYhdrVVKI"
      },
      "source": [
        ""
      ],
      "execution_count": null,
      "outputs": []
    },
    {
      "cell_type": "markdown",
      "metadata": {
        "id": "UWTkAwU6VV0b"
      },
      "source": [
        "# filling null values by scikit learn library \n",
        "from sklearn.impute import SimpleImputer\n",
        "\n",
        "again filling filled null values"
      ]
    },
    {
      "cell_type": "code",
      "metadata": {
        "colab": {
          "base_uri": "https://localhost:8080/"
        },
        "id": "FLaHb_3NVesR",
        "outputId": "3327843e-75ba-48df-de66-0304ce9cf273"
      },
      "source": [
        "df.info()"
      ],
      "execution_count": 63,
      "outputs": [
        {
          "output_type": "stream",
          "name": "stdout",
          "text": [
            "<class 'pandas.core.frame.DataFrame'>\n",
            "RangeIndex: 1000 entries, 0 to 999\n",
            "Data columns (total 9 columns):\n",
            " #   Column        Non-Null Count  Dtype  \n",
            "---  ------        --------------  -----  \n",
            " 0   area_type     1000 non-null   object \n",
            " 1   availability  1000 non-null   object \n",
            " 2   location      1000 non-null   object \n",
            " 3   size          999 non-null    object \n",
            " 4   society       605 non-null    object \n",
            " 5   total_sqft    1000 non-null   object \n",
            " 6   bath          1000 non-null   float64\n",
            " 7   balcony       1000 non-null   float64\n",
            " 8   price         1000 non-null   float64\n",
            "dtypes: float64(3), object(6)\n",
            "memory usage: 70.4+ KB\n"
          ]
        }
      ]
    },
    {
      "cell_type": "code",
      "metadata": {
        "id": "XHvVnVrMWFza"
      },
      "source": [
        "imputer = SimpleImputer(missing_values=np.nan, strategy='mean')"
      ],
      "execution_count": 64,
      "outputs": []
    },
    {
      "cell_type": "code",
      "metadata": {
        "id": "ABrUkOhZXWnc",
        "colab": {
          "base_uri": "https://localhost:8080/"
        },
        "outputId": "4a133ea2-b63d-4100-e69f-8aa0f52ebd1b"
      },
      "source": [
        "num_cols = df.select_dtypes(include=['int64', 'float64']).columns\n",
        "num_cols"
      ],
      "execution_count": 65,
      "outputs": [
        {
          "output_type": "execute_result",
          "data": {
            "text/plain": [
              "Index(['bath', 'balcony', 'price'], dtype='object')"
            ]
          },
          "metadata": {},
          "execution_count": 65
        }
      ]
    },
    {
      "cell_type": "code",
      "metadata": {
        "id": "jMbkd8JUWxxe"
      },
      "source": [
        "imputer_ar= imputer.fit_transform(df[num_cols])"
      ],
      "execution_count": 66,
      "outputs": []
    },
    {
      "cell_type": "code",
      "metadata": {
        "colab": {
          "base_uri": "https://localhost:8080/"
        },
        "id": "WxTu7bnUW9KX",
        "outputId": "db13d1a3-0c32-45cd-9cf0-14b74efd3c27"
      },
      "source": [
        "imputer_ar"
      ],
      "execution_count": 67,
      "outputs": [
        {
          "output_type": "execute_result",
          "data": {
            "text/plain": [
              "array([[  2.  ,   1.  ,  39.07],\n",
              "       [  5.  ,   3.  , 120.  ],\n",
              "       [  2.  ,   3.  ,  62.  ],\n",
              "       ...,\n",
              "       [  3.  ,   1.  ,  56.12],\n",
              "       [  2.  ,   2.  ,  67.  ],\n",
              "       [  4.  ,   2.  , 145.  ]])"
            ]
          },
          "metadata": {},
          "execution_count": 67
        }
      ]
    },
    {
      "cell_type": "code",
      "metadata": {
        "id": "zFTjMJnbXvZr"
      },
      "source": [
        "imputed_df_num = pd.DataFrame(imputer_ar, columns = num_cols)"
      ],
      "execution_count": 68,
      "outputs": []
    },
    {
      "cell_type": "code",
      "metadata": {
        "colab": {
          "base_uri": "https://localhost:8080/",
          "height": 418
        },
        "id": "WvmF6Ge8X-SQ",
        "outputId": "a2cfa08f-e9a4-4574-d6d5-67ac7357a039"
      },
      "source": [
        "imputed_df_num"
      ],
      "execution_count": 69,
      "outputs": [
        {
          "output_type": "execute_result",
          "data": {
            "text/html": [
              "<div>\n",
              "<style scoped>\n",
              "    .dataframe tbody tr th:only-of-type {\n",
              "        vertical-align: middle;\n",
              "    }\n",
              "\n",
              "    .dataframe tbody tr th {\n",
              "        vertical-align: top;\n",
              "    }\n",
              "\n",
              "    .dataframe thead th {\n",
              "        text-align: right;\n",
              "    }\n",
              "</style>\n",
              "<table border=\"1\" class=\"dataframe\">\n",
              "  <thead>\n",
              "    <tr style=\"text-align: right;\">\n",
              "      <th></th>\n",
              "      <th>bath</th>\n",
              "      <th>balcony</th>\n",
              "      <th>price</th>\n",
              "    </tr>\n",
              "  </thead>\n",
              "  <tbody>\n",
              "    <tr>\n",
              "      <th>0</th>\n",
              "      <td>2.0</td>\n",
              "      <td>1.0</td>\n",
              "      <td>39.07</td>\n",
              "    </tr>\n",
              "    <tr>\n",
              "      <th>1</th>\n",
              "      <td>5.0</td>\n",
              "      <td>3.0</td>\n",
              "      <td>120.00</td>\n",
              "    </tr>\n",
              "    <tr>\n",
              "      <th>2</th>\n",
              "      <td>2.0</td>\n",
              "      <td>3.0</td>\n",
              "      <td>62.00</td>\n",
              "    </tr>\n",
              "    <tr>\n",
              "      <th>3</th>\n",
              "      <td>3.0</td>\n",
              "      <td>1.0</td>\n",
              "      <td>95.00</td>\n",
              "    </tr>\n",
              "    <tr>\n",
              "      <th>4</th>\n",
              "      <td>2.0</td>\n",
              "      <td>1.0</td>\n",
              "      <td>51.00</td>\n",
              "    </tr>\n",
              "    <tr>\n",
              "      <th>...</th>\n",
              "      <td>...</td>\n",
              "      <td>...</td>\n",
              "      <td>...</td>\n",
              "    </tr>\n",
              "    <tr>\n",
              "      <th>995</th>\n",
              "      <td>2.0</td>\n",
              "      <td>2.0</td>\n",
              "      <td>80.00</td>\n",
              "    </tr>\n",
              "    <tr>\n",
              "      <th>996</th>\n",
              "      <td>1.0</td>\n",
              "      <td>0.0</td>\n",
              "      <td>20.00</td>\n",
              "    </tr>\n",
              "    <tr>\n",
              "      <th>997</th>\n",
              "      <td>3.0</td>\n",
              "      <td>1.0</td>\n",
              "      <td>56.12</td>\n",
              "    </tr>\n",
              "    <tr>\n",
              "      <th>998</th>\n",
              "      <td>2.0</td>\n",
              "      <td>2.0</td>\n",
              "      <td>67.00</td>\n",
              "    </tr>\n",
              "    <tr>\n",
              "      <th>999</th>\n",
              "      <td>4.0</td>\n",
              "      <td>2.0</td>\n",
              "      <td>145.00</td>\n",
              "    </tr>\n",
              "  </tbody>\n",
              "</table>\n",
              "<p>1000 rows × 3 columns</p>\n",
              "</div>"
            ],
            "text/plain": [
              "     bath  balcony   price\n",
              "0     2.0      1.0   39.07\n",
              "1     5.0      3.0  120.00\n",
              "2     2.0      3.0   62.00\n",
              "3     3.0      1.0   95.00\n",
              "4     2.0      1.0   51.00\n",
              "..    ...      ...     ...\n",
              "995   2.0      2.0   80.00\n",
              "996   1.0      0.0   20.00\n",
              "997   3.0      1.0   56.12\n",
              "998   2.0      2.0   67.00\n",
              "999   4.0      2.0  145.00\n",
              "\n",
              "[1000 rows x 3 columns]"
            ]
          },
          "metadata": {},
          "execution_count": 69
        }
      ]
    },
    {
      "cell_type": "code",
      "metadata": {
        "id": "yZObcE2wYA3G"
      },
      "source": [
        "# making changes in origional dataset\n",
        "df[num_cols] = imputed_df_num"
      ],
      "execution_count": 70,
      "outputs": []
    },
    {
      "cell_type": "code",
      "metadata": {
        "colab": {
          "base_uri": "https://localhost:8080/"
        },
        "id": "E4gBElqcYSnC",
        "outputId": "26633d89-6345-4dc6-f5b6-54dc81c08a4a"
      },
      "source": [
        "df.info()"
      ],
      "execution_count": 71,
      "outputs": [
        {
          "output_type": "stream",
          "name": "stdout",
          "text": [
            "<class 'pandas.core.frame.DataFrame'>\n",
            "RangeIndex: 1000 entries, 0 to 999\n",
            "Data columns (total 9 columns):\n",
            " #   Column        Non-Null Count  Dtype  \n",
            "---  ------        --------------  -----  \n",
            " 0   area_type     1000 non-null   object \n",
            " 1   availability  1000 non-null   object \n",
            " 2   location      1000 non-null   object \n",
            " 3   size          999 non-null    object \n",
            " 4   society       605 non-null    object \n",
            " 5   total_sqft    1000 non-null   object \n",
            " 6   bath          1000 non-null   float64\n",
            " 7   balcony       1000 non-null   float64\n",
            " 8   price         1000 non-null   float64\n",
            "dtypes: float64(3), object(6)\n",
            "memory usage: 70.4+ KB\n"
          ]
        }
      ]
    },
    {
      "cell_type": "code",
      "metadata": {
        "id": "Cr-IqV-yYUsu"
      },
      "source": [
        "# now filling object cols"
      ],
      "execution_count": 72,
      "outputs": []
    },
    {
      "cell_type": "code",
      "metadata": {
        "id": "es-Fr1RHZFWF"
      },
      "source": [
        "imputer2 = SimpleImputer(missing_values=np.nan, strategy='most_frequent')"
      ],
      "execution_count": 73,
      "outputs": []
    },
    {
      "cell_type": "code",
      "metadata": {
        "id": "7eelR9E4Zgfj"
      },
      "source": [
        "obj_cols =df.select_dtypes(include='object').columns"
      ],
      "execution_count": 74,
      "outputs": []
    },
    {
      "cell_type": "code",
      "metadata": {
        "colab": {
          "base_uri": "https://localhost:8080/"
        },
        "id": "pbzwhBmlZgPe",
        "outputId": "c9a43758-91e3-43df-c026-56cd89c5b4f1"
      },
      "source": [
        "obj_cols"
      ],
      "execution_count": 75,
      "outputs": [
        {
          "output_type": "execute_result",
          "data": {
            "text/plain": [
              "Index(['area_type', 'availability', 'location', 'size', 'society',\n",
              "       'total_sqft'],\n",
              "      dtype='object')"
            ]
          },
          "metadata": {},
          "execution_count": 75
        }
      ]
    },
    {
      "cell_type": "code",
      "metadata": {
        "id": "1MJmM46tZZw-"
      },
      "source": [
        "obj_ar = imputer2.fit_transform(df[obj_cols])"
      ],
      "execution_count": 76,
      "outputs": []
    },
    {
      "cell_type": "code",
      "metadata": {
        "id": "Tnm-R5XZZv8n"
      },
      "source": [
        "obj_ar_df = pd.DataFrame(data  = obj_ar, columns = obj_cols)"
      ],
      "execution_count": 77,
      "outputs": []
    },
    {
      "cell_type": "code",
      "metadata": {
        "colab": {
          "base_uri": "https://localhost:8080/",
          "height": 204
        },
        "id": "SdgHnz24aOHb",
        "outputId": "3f7cb8cd-3d5e-45f6-abbe-1b7d727db180"
      },
      "source": [
        "obj_ar_df.head()"
      ],
      "execution_count": 78,
      "outputs": [
        {
          "output_type": "execute_result",
          "data": {
            "text/html": [
              "<div>\n",
              "<style scoped>\n",
              "    .dataframe tbody tr th:only-of-type {\n",
              "        vertical-align: middle;\n",
              "    }\n",
              "\n",
              "    .dataframe tbody tr th {\n",
              "        vertical-align: top;\n",
              "    }\n",
              "\n",
              "    .dataframe thead th {\n",
              "        text-align: right;\n",
              "    }\n",
              "</style>\n",
              "<table border=\"1\" class=\"dataframe\">\n",
              "  <thead>\n",
              "    <tr style=\"text-align: right;\">\n",
              "      <th></th>\n",
              "      <th>area_type</th>\n",
              "      <th>availability</th>\n",
              "      <th>location</th>\n",
              "      <th>size</th>\n",
              "      <th>society</th>\n",
              "      <th>total_sqft</th>\n",
              "    </tr>\n",
              "  </thead>\n",
              "  <tbody>\n",
              "    <tr>\n",
              "      <th>0</th>\n",
              "      <td>Super built-up  Area</td>\n",
              "      <td>19-Dec</td>\n",
              "      <td>Electronic City Phase II</td>\n",
              "      <td>2 BHK</td>\n",
              "      <td>Coomee</td>\n",
              "      <td>1056</td>\n",
              "    </tr>\n",
              "    <tr>\n",
              "      <th>1</th>\n",
              "      <td>Plot  Area</td>\n",
              "      <td>Ready To Move</td>\n",
              "      <td>Chikka Tirupathi</td>\n",
              "      <td>4 Bedroom</td>\n",
              "      <td>Theanmp</td>\n",
              "      <td>2600</td>\n",
              "    </tr>\n",
              "    <tr>\n",
              "      <th>2</th>\n",
              "      <td>Built-up  Area</td>\n",
              "      <td>Ready To Move</td>\n",
              "      <td>Uttarahalli</td>\n",
              "      <td>3 BHK</td>\n",
              "      <td>GrrvaGr</td>\n",
              "      <td>1440</td>\n",
              "    </tr>\n",
              "    <tr>\n",
              "      <th>3</th>\n",
              "      <td>Super built-up  Area</td>\n",
              "      <td>Ready To Move</td>\n",
              "      <td>Lingadheeranahalli</td>\n",
              "      <td>3 BHK</td>\n",
              "      <td>Soiewre</td>\n",
              "      <td>1521</td>\n",
              "    </tr>\n",
              "    <tr>\n",
              "      <th>4</th>\n",
              "      <td>Super built-up  Area</td>\n",
              "      <td>Ready To Move</td>\n",
              "      <td>Kothanur</td>\n",
              "      <td>2 BHK</td>\n",
              "      <td>GrrvaGr</td>\n",
              "      <td>1200</td>\n",
              "    </tr>\n",
              "  </tbody>\n",
              "</table>\n",
              "</div>"
            ],
            "text/plain": [
              "              area_type   availability  ...  society total_sqft\n",
              "0  Super built-up  Area         19-Dec  ...  Coomee        1056\n",
              "1            Plot  Area  Ready To Move  ...  Theanmp       2600\n",
              "2        Built-up  Area  Ready To Move  ...  GrrvaGr       1440\n",
              "3  Super built-up  Area  Ready To Move  ...  Soiewre       1521\n",
              "4  Super built-up  Area  Ready To Move  ...  GrrvaGr       1200\n",
              "\n",
              "[5 rows x 6 columns]"
            ]
          },
          "metadata": {},
          "execution_count": 78
        }
      ]
    },
    {
      "cell_type": "code",
      "metadata": {
        "id": "kgSsadrtaQEI"
      },
      "source": [
        "# making change in origional dataframe\n",
        "df[obj_cols] = obj_ar_df"
      ],
      "execution_count": 79,
      "outputs": []
    },
    {
      "cell_type": "code",
      "metadata": {
        "colab": {
          "base_uri": "https://localhost:8080/"
        },
        "id": "nKZCSox1adFw",
        "outputId": "0fc832e7-ba65-4d29-e419-3b765ed4a61b"
      },
      "source": [
        "df.info()"
      ],
      "execution_count": 80,
      "outputs": [
        {
          "output_type": "stream",
          "name": "stdout",
          "text": [
            "<class 'pandas.core.frame.DataFrame'>\n",
            "RangeIndex: 1000 entries, 0 to 999\n",
            "Data columns (total 9 columns):\n",
            " #   Column        Non-Null Count  Dtype  \n",
            "---  ------        --------------  -----  \n",
            " 0   area_type     1000 non-null   object \n",
            " 1   availability  1000 non-null   object \n",
            " 2   location      1000 non-null   object \n",
            " 3   size          1000 non-null   object \n",
            " 4   society       1000 non-null   object \n",
            " 5   total_sqft    1000 non-null   object \n",
            " 6   bath          1000 non-null   float64\n",
            " 7   balcony       1000 non-null   float64\n",
            " 8   price         1000 non-null   float64\n",
            "dtypes: float64(3), object(6)\n",
            "memory usage: 70.4+ KB\n"
          ]
        }
      ]
    },
    {
      "cell_type": "code",
      "metadata": {
        "id": "B-sloNHyaec2"
      },
      "source": [
        ""
      ],
      "execution_count": null,
      "outputs": []
    }
  ]
}